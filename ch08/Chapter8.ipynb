{
  "nbformat": 4,
  "nbformat_minor": 0,
  "metadata": {
    "colab": {
      "name": "Chapter8.ipynb",
      "provenance": [],
      "collapsed_sections": []
    },
    "kernelspec": {
      "name": "python3",
      "display_name": "Python 3"
    },
    "language_info": {
      "name": "python"
    }
  },
  "cells": [
    {
      "cell_type": "code",
      "metadata": {
        "id": "Fd5cmZ1IC7Hq"
      },
      "source": [
        "!pip install adversarial-robustness-toolbox"
      ],
      "execution_count": null,
      "outputs": []
    },
    {
      "cell_type": "code",
      "metadata": {
        "id": "xmIn56_QCrdO"
      },
      "source": [
        "import numpy as np\n",
        "import tensorflow as tf\n",
        "tf.compat.v1.disable_eager_execution()\n",
        "from tensorflow.keras.layers import Conv2D, Dense, Flatten, MaxPooling2D, Dropout\n",
        "from tensorflow.keras.models import Sequential\n",
        "from tensorflow.keras.losses import categorical_crossentropy\n",
        "from tensorflow.keras.optimizers import Adam\n",
        "\n",
        "# ラッパーおよびユーティリティをインポートする\n",
        "from art.estimators.classification.keras import KerasClassifier\n",
        "from art.utils import load_mnist\n",
        "\n",
        "# MNISTデータセットをロードする\n",
        "(X_train, y_train), (X_test, y_test), \\\n",
        "    min_pixel_value, max_pixel_value = load_mnist()\n",
        "\n",
        "nb_classes=10\n",
        "\n",
        "# 攻撃対象のモデルを定義する\n",
        "model = Sequential()\n",
        "model.add(Conv2D(1,kernel_size=(7, 7), activation='relu', \n",
        "                 input_shape=(28, 28, 1)))\n",
        "model.add(MaxPooling2D(pool_size=(4, 4)))\n",
        "model.add(Flatten())\n",
        "model.add(Dense(nb_classes, activation='softmax'))\n",
        "model.compile(loss=categorical_crossentropy,\n",
        "              optimizer=Adam(learning_rate=0.01),\n",
        "              metrics=['accuracy'])\n",
        "\n",
        "victim_classifier = KerasClassifier(model,\n",
        "                                    clip_values=(0, 1), \n",
        "                                    use_logits=False)\n",
        "victim_classifier.fit(X_train, y_train, nb_epochs=5, batch_size=128)"
      ],
      "execution_count": null,
      "outputs": []
    },
    {
      "cell_type": "code",
      "metadata": {
        "id": "yymeyStHC0En"
      },
      "source": [
        "# 窃取先のモデルの雛形を定義する\n",
        "model = Sequential()\n",
        "model.add(Conv2D(32, kernel_size=(3, 3), activation='relu', \n",
        "                 input_shape=(28, 28, 1)))\n",
        "model.add(Conv2D(64, (3, 3), activation='relu'))\n",
        "model.add(MaxPooling2D(pool_size=(2, 2)))\n",
        "model.add(Dropout(0.5))\n",
        "model.add(Flatten())\n",
        "model.add(Dense(128, activation='relu'))\n",
        "model.add(Dropout(0.5))\n",
        "model.add(Dense(nb_classes, activation='softmax'))\n",
        "model.compile(loss=categorical_crossentropy,\n",
        "              optimizer=Adam(learning_rate=0.01),\n",
        "              metrics=['accuracy'])\n",
        "\n",
        "thieved_classifier = KerasClassifier(model,\n",
        "                                     clip_values=(0, 1), \n",
        "                                     use_logits=False)"
      ],
      "execution_count": null,
      "outputs": []
    },
    {
      "cell_type": "code",
      "metadata": {
        "id": "RyL90X5xD8fy"
      },
      "source": [
        "# 攻撃手法をインポートする\n",
        "from art.attacks.extraction.copycat_cnn import CopycatCNN\n",
        "\n",
        "attack = CopycatCNN(classifier=victim_classifier,\n",
        "                    batch_size_fit=16,\n",
        "                    batch_size_query=16,\n",
        "                    nb_epochs=10,\n",
        "                    nb_stolen=1000)\n",
        "\n",
        "# 攻撃結果として訓練済のサロゲートモデルを得る\n",
        "thieved_classifier = attack.extract(x=X_train,\n",
        "                                    thieved_classifier=thieved_classifier)\n",
        "\n",
        "# 結果を表示する\n",
        "victim_preds = np.argmax(victim_classifier.predict(x=X_train[:100]), \n",
        "                         axis=1)\n",
        "thieved_preds = np.argmax(thieved_classifier.predict(x=X_train[:100]),\n",
        "                          axis=1)\n",
        "acc = np.sum(victim_preds == thieved_preds) / len(victim_preds)\n",
        "print('Accuracy of the surrogate model: {}%'.format(acc * 100))"
      ],
      "execution_count": null,
      "outputs": []
    },
    {
      "cell_type": "code",
      "metadata": {
        "id": "OOdX0rvHEK4r"
      },
      "source": [
        "# 改変前のX_testに対するスコアを表示する\n",
        "preds = victim_classifier.predict(X_test)\n",
        "acc = np.sum(np.argmax(preds, axis=1)\n",
        "             == np.argmax(y_test, axis=1)) / len(y_test)\n",
        "print('\\nAccuracy on benign test examples: {}%'.format(acc * 100))\n",
        "\n",
        "# 攻撃手法をインポートする\n",
        "from art.attacks.evasion import FastGradientMethod\n",
        "\n",
        "attack = FastGradientMethod(estimator=victim_classifier, eps=.1)\n",
        "\n",
        "# 攻撃の結果としてAdversarial Exampleを得る\n",
        "X_test_adv = attack.generate(x=X_test)\n",
        "\n",
        "# 改変後のX_testに対するスコアを表示する\n",
        "preds = victim_classifier.predict(X_test_adv)\n",
        "acc = np.sum(np.argmax(preds, axis=1)\n",
        "             == np.argmax(y_test, axis=1)) / len(y_test)\n",
        "print('\\nAccuracy on adversarial test examples: {}%'.format(acc * 100))\n",
        "\n",
        "# 生成したAdversarial Exampleをプロットする\n",
        "from matplotlib import pyplot as plt\n",
        "plt.matshow(X_test_adv[0, :].reshape((28, 28)))\n",
        "plt.clim(0, 1)"
      ],
      "execution_count": null,
      "outputs": []
    },
    {
      "cell_type": "code",
      "metadata": {
        "id": "jJx6xXjHEOb_"
      },
      "source": [
        "# 攻撃手法をインポートする\n",
        "from art.attacks.evasion.carlini import CarliniL2Method\n",
        "\n",
        "# ターゲット型攻撃だが、ランダムなターゲットを指定することもできる\n",
        "from art.utils import random_targets\n",
        "\n",
        "# ここではL2ノルム最小化を試みる\n",
        "attack = CarliniL2Method(classifier=victim_classifier,\n",
        "                         targeted=True,\n",
        "                         max_iter=10)\n",
        "params = {'y': random_targets(y_test, victim_classifier.nb_classes)}\n",
        "\n",
        "# 攻撃の結果としてAdversarial Exampleを得る\n",
        "X_test_adv = attack.generate(x=X_test, **params)"
      ],
      "execution_count": null,
      "outputs": []
    },
    {
      "cell_type": "code",
      "metadata": {
        "id": "nnKNXNYuEYkp"
      },
      "source": [
        "import lightgbm as lgb\n",
        "\n",
        "# ラッパーおよびユーティリティをインポートする\n",
        "from art.estimators.classification import LightGBMClassifier\n",
        "from art.utils import load_mnist\n",
        "\n",
        "# MNISTデータセットをロードする\n",
        "(X_train, y_train), (X_test, y_test), \\\n",
        "    min_pixel_value, max_pixel_value = load_mnist()\n",
        "\n",
        "# 今回は5枚の画像にのみ摂動を加える\n",
        "X_test = X_test[0:5]\n",
        "y_test = y_test[0:5]\n",
        "\n",
        "nb_samples_train = X_train.shape[0]\n",
        "nb_samples_test = X_test.shape[0]\n",
        "X_train = X_train.reshape((nb_samples_train, 28 * 28))\n",
        "X_test = X_test.reshape((nb_samples_test, 28 * 28))\n",
        "\n",
        "# 攻撃対象のモデルを訓練する\n",
        "params = {'objective': 'multiclass',\n",
        "          'metric': 'multi_logloss',\n",
        "          'num_class': 10}\n",
        "\n",
        "lgb_train = lgb.Dataset(X_train, label=np.argmax(y_train, axis=1))\n",
        "lgb_test = lgb.Dataset(X_test, label=np.argmax(y_test, axis=1))\n",
        "model = lgb.train(params=params, train_set=lgb_train, num_boost_round=100, \n",
        "                  valid_sets=[lgb_test])\n",
        "\n",
        "victim_classifier = LightGBMClassifier(model=model,\n",
        "                                       clip_values=(min_pixel_value, max_pixel_value))"
      ],
      "execution_count": null,
      "outputs": []
    },
    {
      "cell_type": "code",
      "metadata": {
        "id": "x79FSlDxEicj"
      },
      "source": [
        "# 攻撃手法をインポートする\n",
        "from art.attacks.evasion import ZooAttack\n",
        "\n",
        "attack = ZooAttack(classifier=victim_classifier,\n",
        "                   confidence=0.5,\n",
        "                   targeted=False,\n",
        "                   learning_rate=1e-1,\n",
        "                   max_iter=200,\n",
        "                   binary_search_steps=100,\n",
        "                   initial_const=1e-1,\n",
        "                   nb_parallel=250,\n",
        "                   batch_size=1,\n",
        "                   variable_h=0.01)\n",
        "\n",
        "# 攻撃の結果としてAdversarial Exampleを得る\n",
        "X_test_adv = attack.generate(x=X_test)"
      ],
      "execution_count": null,
      "outputs": []
    },
    {
      "cell_type": "code",
      "metadata": {
        "id": "_IOuJXs1EoeG"
      },
      "source": [
        "# 防御手法をインポートする\n",
        "from art.defences.trainer.adversarial_trainer import AdversarialTrainer\n",
        "\n",
        "adv_tranier = AdversarialTrainer(victim_classifier, attack)\n",
        "adv_tranier.fit(X_train, y_train, batch_size=100, nb_epochs=2)"
      ],
      "execution_count": null,
      "outputs": []
    },
    {
      "cell_type": "code",
      "metadata": {
        "id": "Z2KuYQvfL8Ic"
      },
      "source": [
        ""
      ],
      "execution_count": null,
      "outputs": []
    }
  ]
}