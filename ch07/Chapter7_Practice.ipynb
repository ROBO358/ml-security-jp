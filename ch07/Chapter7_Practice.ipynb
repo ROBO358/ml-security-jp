{
  "nbformat": 4,
  "nbformat_minor": 0,
  "metadata": {
    "colab": {
      "name": "Chapter7-Practice",
      "provenance": [],
      "collapsed_sections": []
    },
    "kernelspec": {
      "name": "python3",
      "display_name": "Python 3"
    }
  },
  "cells": [
    {
      "cell_type": "code",
      "metadata": {
        "id": "JMCi4Uuvf1vk",
        "colab": {
          "base_uri": "https://localhost:8080/"
        },
        "outputId": "b93232b2-5f1d-4f3e-aab1-9aa55e279e81"
      },
      "source": [
        "!git clone https://github.com/Morzeux/HttpParamsDataset"
      ],
      "execution_count": 1,
      "outputs": [
        {
          "output_type": "stream",
          "name": "stdout",
          "text": [
            "Cloning into 'HttpParamsDataset'...\n",
            "remote: Enumerating objects: 17, done.\u001b[K\n",
            "remote: Total 17 (delta 0), reused 0 (delta 0), pack-reused 17\u001b[K\n",
            "Unpacking objects: 100% (17/17), done.\n"
          ]
        }
      ]
    },
    {
      "cell_type": "code",
      "metadata": {
        "id": "fHsiFovVVtze",
        "colab": {
          "base_uri": "https://localhost:8080/"
        },
        "outputId": "ede3b57b-e6b4-409b-cec2-74660fe147dd"
      },
      "source": [
        "!pip install optuna"
      ],
      "execution_count": 2,
      "outputs": [
        {
          "output_type": "stream",
          "name": "stdout",
          "text": [
            "Collecting optuna\n",
            "  Downloading optuna-2.9.1-py3-none-any.whl (302 kB)\n",
            "\u001b[?25l\r\u001b[K     |█                               | 10 kB 25.4 MB/s eta 0:00:01\r\u001b[K     |██▏                             | 20 kB 31.5 MB/s eta 0:00:01\r\u001b[K     |███▎                            | 30 kB 13.2 MB/s eta 0:00:01\r\u001b[K     |████▎                           | 40 kB 10.1 MB/s eta 0:00:01\r\u001b[K     |█████▍                          | 51 kB 7.6 MB/s eta 0:00:01\r\u001b[K     |██████▌                         | 61 kB 7.5 MB/s eta 0:00:01\r\u001b[K     |███████▋                        | 71 kB 6.2 MB/s eta 0:00:01\r\u001b[K     |████████▋                       | 81 kB 6.9 MB/s eta 0:00:01\r\u001b[K     |█████████▊                      | 92 kB 7.1 MB/s eta 0:00:01\r\u001b[K     |██████████▉                     | 102 kB 7.0 MB/s eta 0:00:01\r\u001b[K     |████████████                    | 112 kB 7.0 MB/s eta 0:00:01\r\u001b[K     |█████████████                   | 122 kB 7.0 MB/s eta 0:00:01\r\u001b[K     |██████████████                  | 133 kB 7.0 MB/s eta 0:00:01\r\u001b[K     |███████████████▏                | 143 kB 7.0 MB/s eta 0:00:01\r\u001b[K     |████████████████▎               | 153 kB 7.0 MB/s eta 0:00:01\r\u001b[K     |█████████████████▎              | 163 kB 7.0 MB/s eta 0:00:01\r\u001b[K     |██████████████████▍             | 174 kB 7.0 MB/s eta 0:00:01\r\u001b[K     |███████████████████▌            | 184 kB 7.0 MB/s eta 0:00:01\r\u001b[K     |████████████████████▋           | 194 kB 7.0 MB/s eta 0:00:01\r\u001b[K     |█████████████████████▋          | 204 kB 7.0 MB/s eta 0:00:01\r\u001b[K     |██████████████████████▊         | 215 kB 7.0 MB/s eta 0:00:01\r\u001b[K     |███████████████████████▉        | 225 kB 7.0 MB/s eta 0:00:01\r\u001b[K     |█████████████████████████       | 235 kB 7.0 MB/s eta 0:00:01\r\u001b[K     |██████████████████████████      | 245 kB 7.0 MB/s eta 0:00:01\r\u001b[K     |███████████████████████████     | 256 kB 7.0 MB/s eta 0:00:01\r\u001b[K     |████████████████████████████▏   | 266 kB 7.0 MB/s eta 0:00:01\r\u001b[K     |█████████████████████████████▎  | 276 kB 7.0 MB/s eta 0:00:01\r\u001b[K     |██████████████████████████████▎ | 286 kB 7.0 MB/s eta 0:00:01\r\u001b[K     |███████████████████████████████▍| 296 kB 7.0 MB/s eta 0:00:01\r\u001b[K     |████████████████████████████████| 302 kB 7.0 MB/s \n",
            "\u001b[?25hRequirement already satisfied: packaging>=20.0 in /usr/local/lib/python3.7/dist-packages (from optuna) (21.0)\n",
            "Requirement already satisfied: scipy!=1.4.0 in /usr/local/lib/python3.7/dist-packages (from optuna) (1.4.1)\n",
            "Collecting alembic\n",
            "  Downloading alembic-1.7.1-py3-none-any.whl (208 kB)\n",
            "\u001b[K     |████████████████████████████████| 208 kB 48.5 MB/s \n",
            "\u001b[?25hRequirement already satisfied: numpy in /usr/local/lib/python3.7/dist-packages (from optuna) (1.19.5)\n",
            "Collecting colorlog\n",
            "  Downloading colorlog-6.4.1-py2.py3-none-any.whl (11 kB)\n",
            "Collecting cliff\n",
            "  Downloading cliff-3.9.0-py3-none-any.whl (80 kB)\n",
            "\u001b[K     |████████████████████████████████| 80 kB 7.9 MB/s \n",
            "\u001b[?25hRequirement already satisfied: sqlalchemy>=1.1.0 in /usr/local/lib/python3.7/dist-packages (from optuna) (1.4.22)\n",
            "Requirement already satisfied: tqdm in /usr/local/lib/python3.7/dist-packages (from optuna) (4.62.0)\n",
            "Collecting cmaes>=0.8.2\n",
            "  Downloading cmaes-0.8.2-py3-none-any.whl (15 kB)\n",
            "Requirement already satisfied: PyYAML in /usr/local/lib/python3.7/dist-packages (from optuna) (3.13)\n",
            "Requirement already satisfied: pyparsing>=2.0.2 in /usr/local/lib/python3.7/dist-packages (from packaging>=20.0->optuna) (2.4.7)\n",
            "Requirement already satisfied: greenlet!=0.4.17 in /usr/local/lib/python3.7/dist-packages (from sqlalchemy>=1.1.0->optuna) (1.1.1)\n",
            "Requirement already satisfied: importlib-metadata in /usr/local/lib/python3.7/dist-packages (from sqlalchemy>=1.1.0->optuna) (4.6.4)\n",
            "Requirement already satisfied: importlib-resources in /usr/local/lib/python3.7/dist-packages (from alembic->optuna) (5.2.2)\n",
            "Collecting Mako\n",
            "  Downloading Mako-1.1.5-py2.py3-none-any.whl (75 kB)\n",
            "\u001b[K     |████████████████████████████████| 75 kB 3.7 MB/s \n",
            "\u001b[?25hCollecting pbr!=2.1.0,>=2.0.0\n",
            "  Downloading pbr-5.6.0-py2.py3-none-any.whl (111 kB)\n",
            "\u001b[K     |████████████████████████████████| 111 kB 45.4 MB/s \n",
            "\u001b[?25hCollecting cmd2>=1.0.0\n",
            "  Downloading cmd2-2.1.2-py3-none-any.whl (141 kB)\n",
            "\u001b[K     |████████████████████████████████| 141 kB 51.3 MB/s \n",
            "\u001b[?25hCollecting stevedore>=2.0.1\n",
            "  Downloading stevedore-3.4.0-py3-none-any.whl (49 kB)\n",
            "\u001b[K     |████████████████████████████████| 49 kB 6.9 MB/s \n",
            "\u001b[?25hCollecting autopage>=0.4.0\n",
            "  Downloading autopage-0.4.0-py3-none-any.whl (20 kB)\n",
            "Requirement already satisfied: PrettyTable>=0.7.2 in /usr/local/lib/python3.7/dist-packages (from cliff->optuna) (2.1.0)\n",
            "Collecting pyperclip>=1.6\n",
            "  Downloading pyperclip-1.8.2.tar.gz (20 kB)\n",
            "Requirement already satisfied: attrs>=16.3.0 in /usr/local/lib/python3.7/dist-packages (from cmd2>=1.0.0->cliff->optuna) (21.2.0)\n",
            "Collecting colorama>=0.3.7\n",
            "  Downloading colorama-0.4.4-py2.py3-none-any.whl (16 kB)\n",
            "Requirement already satisfied: wcwidth>=0.1.7 in /usr/local/lib/python3.7/dist-packages (from cmd2>=1.0.0->cliff->optuna) (0.2.5)\n",
            "Requirement already satisfied: typing-extensions in /usr/local/lib/python3.7/dist-packages (from cmd2>=1.0.0->cliff->optuna) (3.7.4.3)\n",
            "Requirement already satisfied: zipp>=0.5 in /usr/local/lib/python3.7/dist-packages (from importlib-metadata->sqlalchemy>=1.1.0->optuna) (3.5.0)\n",
            "Requirement already satisfied: MarkupSafe>=0.9.2 in /usr/local/lib/python3.7/dist-packages (from Mako->alembic->optuna) (2.0.1)\n",
            "Building wheels for collected packages: pyperclip\n",
            "  Building wheel for pyperclip (setup.py) ... \u001b[?25l\u001b[?25hdone\n",
            "  Created wheel for pyperclip: filename=pyperclip-1.8.2-py3-none-any.whl size=11136 sha256=8b207522e2dc3a3a7492169d0cb82cbc3e6bebef15389bf13f84c33fc90c1508\n",
            "  Stored in directory: /root/.cache/pip/wheels/9f/18/84/8f69f8b08169c7bae2dde6bd7daf0c19fca8c8e500ee620a28\n",
            "Successfully built pyperclip\n",
            "Installing collected packages: pyperclip, pbr, colorama, stevedore, Mako, cmd2, autopage, colorlog, cmaes, cliff, alembic, optuna\n",
            "Successfully installed Mako-1.1.5 alembic-1.7.1 autopage-0.4.0 cliff-3.9.0 cmaes-0.8.2 cmd2-2.1.2 colorama-0.4.4 colorlog-6.4.1 optuna-2.9.1 pbr-5.6.0 pyperclip-1.8.2 stevedore-3.4.0\n"
          ]
        }
      ]
    },
    {
      "cell_type": "code",
      "metadata": {
        "id": "0pIc_E9jg2ft"
      },
      "source": [
        "import pandas as pd\n",
        "df = pd.read_csv('./HttpParamsDataset/payload_train.csv')"
      ],
      "execution_count": 3,
      "outputs": []
    },
    {
      "cell_type": "code",
      "metadata": {
        "id": "nB7rIG1MEIEn"
      },
      "source": [
        "import numpy as np\n",
        "import pandas as pd\n",
        "\n",
        "# HTTPクエリストリングのエントロピーの計算\n",
        "def H_entropy(x):\n",
        "    prob = [ float(x.count(c)) / len(x) for c in dict.fromkeys(list(x)) ] \n",
        "    H = - sum([ p * np.log2(p) for p in prob ]) \n",
        "    return H"
      ],
      "execution_count": 4,
      "outputs": []
    },
    {
      "cell_type": "code",
      "metadata": {
        "id": "nV8m8Pyhy4Gh"
      },
      "source": [
        "# 通常であるとラベリングされた行列のみを抽出\n",
        "df_norm = df[df.attack_type == 'norm']\n",
        "\n",
        "# 算出されたエントロピーを格納するリストを用意\n",
        "norm_entropies = []\n",
        "\n",
        "# payload列からHTTPクエリストリングを取り出して処理させる\n",
        "for i in df_norm['payload']:\n",
        "    \n",
        "    # エントロピーの計算と代入\n",
        "    norm_entropies.append(H_entropy(i))"
      ],
      "execution_count": 5,
      "outputs": []
    },
    {
      "cell_type": "code",
      "metadata": {
        "id": "WhDeqtfizQDz",
        "colab": {
          "base_uri": "https://localhost:8080/"
        },
        "outputId": "4408967b-188a-4ae6-f896-68a911b69fc9"
      },
      "source": [
        "sum(norm_entropies) / len(norm_entropies)"
      ],
      "execution_count": 6,
      "outputs": [
        {
          "output_type": "execute_result",
          "data": {
            "text/plain": [
              "2.7658075808985836"
            ]
          },
          "metadata": {},
          "execution_count": 6
        }
      ]
    },
    {
      "cell_type": "code",
      "metadata": {
        "id": "os-r5I-mx0cW"
      },
      "source": [
        "# SQLインジェクションであるとラベリングされた行列のみを抽出\n",
        "df_sqli = df[df.attack_type == 'sqli']\n",
        "\n",
        "# 算出されたエントロピーを格納するリストを用意\n",
        "sqli_entropies = []\n",
        "\n",
        "# payload列からHTTPクエリストリングを取り出して処理させる\n",
        "for i in df_sqli['payload']:\n",
        "    \n",
        "    # エントロピーの計算と代入\n",
        "    sqli_entropies.append(H_entropy(i))"
      ],
      "execution_count": 7,
      "outputs": []
    },
    {
      "cell_type": "code",
      "metadata": {
        "id": "p4_nweN2yl3d",
        "colab": {
          "base_uri": "https://localhost:8080/"
        },
        "outputId": "fba049d3-4dc7-438d-9134-52497f1ea445"
      },
      "source": [
        "sum(sqli_entropies) / len(sqli_entropies)"
      ],
      "execution_count": 8,
      "outputs": [
        {
          "output_type": "execute_result",
          "data": {
            "text/plain": [
              "4.289379819336267"
            ]
          },
          "metadata": {},
          "execution_count": 8
        }
      ]
    },
    {
      "cell_type": "code",
      "metadata": {
        "id": "DxSF5xxJzeTJ",
        "colab": {
          "base_uri": "https://localhost:8080/",
          "height": 295
        },
        "outputId": "30dbb909-6a75-463d-d0ed-c39d417dd32a"
      },
      "source": [
        "import matplotlib.pyplot as plt\n",
        "\n",
        "fig, ax = plt.subplots()\n",
        "\n",
        "# グラフのタイトルとラベルの設定\n",
        "ax.set_title('Entropies of normal HTTP query string')\n",
        "ax.set_xlabel('Entropy')\n",
        "ax.set_ylabel('Numbers')\n",
        "\n",
        "# 度数分布グラフの描画\n",
        "plt.hist(norm_entropies, bins=30, range=(0,6), color='green')\n",
        "plt.show()"
      ],
      "execution_count": 9,
      "outputs": [
        {
          "output_type": "display_data",
          "data": {
            "image/png": "[encoded data removed]",
            "text/plain": [
              "<Figure size 432x288 with 1 Axes>"
            ]
          },
          "metadata": {
            "needs_background": "light"
          }
        }
      ]
    },
    {
      "cell_type": "code",
      "metadata": {
        "id": "L0BVRBvKH5MX",
        "colab": {
          "base_uri": "https://localhost:8080/",
          "height": 295
        },
        "outputId": "9f3a2dd0-3c34-4c12-8c5d-c251da8e8006"
      },
      "source": [
        "import matplotlib.pyplot as plt\n",
        "\n",
        "fig, ax = plt.subplots()\n",
        "\n",
        "# グラフのタイトルとラベルの設定\n",
        "ax.set_title('Entropies of SQLi HTTP query string')\n",
        "ax.set_xlabel('Entropy')\n",
        "ax.set_ylabel('Numbers')\n",
        "\n",
        "# 度数分布グラフの描画\n",
        "plt.hist(sqli_entropies, bins=30, range=(0,6), color='red')\n",
        "plt.show()"
      ],
      "execution_count": 10,
      "outputs": [
        {
          "output_type": "display_data",
          "data": {
            "image/png": "[encoded data removed]",
            "text/plain": [
              "<Figure size 432x288 with 1 Axes>"
            ]
          },
          "metadata": {
            "needs_background": "light"
          }
        }
      ]
    },
    {
      "cell_type": "code",
      "metadata": {
        "id": "PnXMZNCXmF03",
        "colab": {
          "base_uri": "https://localhost:8080/",
          "height": 419
        },
        "outputId": "af59902d-8d0a-4049-cce2-d6ef6a025f46"
      },
      "source": [
        "df_sqli = df[df.attack_type == 'sqli']\n",
        "df_sqli"
      ],
      "execution_count": 11,
      "outputs": [
        {
          "output_type": "execute_result",
          "data": {
            "text/html": [
              "<div>\n",
              "<style scoped>\n",
              "    .dataframe tbody tr th:only-of-type {\n",
              "        vertical-align: middle;\n",
              "    }\n",
              "\n",
              "    .dataframe tbody tr th {\n",
              "        vertical-align: top;\n",
              "    }\n",
              "\n",
              "    .dataframe thead th {\n",
              "        text-align: right;\n",
              "    }\n",
              "</style>\n",
              "<table border=\"1\" class=\"dataframe\">\n",
              "  <thead>\n",
              "    <tr style=\"text-align: right;\">\n",
              "      <th></th>\n",
              "      <th>payload</th>\n",
              "      <th>length</th>\n",
              "      <th>attack_type</th>\n",
              "      <th>label</th>\n",
              "    </tr>\n",
              "  </thead>\n",
              "  <tbody>\n",
              "    <tr>\n",
              "      <th>291</th>\n",
              "      <td>1' where 6406=6406;select count(*) from rdb$fi...</td>\n",
              "      <td>115</td>\n",
              "      <td>sqli</td>\n",
              "      <td>anom</td>\n",
              "    </tr>\n",
              "    <tr>\n",
              "      <th>292</th>\n",
              "      <td>1) and 8514=(select count(*) from domain.domai...</td>\n",
              "      <td>111</td>\n",
              "      <td>sqli</td>\n",
              "      <td>anom</td>\n",
              "    </tr>\n",
              "    <tr>\n",
              "      <th>293</th>\n",
              "      <td>1) where 7956=7956 or sleep(5)#</td>\n",
              "      <td>31</td>\n",
              "      <td>sqli</td>\n",
              "      <td>anom</td>\n",
              "    </tr>\n",
              "    <tr>\n",
              "      <th>294</th>\n",
              "      <td>-7387'))) order by 1--</td>\n",
              "      <td>22</td>\n",
              "      <td>sqli</td>\n",
              "      <td>anom</td>\n",
              "    </tr>\n",
              "    <tr>\n",
              "      <th>295</th>\n",
              "      <td>1))) union all select null,null,null#</td>\n",
              "      <td>37</td>\n",
              "      <td>sqli</td>\n",
              "      <td>anom</td>\n",
              "    </tr>\n",
              "    <tr>\n",
              "      <th>...</th>\n",
              "      <td>...</td>\n",
              "      <td>...</td>\n",
              "      <td>...</td>\n",
              "      <td>...</td>\n",
              "    </tr>\n",
              "    <tr>\n",
              "      <th>20360</th>\n",
              "      <td>1%\")) and elt(4249=4249,7259) and ((\"%\"=\"</td>\n",
              "      <td>41</td>\n",
              "      <td>sqli</td>\n",
              "      <td>anom</td>\n",
              "    </tr>\n",
              "    <tr>\n",
              "      <th>20361</th>\n",
              "      <td>-7773' or 5903=('qqpjq'||(select case 5903 whe...</td>\n",
              "      <td>99</td>\n",
              "      <td>sqli</td>\n",
              "      <td>anom</td>\n",
              "    </tr>\n",
              "    <tr>\n",
              "      <th>20362</th>\n",
              "      <td>1\" order by 1--</td>\n",
              "      <td>15</td>\n",
              "      <td>sqli</td>\n",
              "      <td>anom</td>\n",
              "    </tr>\n",
              "    <tr>\n",
              "      <th>20363</th>\n",
              "      <td>1' procedure analyse(extractvalue(5840,concat(...</td>\n",
              "      <td>149</td>\n",
              "      <td>sqli</td>\n",
              "      <td>anom</td>\n",
              "    </tr>\n",
              "    <tr>\n",
              "      <th>20364</th>\n",
              "      <td>-7511)) as xqzf where 9939=9939 union all sele...</td>\n",
              "      <td>85</td>\n",
              "      <td>sqli</td>\n",
              "      <td>anom</td>\n",
              "    </tr>\n",
              "  </tbody>\n",
              "</table>\n",
              "<p>7235 rows × 4 columns</p>\n",
              "</div>"
            ],
            "text/plain": [
              "                                                 payload  ...  label\n",
              "291    1' where 6406=6406;select count(*) from rdb$fi...  ...   anom\n",
              "292    1) and 8514=(select count(*) from domain.domai...  ...   anom\n",
              "293                      1) where 7956=7956 or sleep(5)#  ...   anom\n",
              "294                               -7387'))) order by 1--  ...   anom\n",
              "295                1))) union all select null,null,null#  ...   anom\n",
              "...                                                  ...  ...    ...\n",
              "20360          1%\")) and elt(4249=4249,7259) and ((\"%\"=\"  ...   anom\n",
              "20361  -7773' or 5903=('qqpjq'||(select case 5903 whe...  ...   anom\n",
              "20362                                    1\" order by 1--  ...   anom\n",
              "20363  1' procedure analyse(extractvalue(5840,concat(...  ...   anom\n",
              "20364  -7511)) as xqzf where 9939=9939 union all sele...  ...   anom\n",
              "\n",
              "[7235 rows x 4 columns]"
            ]
          },
          "metadata": {},
          "execution_count": 11
        }
      ]
    },
    {
      "cell_type": "code",
      "metadata": {
        "id": "ZtKqoYN0dX2M",
        "colab": {
          "base_uri": "https://localhost:8080/"
        },
        "outputId": "a4c3a595-a472-4b80-b9d4-5de45a892219"
      },
      "source": [
        "print('{:.2%}'.format(df_sqli['payload'].str.contains('\\)').sum() / len(df_sqli['payload'])))"
      ],
      "execution_count": 12,
      "outputs": [
        {
          "output_type": "stream",
          "name": "stdout",
          "text": [
            "90.91%\n"
          ]
        }
      ]
    },
    {
      "cell_type": "code",
      "metadata": {
        "id": "8DJ7I-oekCSj",
        "colab": {
          "base_uri": "https://localhost:8080/"
        },
        "outputId": "a199baba-eb8e-4538-9c0d-af9c5be4ca61"
      },
      "source": [
        "df_norm = df[df.attack_type == 'norm']\n",
        "print('{:.2%}'.format(df_norm['payload'].str.contains('\\)').sum() / len(df_norm['payload'])))"
      ],
      "execution_count": 13,
      "outputs": [
        {
          "output_type": "stream",
          "name": "stdout",
          "text": [
            "0.01%\n"
          ]
        }
      ]
    },
    {
      "cell_type": "code",
      "metadata": {
        "id": "tAR_B1dXjNRv"
      },
      "source": [
        "def func_preprocessing(df):\n",
        "    train_rows = ((df.attack_type == 'norm') | (df.attack_type == 'sqli'))\n",
        "    df = df[train_rows]\n",
        "\n",
        "    # エントロピーと閉じ括弧の有無を入れる配列\n",
        "    entropies = []\n",
        "    closing_parenthesis = []\n",
        "    \n",
        "    # payload列からHTTPクエリストリングを取り出して処理させる\n",
        "    for i in df['payload']:\n",
        "        # エントロピーの計算と代入\n",
        "        entropies.append(H_entropy(i))\n",
        "        \n",
        "        # 閉じ括弧を検出して、存在した場合は列closing_parenthesisに1を設定、ない場合は0を設定\n",
        "        if i.count(')'):\n",
        "            closing_parenthesis.append(1)\n",
        "        else:\n",
        "            closing_parenthesis.append(0)\n",
        "    \n",
        "    # データセットに新たに列を追加\n",
        "    df = df.assign(entropy=entropies)\n",
        "    df = df.assign(closing_parenthesis=closing_parenthesis)\n",
        "    \n",
        "    # データセットのlabel列のnormを0に、anormを1に変更\n",
        "    rep = df.label.replace({\"norm\":0,\"anom\":1})\n",
        "    df = df.assign(label=rep)\n",
        "    \n",
        "    return df"
      ],
      "execution_count": 14,
      "outputs": []
    },
    {
      "cell_type": "code",
      "metadata": {
        "id": "nWhG2qeeodOa"
      },
      "source": [
        "df = func_preprocessing(df)"
      ],
      "execution_count": 15,
      "outputs": []
    },
    {
      "cell_type": "code",
      "metadata": {
        "id": "BO5tBiEFaM7Y"
      },
      "source": [
        "# 交差検証を行うため、テスト用に分割されているデータも読み込んで単一の行列にする\n",
        "# テストデータのロード\n",
        "test_data = pd.read_csv('./HttpParamsDataset/payload_test.csv')\n",
        "test_data = func_preprocessing(test_data)\n",
        "\n",
        "# 特徴量に使用する列のみを抽出\n",
        "df_x = df[['length','entropy','closing_parenthesis']]\n",
        "test_x = test_data[['length','entropy','closing_parenthesis']]\n",
        "\n",
        "# ラベルのみを抽出\n",
        "df_y = df[['label']]\n",
        "test_y = test_data[['label']]\n",
        "\n",
        "# 特徴量とラベルとして、それぞれひとつにまとめる\n",
        "X_all = pd.concat([df_x, test_x])\n",
        "y_all = pd.concat([df_y, test_y])"
      ],
      "execution_count": 16,
      "outputs": []
    },
    {
      "cell_type": "code",
      "metadata": {
        "id": "8BzD5Yl5emtK",
        "colab": {
          "base_uri": "https://localhost:8080/",
          "height": 419
        },
        "outputId": "ae794b93-6957-444b-86a8-3a1413d890cc"
      },
      "source": [
        "X_all"
      ],
      "execution_count": 17,
      "outputs": [
        {
          "output_type": "execute_result",
          "data": {
            "text/html": [
              "<div>\n",
              "<style scoped>\n",
              "    .dataframe tbody tr th:only-of-type {\n",
              "        vertical-align: middle;\n",
              "    }\n",
              "\n",
              "    .dataframe tbody tr th {\n",
              "        vertical-align: top;\n",
              "    }\n",
              "\n",
              "    .dataframe thead th {\n",
              "        text-align: right;\n",
              "    }\n",
              "</style>\n",
              "<table border=\"1\" class=\"dataframe\">\n",
              "  <thead>\n",
              "    <tr style=\"text-align: right;\">\n",
              "      <th></th>\n",
              "      <th>length</th>\n",
              "      <th>entropy</th>\n",
              "      <th>closing_parenthesis</th>\n",
              "    </tr>\n",
              "  </thead>\n",
              "  <tbody>\n",
              "    <tr>\n",
              "      <th>0</th>\n",
              "      <td>14</td>\n",
              "      <td>3.093069</td>\n",
              "      <td>0</td>\n",
              "    </tr>\n",
              "    <tr>\n",
              "      <th>1</th>\n",
              "      <td>12</td>\n",
              "      <td>3.022055</td>\n",
              "      <td>0</td>\n",
              "    </tr>\n",
              "    <tr>\n",
              "      <th>2</th>\n",
              "      <td>16</td>\n",
              "      <td>2.827820</td>\n",
              "      <td>0</td>\n",
              "    </tr>\n",
              "    <tr>\n",
              "      <th>3</th>\n",
              "      <td>5</td>\n",
              "      <td>2.321928</td>\n",
              "      <td>0</td>\n",
              "    </tr>\n",
              "    <tr>\n",
              "      <th>4</th>\n",
              "      <td>14</td>\n",
              "      <td>3.378783</td>\n",
              "      <td>0</td>\n",
              "    </tr>\n",
              "    <tr>\n",
              "      <th>...</th>\n",
              "      <td>...</td>\n",
              "      <td>...</td>\n",
              "      <td>...</td>\n",
              "    </tr>\n",
              "    <tr>\n",
              "      <th>10176</th>\n",
              "      <td>113</td>\n",
              "      <td>4.422041</td>\n",
              "      <td>1</td>\n",
              "    </tr>\n",
              "    <tr>\n",
              "      <th>10177</th>\n",
              "      <td>113</td>\n",
              "      <td>4.514233</td>\n",
              "      <td>1</td>\n",
              "    </tr>\n",
              "    <tr>\n",
              "      <th>10178</th>\n",
              "      <td>136</td>\n",
              "      <td>4.630369</td>\n",
              "      <td>1</td>\n",
              "    </tr>\n",
              "    <tr>\n",
              "      <th>10179</th>\n",
              "      <td>111</td>\n",
              "      <td>4.539371</td>\n",
              "      <td>1</td>\n",
              "    </tr>\n",
              "    <tr>\n",
              "      <th>10180</th>\n",
              "      <td>53</td>\n",
              "      <td>4.130354</td>\n",
              "      <td>1</td>\n",
              "    </tr>\n",
              "  </tbody>\n",
              "</table>\n",
              "<p>30156 rows × 3 columns</p>\n",
              "</div>"
            ],
            "text/plain": [
              "       length   entropy  closing_parenthesis\n",
              "0          14  3.093069                    0\n",
              "1          12  3.022055                    0\n",
              "2          16  2.827820                    0\n",
              "3           5  2.321928                    0\n",
              "4          14  3.378783                    0\n",
              "...       ...       ...                  ...\n",
              "10176     113  4.422041                    1\n",
              "10177     113  4.514233                    1\n",
              "10178     136  4.630369                    1\n",
              "10179     111  4.539371                    1\n",
              "10180      53  4.130354                    1\n",
              "\n",
              "[30156 rows x 3 columns]"
            ]
          },
          "metadata": {},
          "execution_count": 17
        }
      ]
    },
    {
      "cell_type": "code",
      "metadata": {
        "id": "osOCCB9uGkFp",
        "colab": {
          "base_uri": "https://localhost:8080/"
        },
        "outputId": "f978d3f0-d8b3-4293-d9a8-48f0c335a95e"
      },
      "source": [
        "from sklearn.tree import DecisionTreeClassifier\n",
        "from sklearn.metrics import accuracy_score \n",
        "from sklearn.model_selection import train_test_split\n",
        "import numpy as np\n",
        "import optuna\n",
        "from sklearn.model_selection import StratifiedKFold, cross_validate\n",
        "\n",
        "\n",
        "class Objective_DTC:\n",
        "    def __init__(self, X, y):\n",
        "        # 変数 X,y の初期化\n",
        "        self.X = X\n",
        "        self.y = y\n",
        "\n",
        "    def __call__(self, trial):\n",
        "        # チューニング対象のハイパーパラメータの設定\n",
        "        params ={\n",
        "        'criterion': trial.suggest_categorical('criterion', ['gini', 'entropy']),\n",
        "        'max_depth': trial.suggest_int('max_depth', 1, 64)\n",
        "        }\n",
        "        model = DecisionTreeClassifier(**params)\n",
        "        # 交差検証の設定\n",
        "        kf = StratifiedKFold(n_splits=5, shuffle=True, random_state=42)\n",
        "        scores = cross_validate(model,\n",
        "                                X=self.X, y=self.y,\n",
        "                                cv=kf,\n",
        "                                scoring='neg_log_loss',\n",
        "                                n_jobs=-1)\n",
        "        # 交差検証結果の平均を戻り値に設定\n",
        "        return scores['test_score'].mean()\n",
        "\n",
        "objective = Objective_DTC(X_all, y_all)\n",
        "study = optuna.create_study()\n",
        "study.optimize(objective, timeout=60)\n",
        "print('params:', study.best_params)"
      ],
      "execution_count": 18,
      "outputs": [
        {
          "output_type": "stream",
          "name": "stderr",
          "text": [
            "\u001b[32m[I 2021-09-05 02:15:18,640]\u001b[0m A new study created in memory with name: no-name-ac63a1c1-298f-4c1b-a9c8-25f1f0c51b4d\u001b[0m\n",
            "\u001b[32m[I 2021-09-05 02:15:19,999]\u001b[0m Trial 0 finished with value: -0.2700712879723397 and parameters: {'criterion': 'entropy', 'max_depth': 13}. Best is trial 0 with value: -0.2700712879723397.\u001b[0m\n",
            "\u001b[32m[I 2021-09-05 02:15:20,153]\u001b[0m Trial 1 finished with value: -0.44513823753416315 and parameters: {'criterion': 'gini', 'max_depth': 31}. Best is trial 1 with value: -0.44513823753416315.\u001b[0m\n",
            "\u001b[32m[I 2021-09-05 02:15:20,303]\u001b[0m Trial 2 finished with value: -0.4418799489687098 and parameters: {'criterion': 'gini', 'max_depth': 26}. Best is trial 1 with value: -0.44513823753416315.\u001b[0m\n",
            "\u001b[32m[I 2021-09-05 02:15:20,444]\u001b[0m Trial 3 finished with value: -0.45210777846609984 and parameters: {'criterion': 'gini', 'max_depth': 31}. Best is trial 3 with value: -0.45210777846609984.\u001b[0m\n",
            "\u001b[32m[I 2021-09-05 02:15:20,594]\u001b[0m Trial 4 finished with value: -0.4361425088231211 and parameters: {'criterion': 'entropy', 'max_depth': 43}. Best is trial 3 with value: -0.45210777846609984.\u001b[0m\n",
            "\u001b[32m[I 2021-09-05 02:15:20,735]\u001b[0m Trial 5 finished with value: -0.20223258384985118 and parameters: {'criterion': 'entropy', 'max_depth': 11}. Best is trial 3 with value: -0.45210777846609984.\u001b[0m\n",
            "\u001b[32m[I 2021-09-05 02:15:20,873]\u001b[0m Trial 6 finished with value: -0.4464119842517366 and parameters: {'criterion': 'gini', 'max_depth': 40}. Best is trial 3 with value: -0.45210777846609984.\u001b[0m\n",
            "\u001b[32m[I 2021-09-05 02:15:21,031]\u001b[0m Trial 7 finished with value: -0.3438122112250602 and parameters: {'criterion': 'entropy', 'max_depth': 16}. Best is trial 3 with value: -0.45210777846609984.\u001b[0m\n",
            "\u001b[32m[I 2021-09-05 02:15:21,173]\u001b[0m Trial 8 finished with value: -0.44317585661802666 and parameters: {'criterion': 'gini', 'max_depth': 25}. Best is trial 3 with value: -0.45210777846609984.\u001b[0m\n",
            "\u001b[32m[I 2021-09-05 02:15:21,319]\u001b[0m Trial 9 finished with value: -0.4440665499350859 and parameters: {'criterion': 'gini', 'max_depth': 63}. Best is trial 3 with value: -0.45210777846609984.\u001b[0m\n",
            "\u001b[32m[I 2021-09-05 02:15:21,462]\u001b[0m Trial 10 finished with value: -0.44989225689510304 and parameters: {'criterion': 'gini', 'max_depth': 52}. Best is trial 3 with value: -0.45210777846609984.\u001b[0m\n",
            "\u001b[32m[I 2021-09-05 02:15:21,616]\u001b[0m Trial 11 finished with value: -0.44065233710533347 and parameters: {'criterion': 'gini', 'max_depth': 55}. Best is trial 3 with value: -0.45210777846609984.\u001b[0m\n",
            "\u001b[32m[I 2021-09-05 02:15:21,765]\u001b[0m Trial 12 finished with value: -0.4497543166763835 and parameters: {'criterion': 'gini', 'max_depth': 47}. Best is trial 3 with value: -0.45210777846609984.\u001b[0m\n",
            "\u001b[32m[I 2021-09-05 02:15:21,934]\u001b[0m Trial 13 finished with value: -0.44526949362263685 and parameters: {'criterion': 'gini', 'max_depth': 53}. Best is trial 3 with value: -0.45210777846609984.\u001b[0m\n",
            "\u001b[32m[I 2021-09-05 02:15:22,049]\u001b[0m Trial 14 finished with value: -0.06257226785967526 and parameters: {'criterion': 'gini', 'max_depth': 3}. Best is trial 3 with value: -0.45210777846609984.\u001b[0m\n",
            "\u001b[32m[I 2021-09-05 02:15:22,192]\u001b[0m Trial 15 finished with value: -0.449846328739773 and parameters: {'criterion': 'gini', 'max_depth': 34}. Best is trial 3 with value: -0.45210777846609984.\u001b[0m\n",
            "\u001b[32m[I 2021-09-05 02:15:22,335]\u001b[0m Trial 16 finished with value: -0.44980040666230237 and parameters: {'criterion': 'gini', 'max_depth': 62}. Best is trial 3 with value: -0.45210777846609984.\u001b[0m\n",
            "\u001b[32m[I 2021-09-05 02:15:22,482]\u001b[0m Trial 17 finished with value: -0.4463681803555183 and parameters: {'criterion': 'gini', 'max_depth': 36}. Best is trial 3 with value: -0.45210777846609984.\u001b[0m\n",
            "\u001b[32m[I 2021-09-05 02:15:22,634]\u001b[0m Trial 18 finished with value: -0.4440813378929603 and parameters: {'criterion': 'entropy', 'max_depth': 50}. Best is trial 3 with value: -0.45210777846609984.\u001b[0m\n",
            "\u001b[32m[I 2021-09-05 02:15:22,771]\u001b[0m Trial 19 finished with value: -0.44518423533661144 and parameters: {'criterion': 'gini', 'max_depth': 27}. Best is trial 3 with value: -0.45210777846609984.\u001b[0m\n",
            "\u001b[32m[I 2021-09-05 02:15:22,920]\u001b[0m Trial 20 finished with value: -0.4221075333873182 and parameters: {'criterion': 'gini', 'max_depth': 21}. Best is trial 3 with value: -0.45210777846609984.\u001b[0m\n",
            "\u001b[32m[I 2021-09-05 02:15:23,073]\u001b[0m Trial 21 finished with value: -0.44873879003087846 and parameters: {'criterion': 'gini', 'max_depth': 35}. Best is trial 3 with value: -0.45210777846609984.\u001b[0m\n",
            "\u001b[32m[I 2021-09-05 02:15:23,217]\u001b[0m Trial 22 finished with value: -0.4521443826358512 and parameters: {'criterion': 'gini', 'max_depth': 44}. Best is trial 22 with value: -0.4521443826358512.\u001b[0m\n",
            "\u001b[32m[I 2021-09-05 02:15:23,363]\u001b[0m Trial 23 finished with value: -0.44649222120268134 and parameters: {'criterion': 'gini', 'max_depth': 43}. Best is trial 22 with value: -0.4521443826358512.\u001b[0m\n",
            "\u001b[32m[I 2021-09-05 02:15:23,506]\u001b[0m Trial 24 finished with value: -0.4451658472560139 and parameters: {'criterion': 'gini', 'max_depth': 59}. Best is trial 22 with value: -0.4521443826358512.\u001b[0m\n",
            "\u001b[32m[I 2021-09-05 02:15:23,653]\u001b[0m Trial 25 finished with value: -0.4532507219216906 and parameters: {'criterion': 'gini', 'max_depth': 47}. Best is trial 25 with value: -0.4532507219216906.\u001b[0m\n",
            "\u001b[32m[I 2021-09-05 02:15:23,803]\u001b[0m Trial 26 finished with value: -0.4349606223208539 and parameters: {'criterion': 'entropy', 'max_depth': 45}. Best is trial 25 with value: -0.4532507219216906.\u001b[0m\n",
            "\u001b[32m[I 2021-09-05 02:15:23,949]\u001b[0m Trial 27 finished with value: -0.44982489451103236 and parameters: {'criterion': 'gini', 'max_depth': 40}. Best is trial 25 with value: -0.4532507219216906.\u001b[0m\n",
            "\u001b[32m[I 2021-09-05 02:15:24,104]\u001b[0m Trial 28 finished with value: -0.44407228189162923 and parameters: {'criterion': 'gini', 'max_depth': 39}. Best is trial 25 with value: -0.4532507219216906.\u001b[0m\n",
            "\u001b[32m[I 2021-09-05 02:15:24,258]\u001b[0m Trial 29 finished with value: -0.44085852811037773 and parameters: {'criterion': 'entropy', 'max_depth': 29}. Best is trial 25 with value: -0.4532507219216906.\u001b[0m\n",
            "\u001b[32m[I 2021-09-05 02:15:24,404]\u001b[0m Trial 30 finished with value: -0.4509490628241893 and parameters: {'criterion': 'gini', 'max_depth': 57}. Best is trial 25 with value: -0.4532507219216906.\u001b[0m\n",
            "\u001b[32m[I 2021-09-05 02:15:24,543]\u001b[0m Trial 31 finished with value: -0.45098934788900324 and parameters: {'criterion': 'gini', 'max_depth': 50}. Best is trial 25 with value: -0.4532507219216906.\u001b[0m\n",
            "\u001b[32m[I 2021-09-05 02:15:24,694]\u001b[0m Trial 32 finished with value: -0.4475165919475502 and parameters: {'criterion': 'gini', 'max_depth': 49}. Best is trial 25 with value: -0.4532507219216906.\u001b[0m\n",
            "\u001b[32m[I 2021-09-05 02:15:24,838]\u001b[0m Trial 33 finished with value: -0.4487335480471118 and parameters: {'criterion': 'gini', 'max_depth': 46}. Best is trial 25 with value: -0.4532507219216906.\u001b[0m\n",
            "\u001b[32m[I 2021-09-05 02:15:24,982]\u001b[0m Trial 34 finished with value: -0.44977486892510077 and parameters: {'criterion': 'gini', 'max_depth': 38}. Best is trial 25 with value: -0.4532507219216906.\u001b[0m\n",
            "\u001b[32m[I 2021-09-05 02:15:25,133]\u001b[0m Trial 35 finished with value: -0.4463505166521166 and parameters: {'criterion': 'gini', 'max_depth': 30}. Best is trial 25 with value: -0.4532507219216906.\u001b[0m\n",
            "\u001b[32m[I 2021-09-05 02:15:25,282]\u001b[0m Trial 36 finished with value: -0.4451637316951794 and parameters: {'criterion': 'entropy', 'max_depth': 43}. Best is trial 25 with value: -0.4532507219216906.\u001b[0m\n",
            "\u001b[32m[I 2021-09-05 02:15:25,429]\u001b[0m Trial 37 finished with value: -0.4475369163467159 and parameters: {'criterion': 'gini', 'max_depth': 50}. Best is trial 25 with value: -0.4532507219216906.\u001b[0m\n",
            "\u001b[32m[I 2021-09-05 02:15:25,574]\u001b[0m Trial 38 finished with value: -0.4265908949811819 and parameters: {'criterion': 'gini', 'max_depth': 21}. Best is trial 25 with value: -0.4532507219216906.\u001b[0m\n",
            "\u001b[32m[I 2021-09-05 02:15:25,723]\u001b[0m Trial 39 finished with value: -0.4372374851047205 and parameters: {'criterion': 'entropy', 'max_depth': 43}. Best is trial 25 with value: -0.4532507219216906.\u001b[0m\n",
            "\u001b[32m[I 2021-09-05 02:15:25,873]\u001b[0m Trial 40 finished with value: -0.45331404235257156 and parameters: {'criterion': 'gini', 'max_depth': 33}. Best is trial 40 with value: -0.45331404235257156.\u001b[0m\n",
            "\u001b[32m[I 2021-09-05 02:15:26,015]\u001b[0m Trial 41 finished with value: -0.4451642007996365 and parameters: {'criterion': 'gini', 'max_depth': 31}. Best is trial 40 with value: -0.45331404235257156.\u001b[0m\n",
            "\u001b[32m[I 2021-09-05 02:15:26,165]\u001b[0m Trial 42 finished with value: -0.4441013173458709 and parameters: {'criterion': 'gini', 'max_depth': 37}. Best is trial 40 with value: -0.45331404235257156.\u001b[0m\n",
            "\u001b[32m[I 2021-09-05 02:15:26,310]\u001b[0m Trial 43 finished with value: -0.4408886981939501 and parameters: {'criterion': 'gini', 'max_depth': 24}. Best is trial 40 with value: -0.45331404235257156.\u001b[0m\n",
            "\u001b[32m[I 2021-09-05 02:15:26,455]\u001b[0m Trial 44 finished with value: -0.44870980293406176 and parameters: {'criterion': 'gini', 'max_depth': 33}. Best is trial 40 with value: -0.45331404235257156.\u001b[0m\n",
            "\u001b[32m[I 2021-09-05 02:15:26,600]\u001b[0m Trial 45 finished with value: -0.4452289996405904 and parameters: {'criterion': 'gini', 'max_depth': 54}. Best is trial 40 with value: -0.45331404235257156.\u001b[0m\n",
            "\u001b[32m[I 2021-09-05 02:15:26,743]\u001b[0m Trial 46 finished with value: -0.33660349799911526 and parameters: {'criterion': 'gini', 'max_depth': 14}. Best is trial 40 with value: -0.45331404235257156.\u001b[0m\n",
            "\u001b[32m[I 2021-09-05 02:15:26,884]\u001b[0m Trial 47 finished with value: -0.44526013499195666 and parameters: {'criterion': 'gini', 'max_depth': 48}. Best is trial 40 with value: -0.45331404235257156.\u001b[0m\n",
            "\u001b[32m[I 2021-09-05 02:15:27,031]\u001b[0m Trial 48 finished with value: -0.44631766416292856 and parameters: {'criterion': 'gini', 'max_depth': 52}. Best is trial 40 with value: -0.45331404235257156.\u001b[0m\n",
            "\u001b[32m[I 2021-09-05 02:15:27,178]\u001b[0m Trial 49 finished with value: -0.4486952008754477 and parameters: {'criterion': 'gini', 'max_depth': 41}. Best is trial 40 with value: -0.45331404235257156.\u001b[0m\n",
            "\u001b[32m[I 2021-09-05 02:15:27,335]\u001b[0m Trial 50 finished with value: -0.442932369271212 and parameters: {'criterion': 'entropy', 'max_depth': 56}. Best is trial 40 with value: -0.45331404235257156.\u001b[0m\n",
            "\u001b[32m[I 2021-09-05 02:15:27,480]\u001b[0m Trial 51 finished with value: -0.447570809874035 and parameters: {'criterion': 'gini', 'max_depth': 60}. Best is trial 40 with value: -0.45331404235257156.\u001b[0m\n",
            "\u001b[32m[I 2021-09-05 02:15:27,631]\u001b[0m Trial 52 finished with value: -0.44534253945721236 and parameters: {'criterion': 'gini', 'max_depth': 58}. Best is trial 40 with value: -0.45331404235257156.\u001b[0m\n",
            "\u001b[32m[I 2021-09-05 02:15:27,777]\u001b[0m Trial 53 finished with value: -0.4509126984755252 and parameters: {'criterion': 'gini', 'max_depth': 56}. Best is trial 40 with value: -0.45331404235257156.\u001b[0m\n",
            "\u001b[32m[I 2021-09-05 02:15:27,924]\u001b[0m Trial 54 finished with value: -0.4474396376767421 and parameters: {'criterion': 'gini', 'max_depth': 64}. Best is trial 40 with value: -0.45331404235257156.\u001b[0m\n",
            "\u001b[32m[I 2021-09-05 02:15:28,048]\u001b[0m Trial 55 finished with value: -0.053039582085338655 and parameters: {'criterion': 'gini', 'max_depth': 4}. Best is trial 40 with value: -0.45331404235257156.\u001b[0m\n",
            "\u001b[32m[I 2021-09-05 02:15:28,200]\u001b[0m Trial 56 finished with value: -0.44178049088783045 and parameters: {'criterion': 'gini', 'max_depth': 45}. Best is trial 40 with value: -0.45331404235257156.\u001b[0m\n",
            "\u001b[32m[I 2021-09-05 02:15:28,347]\u001b[0m Trial 57 finished with value: -0.4486351572775094 and parameters: {'criterion': 'gini', 'max_depth': 52}. Best is trial 40 with value: -0.45331404235257156.\u001b[0m\n",
            "\u001b[32m[I 2021-09-05 02:15:28,498]\u001b[0m Trial 58 finished with value: -0.4440015686719228 and parameters: {'criterion': 'gini', 'max_depth': 27}. Best is trial 40 with value: -0.45331404235257156.\u001b[0m\n",
            "\u001b[32m[I 2021-09-05 02:15:28,644]\u001b[0m Trial 59 finished with value: -0.44634467392517274 and parameters: {'criterion': 'gini', 'max_depth': 61}. Best is trial 40 with value: -0.45331404235257156.\u001b[0m\n",
            "\u001b[32m[I 2021-09-05 02:15:28,799]\u001b[0m Trial 60 finished with value: -0.4418746907636324 and parameters: {'criterion': 'gini', 'max_depth': 35}. Best is trial 40 with value: -0.45331404235257156.\u001b[0m\n",
            "\u001b[32m[I 2021-09-05 02:15:28,950]\u001b[0m Trial 61 finished with value: -0.4418658393526358 and parameters: {'criterion': 'gini', 'max_depth': 55}. Best is trial 40 with value: -0.45331404235257156.\u001b[0m\n",
            "\u001b[32m[I 2021-09-05 02:15:29,099]\u001b[0m Trial 62 finished with value: -0.445139221805947 and parameters: {'criterion': 'gini', 'max_depth': 57}. Best is trial 40 with value: -0.45331404235257156.\u001b[0m\n",
            "\u001b[32m[I 2021-09-05 02:15:29,272]\u001b[0m Trial 63 finished with value: -0.4474593721153594 and parameters: {'criterion': 'gini', 'max_depth': 51}. Best is trial 40 with value: -0.45331404235257156.\u001b[0m\n",
            "\u001b[32m[I 2021-09-05 02:15:29,417]\u001b[0m Trial 64 finished with value: -0.454421645847596 and parameters: {'criterion': 'gini', 'max_depth': 54}. Best is trial 64 with value: -0.454421645847596.\u001b[0m\n",
            "\u001b[32m[I 2021-09-05 02:15:29,564]\u001b[0m Trial 65 finished with value: -0.4497351182170356 and parameters: {'criterion': 'gini', 'max_depth': 47}. Best is trial 64 with value: -0.454421645847596.\u001b[0m\n",
            "\u001b[32m[I 2021-09-05 02:15:29,718]\u001b[0m Trial 66 finished with value: -0.44294717337918693 and parameters: {'criterion': 'entropy', 'max_depth': 41}. Best is trial 64 with value: -0.454421645847596.\u001b[0m\n",
            "\u001b[32m[I 2021-09-05 02:15:29,864]\u001b[0m Trial 67 finished with value: -0.4298760555879563 and parameters: {'criterion': 'gini', 'max_depth': 22}. Best is trial 64 with value: -0.454421645847596.\u001b[0m\n",
            "\u001b[32m[I 2021-09-05 02:15:30,030]\u001b[0m Trial 68 finished with value: -0.4532455815002773 and parameters: {'criterion': 'gini', 'max_depth': 49}. Best is trial 64 with value: -0.454421645847596.\u001b[0m\n",
            "\u001b[32m[I 2021-09-05 02:15:30,182]\u001b[0m Trial 69 finished with value: -0.4050462236631741 and parameters: {'criterion': 'gini', 'max_depth': 18}. Best is trial 64 with value: -0.454421645847596.\u001b[0m\n",
            "\u001b[32m[I 2021-09-05 02:15:30,334]\u001b[0m Trial 70 finished with value: -0.44308495468143494 and parameters: {'criterion': 'gini', 'max_depth': 48}. Best is trial 64 with value: -0.454421645847596.\u001b[0m\n",
            "\u001b[32m[I 2021-09-05 02:15:30,482]\u001b[0m Trial 71 finished with value: -0.44986177814342343 and parameters: {'criterion': 'gini', 'max_depth': 49}. Best is trial 64 with value: -0.454421645847596.\u001b[0m\n",
            "\u001b[32m[I 2021-09-05 02:15:30,627]\u001b[0m Trial 72 finished with value: -0.44863771262244184 and parameters: {'criterion': 'gini', 'max_depth': 54}. Best is trial 64 with value: -0.454421645847596.\u001b[0m\n",
            "\u001b[32m[I 2021-09-05 02:15:30,776]\u001b[0m Trial 73 finished with value: -0.4463576401740008 and parameters: {'criterion': 'gini', 'max_depth': 44}. Best is trial 64 with value: -0.454421645847596.\u001b[0m\n",
            "\u001b[32m[I 2021-09-05 02:15:30,929]\u001b[0m Trial 74 finished with value: -0.4510042943895257 and parameters: {'criterion': 'gini', 'max_depth': 32}. Best is trial 64 with value: -0.454421645847596.\u001b[0m\n",
            "\u001b[32m[I 2021-09-05 02:15:31,074]\u001b[0m Trial 75 finished with value: -0.44301387464172726 and parameters: {'criterion': 'gini', 'max_depth': 31}. Best is trial 64 with value: -0.454421645847596.\u001b[0m\n",
            "\u001b[32m[I 2021-09-05 02:15:31,229]\u001b[0m Trial 76 finished with value: -0.4453052620741061 and parameters: {'criterion': 'gini', 'max_depth': 28}. Best is trial 64 with value: -0.454421645847596.\u001b[0m\n",
            "\u001b[32m[I 2021-09-05 02:15:31,386]\u001b[0m Trial 77 finished with value: -0.4383451058745257 and parameters: {'criterion': 'entropy', 'max_depth': 32}. Best is trial 64 with value: -0.454421645847596.\u001b[0m\n",
            "\u001b[32m[I 2021-09-05 02:15:31,543]\u001b[0m Trial 78 finished with value: -0.44986426815939184 and parameters: {'criterion': 'gini', 'max_depth': 38}. Best is trial 64 with value: -0.454421645847596.\u001b[0m\n",
            "\u001b[32m[I 2021-09-05 02:15:31,685]\u001b[0m Trial 79 finished with value: -0.43975062005919796 and parameters: {'criterion': 'gini', 'max_depth': 24}. Best is trial 64 with value: -0.454421645847596.\u001b[0m\n",
            "\u001b[32m[I 2021-09-05 02:15:31,831]\u001b[0m Trial 80 finished with value: -0.44866464102426573 and parameters: {'criterion': 'gini', 'max_depth': 41}. Best is trial 64 with value: -0.454421645847596.\u001b[0m\n",
            "\u001b[32m[I 2021-09-05 02:15:31,981]\u001b[0m Trial 81 finished with value: -0.44752927865639747 and parameters: {'criterion': 'gini', 'max_depth': 53}. Best is trial 64 with value: -0.454421645847596.\u001b[0m\n",
            "\u001b[32m[I 2021-09-05 02:15:32,129]\u001b[0m Trial 82 finished with value: -0.4498616092969957 and parameters: {'criterion': 'gini', 'max_depth': 33}. Best is trial 64 with value: -0.454421645847596.\u001b[0m\n",
            "\u001b[32m[I 2021-09-05 02:15:32,287]\u001b[0m Trial 83 finished with value: -0.4486602561293929 and parameters: {'criterion': 'gini', 'max_depth': 46}. Best is trial 64 with value: -0.454421645847596.\u001b[0m\n",
            "\u001b[32m[I 2021-09-05 02:15:32,432]\u001b[0m Trial 84 finished with value: -0.4486397850205993 and parameters: {'criterion': 'gini', 'max_depth': 50}. Best is trial 64 with value: -0.454421645847596.\u001b[0m\n",
            "\u001b[32m[I 2021-09-05 02:15:32,575]\u001b[0m Trial 85 finished with value: -0.44636629696374974 and parameters: {'criterion': 'gini', 'max_depth': 36}. Best is trial 64 with value: -0.454421645847596.\u001b[0m\n",
            "\u001b[32m[I 2021-09-05 02:15:32,723]\u001b[0m Trial 86 finished with value: -0.4498740552597515 and parameters: {'criterion': 'gini', 'max_depth': 58}. Best is trial 64 with value: -0.454421645847596.\u001b[0m\n",
            "\u001b[32m[I 2021-09-05 02:15:32,866]\u001b[0m Trial 87 finished with value: -0.4463567382325979 and parameters: {'criterion': 'gini', 'max_depth': 47}. Best is trial 64 with value: -0.454421645847596.\u001b[0m\n",
            "\u001b[32m[I 2021-09-05 02:15:33,021]\u001b[0m Trial 88 finished with value: -0.44061855488509816 and parameters: {'criterion': 'entropy', 'max_depth': 62}. Best is trial 64 with value: -0.454421645847596.\u001b[0m\n",
            "\u001b[32m[I 2021-09-05 02:15:33,174]\u001b[0m Trial 89 finished with value: -0.4452738232837725 and parameters: {'criterion': 'gini', 'max_depth': 51}. Best is trial 64 with value: -0.454421645847596.\u001b[0m\n",
            "\u001b[32m[I 2021-09-05 02:15:33,332]\u001b[0m Trial 90 finished with value: -0.4475745388910234 and parameters: {'criterion': 'gini', 'max_depth': 53}. Best is trial 64 with value: -0.454421645847596.\u001b[0m\n",
            "\u001b[32m[I 2021-09-05 02:15:33,486]\u001b[0m Trial 91 finished with value: -0.4486112688500845 and parameters: {'criterion': 'gini', 'max_depth': 56}. Best is trial 64 with value: -0.454421645847596.\u001b[0m\n",
            "\u001b[32m[I 2021-09-05 02:15:33,631]\u001b[0m Trial 92 finished with value: -0.4475265737530606 and parameters: {'criterion': 'gini', 'max_depth': 59}. Best is trial 64 with value: -0.454421645847596.\u001b[0m\n",
            "\u001b[32m[I 2021-09-05 02:15:33,778]\u001b[0m Trial 93 finished with value: -0.4464213923216313 and parameters: {'criterion': 'gini', 'max_depth': 56}. Best is trial 64 with value: -0.454421645847596.\u001b[0m\n",
            "\u001b[32m[I 2021-09-05 02:15:33,929]\u001b[0m Trial 94 finished with value: -0.4475386622359629 and parameters: {'criterion': 'gini', 'max_depth': 30}. Best is trial 64 with value: -0.454421645847596.\u001b[0m\n",
            "\u001b[32m[I 2021-09-05 02:15:34,074]\u001b[0m Trial 95 finished with value: -0.44289916025233095 and parameters: {'criterion': 'gini', 'max_depth': 54}. Best is trial 64 with value: -0.454421645847596.\u001b[0m\n",
            "\u001b[32m[I 2021-09-05 02:15:34,223]\u001b[0m Trial 96 finished with value: -0.44744576371403333 and parameters: {'criterion': 'gini', 'max_depth': 49}. Best is trial 64 with value: -0.454421645847596.\u001b[0m\n",
            "\u001b[32m[I 2021-09-05 02:15:34,370]\u001b[0m Trial 97 finished with value: -0.44749178013579627 and parameters: {'criterion': 'gini', 'max_depth': 51}. Best is trial 64 with value: -0.454421645847596.\u001b[0m\n",
            "\u001b[32m[I 2021-09-05 02:15:34,513]\u001b[0m Trial 98 finished with value: -0.4521027984053447 and parameters: {'criterion': 'gini', 'max_depth': 44}. Best is trial 64 with value: -0.454421645847596.\u001b[0m\n",
            "\u001b[32m[I 2021-09-05 02:15:34,661]\u001b[0m Trial 99 finished with value: -0.44881960171978424 and parameters: {'criterion': 'gini', 'max_depth': 44}. Best is trial 64 with value: -0.454421645847596.\u001b[0m\n",
            "\u001b[32m[I 2021-09-05 02:15:34,805]\u001b[0m Trial 100 finished with value: -0.44748327570571667 and parameters: {'criterion': 'gini', 'max_depth': 39}. Best is trial 64 with value: -0.454421645847596.\u001b[0m\n",
            "\u001b[32m[I 2021-09-05 02:15:34,957]\u001b[0m Trial 101 finished with value: -0.44523206145876415 and parameters: {'criterion': 'gini', 'max_depth': 42}. Best is trial 64 with value: -0.454421645847596.\u001b[0m\n",
            "\u001b[32m[I 2021-09-05 02:15:35,100]\u001b[0m Trial 102 finished with value: -0.4475628266853896 and parameters: {'criterion': 'gini', 'max_depth': 46}. Best is trial 64 with value: -0.454421645847596.\u001b[0m\n",
            "\u001b[32m[I 2021-09-05 02:15:35,249]\u001b[0m Trial 103 finished with value: -0.44635419068393006 and parameters: {'criterion': 'gini', 'max_depth': 35}. Best is trial 64 with value: -0.454421645847596.\u001b[0m\n",
            "\u001b[32m[I 2021-09-05 02:15:35,394]\u001b[0m Trial 104 finished with value: -0.44645531494351465 and parameters: {'criterion': 'gini', 'max_depth': 26}. Best is trial 64 with value: -0.454421645847596.\u001b[0m\n",
            "\u001b[32m[I 2021-09-05 02:15:35,537]\u001b[0m Trial 105 finished with value: -0.4463430561458642 and parameters: {'criterion': 'gini', 'max_depth': 57}. Best is trial 64 with value: -0.454421645847596.\u001b[0m\n",
            "\u001b[32m[I 2021-09-05 02:15:35,684]\u001b[0m Trial 106 finished with value: -0.4440992449477135 and parameters: {'criterion': 'gini', 'max_depth': 48}. Best is trial 64 with value: -0.454421645847596.\u001b[0m\n",
            "\u001b[32m[I 2021-09-05 02:15:35,833]\u001b[0m Trial 107 finished with value: -0.43719993905417587 and parameters: {'criterion': 'entropy', 'max_depth': 45}. Best is trial 64 with value: -0.454421645847596.\u001b[0m\n",
            "\u001b[32m[I 2021-09-05 02:15:35,968]\u001b[0m Trial 108 finished with value: -0.09482985787844753 and parameters: {'criterion': 'gini', 'max_depth': 7}. Best is trial 64 with value: -0.454421645847596.\u001b[0m\n",
            "\u001b[32m[I 2021-09-05 02:15:36,123]\u001b[0m Trial 109 finished with value: -0.44866852240595 and parameters: {'criterion': 'gini', 'max_depth': 55}. Best is trial 64 with value: -0.454421645847596.\u001b[0m\n",
            "\u001b[32m[I 2021-09-05 02:15:36,281]\u001b[0m Trial 110 finished with value: -0.44971436564091183 and parameters: {'criterion': 'gini', 'max_depth': 53}. Best is trial 64 with value: -0.454421645847596.\u001b[0m\n",
            "\u001b[32m[I 2021-09-05 02:15:36,424]\u001b[0m Trial 111 finished with value: -0.44865227229515314 and parameters: {'criterion': 'gini', 'max_depth': 49}. Best is trial 64 with value: -0.454421645847596.\u001b[0m\n",
            "\u001b[32m[I 2021-09-05 02:15:36,575]\u001b[0m Trial 112 finished with value: -0.44521509810821225 and parameters: {'criterion': 'gini', 'max_depth': 52}. Best is trial 64 with value: -0.454421645847596.\u001b[0m\n",
            "\u001b[32m[I 2021-09-05 02:15:36,727]\u001b[0m Trial 113 finished with value: -0.4441154735518613 and parameters: {'criterion': 'gini', 'max_depth': 60}. Best is trial 64 with value: -0.454421645847596.\u001b[0m\n",
            "\u001b[32m[I 2021-09-05 02:15:36,877]\u001b[0m Trial 114 finished with value: -0.44528771861106853 and parameters: {'criterion': 'gini', 'max_depth': 51}. Best is trial 64 with value: -0.454421645847596.\u001b[0m\n",
            "\u001b[32m[I 2021-09-05 02:15:37,028]\u001b[0m Trial 115 finished with value: -0.4464259628667147 and parameters: {'criterion': 'gini', 'max_depth': 33}. Best is trial 64 with value: -0.454421645847596.\u001b[0m\n",
            "\u001b[32m[I 2021-09-05 02:15:37,174]\u001b[0m Trial 116 finished with value: -0.449796440709923 and parameters: {'criterion': 'gini', 'max_depth': 29}. Best is trial 64 with value: -0.454421645847596.\u001b[0m\n",
            "\u001b[32m[I 2021-09-05 02:15:37,330]\u001b[0m Trial 117 finished with value: -0.4474896184819242 and parameters: {'criterion': 'gini', 'max_depth': 47}. Best is trial 64 with value: -0.454421645847596.\u001b[0m\n",
            "\u001b[32m[I 2021-09-05 02:15:37,491]\u001b[0m Trial 118 finished with value: -0.4498541798845369 and parameters: {'criterion': 'gini', 'max_depth': 37}. Best is trial 64 with value: -0.454421645847596.\u001b[0m\n",
            "\u001b[32m[I 2021-09-05 02:15:37,641]\u001b[0m Trial 119 finished with value: -0.4488121923460347 and parameters: {'criterion': 'gini', 'max_depth': 50}. Best is trial 64 with value: -0.454421645847596.\u001b[0m\n",
            "\u001b[32m[I 2021-09-05 02:15:37,790]\u001b[0m Trial 120 finished with value: -0.436121451893605 and parameters: {'criterion': 'entropy', 'max_depth': 44}. Best is trial 64 with value: -0.454421645847596.\u001b[0m\n",
            "\u001b[32m[I 2021-09-05 02:15:37,943]\u001b[0m Trial 121 finished with value: -0.447535887298715 and parameters: {'criterion': 'gini', 'max_depth': 62}. Best is trial 64 with value: -0.454421645847596.\u001b[0m\n",
            "\u001b[32m[I 2021-09-05 02:15:38,089]\u001b[0m Trial 122 finished with value: -0.44522504068749746 and parameters: {'criterion': 'gini', 'max_depth': 60}. Best is trial 64 with value: -0.454421645847596.\u001b[0m\n",
            "\u001b[32m[I 2021-09-05 02:15:38,241]\u001b[0m Trial 123 finished with value: -0.44636263862513337 and parameters: {'criterion': 'gini', 'max_depth': 58}. Best is trial 64 with value: -0.454421645847596.\u001b[0m\n",
            "\u001b[32m[I 2021-09-05 02:15:38,404]\u001b[0m Trial 124 finished with value: -0.44745714016973037 and parameters: {'criterion': 'gini', 'max_depth': 53}. Best is trial 64 with value: -0.454421645847596.\u001b[0m\n",
            "\u001b[32m[I 2021-09-05 02:15:38,551]\u001b[0m Trial 125 finished with value: -0.44873528822760633 and parameters: {'criterion': 'gini', 'max_depth': 55}. Best is trial 64 with value: -0.454421645847596.\u001b[0m\n",
            "\u001b[32m[I 2021-09-05 02:15:38,696]\u001b[0m Trial 126 finished with value: -0.4521358968250862 and parameters: {'criterion': 'gini', 'max_depth': 57}. Best is trial 64 with value: -0.454421645847596.\u001b[0m\n",
            "\u001b[32m[I 2021-09-05 02:15:38,842]\u001b[0m Trial 127 finished with value: -0.44980933476864093 and parameters: {'criterion': 'gini', 'max_depth': 57}. Best is trial 64 with value: -0.454421645847596.\u001b[0m\n",
            "\u001b[32m[I 2021-09-05 02:15:38,990]\u001b[0m Trial 128 finished with value: -0.4531765993726286 and parameters: {'criterion': 'gini', 'max_depth': 31}. Best is trial 64 with value: -0.454421645847596.\u001b[0m\n",
            "\u001b[32m[I 2021-09-05 02:15:39,142]\u001b[0m Trial 129 finished with value: -0.4452554882356691 and parameters: {'criterion': 'gini', 'max_depth': 31}. Best is trial 64 with value: -0.454421645847596.\u001b[0m\n",
            "\u001b[32m[I 2021-09-05 02:15:39,293]\u001b[0m Trial 130 finished with value: -0.443051687073517 and parameters: {'criterion': 'gini', 'max_depth': 34}. Best is trial 64 with value: -0.454421645847596.\u001b[0m\n",
            "\u001b[32m[I 2021-09-05 02:15:39,447]\u001b[0m Trial 131 finished with value: -0.4475683978616285 and parameters: {'criterion': 'gini', 'max_depth': 32}. Best is trial 64 with value: -0.454421645847596.\u001b[0m\n",
            "\u001b[32m[I 2021-09-05 02:15:39,592]\u001b[0m Trial 132 finished with value: -0.4464274353052655 and parameters: {'criterion': 'gini', 'max_depth': 27}. Best is trial 64 with value: -0.454421645847596.\u001b[0m\n",
            "\u001b[32m[I 2021-09-05 02:15:39,737]\u001b[0m Trial 133 finished with value: -0.4475509640943314 and parameters: {'criterion': 'gini', 'max_depth': 29}. Best is trial 64 with value: -0.454421645847596.\u001b[0m\n",
            "\u001b[32m[I 2021-09-05 02:15:39,884]\u001b[0m Trial 134 finished with value: -0.45209159977468516 and parameters: {'criterion': 'gini', 'max_depth': 55}. Best is trial 64 with value: -0.454421645847596.\u001b[0m\n",
            "\u001b[32m[I 2021-09-05 02:15:40,033]\u001b[0m Trial 135 finished with value: -0.4509377423842055 and parameters: {'criterion': 'gini', 'max_depth': 56}. Best is trial 64 with value: -0.454421645847596.\u001b[0m\n",
            "\u001b[32m[I 2021-09-05 02:15:40,186]\u001b[0m Trial 136 finished with value: -0.44401337303366883 and parameters: {'criterion': 'gini', 'max_depth': 54}. Best is trial 64 with value: -0.454421645847596.\u001b[0m\n",
            "\u001b[32m[I 2021-09-05 02:15:40,344]\u001b[0m Trial 137 finished with value: -0.44299924930179263 and parameters: {'criterion': 'gini', 'max_depth': 58}. Best is trial 64 with value: -0.454421645847596.\u001b[0m\n",
            "\u001b[32m[I 2021-09-05 02:15:40,488]\u001b[0m Trial 138 finished with value: -0.44521292720025024 and parameters: {'criterion': 'gini', 'max_depth': 52}. Best is trial 64 with value: -0.454421645847596.\u001b[0m\n",
            "\u001b[32m[I 2021-09-05 02:15:40,641]\u001b[0m Trial 139 finished with value: -0.4486614916325527 and parameters: {'criterion': 'gini', 'max_depth': 42}. Best is trial 64 with value: -0.454421645847596.\u001b[0m\n",
            "\u001b[32m[I 2021-09-05 02:15:40,789]\u001b[0m Trial 140 finished with value: -0.4464621963284234 and parameters: {'criterion': 'gini', 'max_depth': 56}. Best is trial 64 with value: -0.454421645847596.\u001b[0m\n",
            "\u001b[32m[I 2021-09-05 02:15:40,946]\u001b[0m Trial 141 finished with value: -0.44972421171508303 and parameters: {'criterion': 'gini', 'max_depth': 59}. Best is trial 64 with value: -0.454421645847596.\u001b[0m\n",
            "\u001b[32m[I 2021-09-05 02:15:41,089]\u001b[0m Trial 142 finished with value: -0.44639026393757053 and parameters: {'criterion': 'gini', 'max_depth': 57}. Best is trial 64 with value: -0.454421645847596.\u001b[0m\n",
            "\u001b[32m[I 2021-09-05 02:15:41,236]\u001b[0m Trial 143 finished with value: -0.44648589105766573 and parameters: {'criterion': 'gini', 'max_depth': 50}. Best is trial 64 with value: -0.454421645847596.\u001b[0m\n",
            "\u001b[32m[I 2021-09-05 02:15:41,394]\u001b[0m Trial 144 finished with value: -0.4474340713135489 and parameters: {'criterion': 'gini', 'max_depth': 54}. Best is trial 64 with value: -0.454421645847596.\u001b[0m\n",
            "\u001b[32m[I 2021-09-05 02:15:41,541]\u001b[0m Trial 145 finished with value: -0.4463576139995025 and parameters: {'criterion': 'gini', 'max_depth': 30}. Best is trial 64 with value: -0.454421645847596.\u001b[0m\n",
            "\u001b[32m[I 2021-09-05 02:15:41,689]\u001b[0m Trial 146 finished with value: -0.44638735229861914 and parameters: {'criterion': 'gini', 'max_depth': 55}. Best is trial 64 with value: -0.454421645847596.\u001b[0m\n",
            "\u001b[32m[I 2021-09-05 02:15:41,832]\u001b[0m Trial 147 finished with value: -0.4485616158721869 and parameters: {'criterion': 'gini', 'max_depth': 61}. Best is trial 64 with value: -0.454421645847596.\u001b[0m\n",
            "\u001b[32m[I 2021-09-05 02:15:41,987]\u001b[0m Trial 148 finished with value: -0.43831141251561245 and parameters: {'criterion': 'entropy', 'max_depth': 48}. Best is trial 64 with value: -0.454421645847596.\u001b[0m\n",
            "\u001b[32m[I 2021-09-05 02:15:42,133]\u001b[0m Trial 149 finished with value: -0.44633560322773536 and parameters: {'criterion': 'gini', 'max_depth': 56}. Best is trial 64 with value: -0.454421645847596.\u001b[0m\n",
            "\u001b[32m[I 2021-09-05 02:15:42,286]\u001b[0m Trial 150 finished with value: -0.4486284357013245 and parameters: {'criterion': 'gini', 'max_depth': 35}. Best is trial 64 with value: -0.454421645847596.\u001b[0m\n",
            "\u001b[32m[I 2021-09-05 02:15:42,435]\u001b[0m Trial 151 finished with value: -0.44749701327898145 and parameters: {'criterion': 'gini', 'max_depth': 53}. Best is trial 64 with value: -0.454421645847596.\u001b[0m\n",
            "\u001b[32m[I 2021-09-05 02:15:42,581]\u001b[0m Trial 152 finished with value: -0.44754975927293106 and parameters: {'criterion': 'gini', 'max_depth': 52}. Best is trial 64 with value: -0.454421645847596.\u001b[0m\n",
            "\u001b[32m[I 2021-09-05 02:15:42,730]\u001b[0m Trial 153 finished with value: -0.4441458829348493 and parameters: {'criterion': 'gini', 'max_depth': 54}. Best is trial 64 with value: -0.454421645847596.\u001b[0m\n",
            "\u001b[32m[I 2021-09-05 02:15:42,870]\u001b[0m Trial 154 finished with value: -0.44866973103805075 and parameters: {'criterion': 'gini', 'max_depth': 51}. Best is trial 64 with value: -0.454421645847596.\u001b[0m\n",
            "\u001b[32m[I 2021-09-05 02:15:43,018]\u001b[0m Trial 155 finished with value: -0.4463989399148872 and parameters: {'criterion': 'gini', 'max_depth': 46}. Best is trial 64 with value: -0.454421645847596.\u001b[0m\n",
            "\u001b[32m[I 2021-09-05 02:15:43,159]\u001b[0m Trial 156 finished with value: -0.4453051415553155 and parameters: {'criterion': 'gini', 'max_depth': 32}. Best is trial 64 with value: -0.454421645847596.\u001b[0m\n",
            "\u001b[32m[I 2021-09-05 02:15:43,308]\u001b[0m Trial 157 finished with value: -0.4486916836290911 and parameters: {'criterion': 'gini', 'max_depth': 49}. Best is trial 64 with value: -0.454421645847596.\u001b[0m\n",
            "\u001b[32m[I 2021-09-05 02:15:43,460]\u001b[0m Trial 158 finished with value: -0.4193632392070179 and parameters: {'criterion': 'gini', 'max_depth': 19}. Best is trial 64 with value: -0.454421645847596.\u001b[0m\n",
            "\u001b[32m[I 2021-09-05 02:15:43,606]\u001b[0m Trial 159 finished with value: -0.447478236595901 and parameters: {'criterion': 'gini', 'max_depth': 55}. Best is trial 64 with value: -0.454421645847596.\u001b[0m\n",
            "\u001b[32m[I 2021-09-05 02:15:43,769]\u001b[0m Trial 160 finished with value: -0.4452261090087218 and parameters: {'criterion': 'gini', 'max_depth': 47}. Best is trial 64 with value: -0.454421645847596.\u001b[0m\n",
            "\u001b[32m[I 2021-09-05 02:15:43,917]\u001b[0m Trial 161 finished with value: -0.44643684974351794 and parameters: {'criterion': 'gini', 'max_depth': 58}. Best is trial 64 with value: -0.454421645847596.\u001b[0m\n",
            "\u001b[32m[I 2021-09-05 02:15:44,061]\u001b[0m Trial 162 finished with value: -0.44985515903286777 and parameters: {'criterion': 'gini', 'max_depth': 59}. Best is trial 64 with value: -0.454421645847596.\u001b[0m\n",
            "\u001b[32m[I 2021-09-05 02:15:44,209]\u001b[0m Trial 163 finished with value: -0.44753679013482967 and parameters: {'criterion': 'gini', 'max_depth': 57}. Best is trial 64 with value: -0.454421645847596.\u001b[0m\n",
            "\u001b[32m[I 2021-09-05 02:15:44,356]\u001b[0m Trial 164 finished with value: -0.45431588232878123 and parameters: {'criterion': 'gini', 'max_depth': 56}. Best is trial 64 with value: -0.454421645847596.\u001b[0m\n",
            "\u001b[32m[I 2021-09-05 02:15:44,512]\u001b[0m Trial 165 finished with value: -0.4452770824759254 and parameters: {'criterion': 'gini', 'max_depth': 28}. Best is trial 64 with value: -0.454421645847596.\u001b[0m\n",
            "\u001b[32m[I 2021-09-05 02:15:44,663]\u001b[0m Trial 166 finished with value: -0.4462878444646563 and parameters: {'criterion': 'gini', 'max_depth': 56}. Best is trial 64 with value: -0.454421645847596.\u001b[0m\n",
            "\u001b[32m[I 2021-09-05 02:15:44,802]\u001b[0m Trial 167 finished with value: -0.4498788250106848 and parameters: {'criterion': 'gini', 'max_depth': 52}. Best is trial 64 with value: -0.454421645847596.\u001b[0m\n",
            "\u001b[32m[I 2021-09-05 02:15:44,948]\u001b[0m Trial 168 finished with value: -0.44066520464780445 and parameters: {'criterion': 'gini', 'max_depth': 34}. Best is trial 64 with value: -0.454421645847596.\u001b[0m\n",
            "\u001b[32m[I 2021-09-05 02:15:45,104]\u001b[0m Trial 169 finished with value: -0.4372173409500538 and parameters: {'criterion': 'entropy', 'max_depth': 45}. Best is trial 64 with value: -0.454421645847596.\u001b[0m\n",
            "\u001b[32m[I 2021-09-05 02:15:45,247]\u001b[0m Trial 170 finished with value: -0.44868163081930534 and parameters: {'criterion': 'gini', 'max_depth': 55}. Best is trial 64 with value: -0.454421645847596.\u001b[0m\n",
            "\u001b[32m[I 2021-09-05 02:15:45,395]\u001b[0m Trial 171 finished with value: -0.445175054147843 and parameters: {'criterion': 'gini', 'max_depth': 52}. Best is trial 64 with value: -0.454421645847596.\u001b[0m\n",
            "\u001b[32m[I 2021-09-05 02:15:45,545]\u001b[0m Trial 172 finished with value: -0.44975757558946716 and parameters: {'criterion': 'gini', 'max_depth': 50}. Best is trial 64 with value: -0.454421645847596.\u001b[0m\n",
            "\u001b[32m[I 2021-09-05 02:15:45,693]\u001b[0m Trial 173 finished with value: -0.4509304232331465 and parameters: {'criterion': 'gini', 'max_depth': 53}. Best is trial 64 with value: -0.454421645847596.\u001b[0m\n",
            "\u001b[32m[I 2021-09-05 02:15:45,850]\u001b[0m Trial 174 finished with value: -0.44976117238456476 and parameters: {'criterion': 'gini', 'max_depth': 31}. Best is trial 64 with value: -0.454421645847596.\u001b[0m\n",
            "\u001b[32m[I 2021-09-05 02:15:46,000]\u001b[0m Trial 175 finished with value: -0.44517069596222847 and parameters: {'criterion': 'gini', 'max_depth': 54}. Best is trial 64 with value: -0.454421645847596.\u001b[0m\n",
            "\u001b[32m[I 2021-09-05 02:15:46,149]\u001b[0m Trial 176 finished with value: -0.4509186799574484 and parameters: {'criterion': 'gini', 'max_depth': 56}. Best is trial 64 with value: -0.454421645847596.\u001b[0m\n",
            "\u001b[32m[I 2021-09-05 02:15:46,293]\u001b[0m Trial 177 finished with value: -0.44632096507731517 and parameters: {'criterion': 'gini', 'max_depth': 57}. Best is trial 64 with value: -0.454421645847596.\u001b[0m\n",
            "\u001b[32m[I 2021-09-05 02:15:46,454]\u001b[0m Trial 178 finished with value: -0.44645985391826865 and parameters: {'criterion': 'gini', 'max_depth': 60}. Best is trial 64 with value: -0.454421645847596.\u001b[0m\n",
            "\u001b[32m[I 2021-09-05 02:15:46,601]\u001b[0m Trial 179 finished with value: -0.4429607415637589 and parameters: {'criterion': 'gini', 'max_depth': 64}. Best is trial 64 with value: -0.454421645847596.\u001b[0m\n",
            "\u001b[32m[I 2021-09-05 02:15:46,751]\u001b[0m Trial 180 finished with value: -0.4464215291766195 and parameters: {'criterion': 'gini', 'max_depth': 56}. Best is trial 64 with value: -0.454421645847596.\u001b[0m\n",
            "\u001b[32m[I 2021-09-05 02:15:46,895]\u001b[0m Trial 181 finished with value: -0.4464213392891372 and parameters: {'criterion': 'gini', 'max_depth': 54}. Best is trial 64 with value: -0.454421645847596.\u001b[0m\n",
            "\u001b[32m[I 2021-09-05 02:15:47,042]\u001b[0m Trial 182 finished with value: -0.44529909540851415 and parameters: {'criterion': 'gini', 'max_depth': 53}. Best is trial 64 with value: -0.454421645847596.\u001b[0m\n",
            "\u001b[32m[I 2021-09-05 02:15:47,190]\u001b[0m Trial 183 finished with value: -0.44187126462664167 and parameters: {'criterion': 'gini', 'max_depth': 55}. Best is trial 64 with value: -0.454421645847596.\u001b[0m\n",
            "\u001b[32m[I 2021-09-05 02:15:47,343]\u001b[0m Trial 184 finished with value: -0.4497469274338508 and parameters: {'criterion': 'gini', 'max_depth': 58}. Best is trial 64 with value: -0.454421645847596.\u001b[0m\n",
            "\u001b[32m[I 2021-09-05 02:15:47,497]\u001b[0m Trial 185 finished with value: -0.4464429442477441 and parameters: {'criterion': 'gini', 'max_depth': 51}. Best is trial 64 with value: -0.454421645847596.\u001b[0m\n",
            "\u001b[32m[I 2021-09-05 02:15:47,641]\u001b[0m Trial 186 finished with value: -0.4464160107993146 and parameters: {'criterion': 'gini', 'max_depth': 48}. Best is trial 64 with value: -0.454421645847596.\u001b[0m\n",
            "\u001b[32m[I 2021-09-05 02:15:47,786]\u001b[0m Trial 187 finished with value: -0.44879124827297134 and parameters: {'criterion': 'gini', 'max_depth': 30}. Best is trial 64 with value: -0.454421645847596.\u001b[0m\n",
            "\u001b[32m[I 2021-09-05 02:15:47,930]\u001b[0m Trial 188 finished with value: -0.44858974344021874 and parameters: {'criterion': 'gini', 'max_depth': 43}. Best is trial 64 with value: -0.454421645847596.\u001b[0m\n",
            "\u001b[32m[I 2021-09-05 02:15:48,074]\u001b[0m Trial 189 finished with value: -0.4485960836394994 and parameters: {'criterion': 'gini', 'max_depth': 50}. Best is trial 64 with value: -0.454421645847596.\u001b[0m\n",
            "\u001b[32m[I 2021-09-05 02:15:48,215]\u001b[0m Trial 190 finished with value: -0.444140316571656 and parameters: {'criterion': 'gini', 'max_depth': 56}. Best is trial 64 with value: -0.454421645847596.\u001b[0m\n",
            "\u001b[32m[I 2021-09-05 02:15:48,363]\u001b[0m Trial 191 finished with value: -0.4463005788246989 and parameters: {'criterion': 'gini', 'max_depth': 52}. Best is trial 64 with value: -0.454421645847596.\u001b[0m\n",
            "\u001b[32m[I 2021-09-05 02:15:48,517]\u001b[0m Trial 192 finished with value: -0.44639874840488447 and parameters: {'criterion': 'gini', 'max_depth': 53}. Best is trial 64 with value: -0.454421645847596.\u001b[0m\n",
            "\u001b[32m[I 2021-09-05 02:15:48,668]\u001b[0m Trial 193 finished with value: -0.44529920016234825 and parameters: {'criterion': 'gini', 'max_depth': 54}. Best is trial 64 with value: -0.454421645847596.\u001b[0m\n",
            "\u001b[32m[I 2021-09-05 02:15:48,816]\u001b[0m Trial 194 finished with value: -0.4453300553458256 and parameters: {'criterion': 'gini', 'max_depth': 33}. Best is trial 64 with value: -0.454421645847596.\u001b[0m\n",
            "\u001b[32m[I 2021-09-05 02:15:48,957]\u001b[0m Trial 195 finished with value: -0.4476052675078024 and parameters: {'criterion': 'gini', 'max_depth': 49}. Best is trial 64 with value: -0.454421645847596.\u001b[0m\n",
            "\u001b[32m[I 2021-09-05 02:15:49,111]\u001b[0m Trial 196 finished with value: -0.4497671351719245 and parameters: {'criterion': 'gini', 'max_depth': 51}. Best is trial 64 with value: -0.454421645847596.\u001b[0m\n",
            "\u001b[32m[I 2021-09-05 02:15:49,253]\u001b[0m Trial 197 finished with value: -0.45211155666291025 and parameters: {'criterion': 'gini', 'max_depth': 57}. Best is trial 64 with value: -0.454421645847596.\u001b[0m\n",
            "\u001b[32m[I 2021-09-05 02:15:49,400]\u001b[0m Trial 198 finished with value: -0.4452737974281219 and parameters: {'criterion': 'gini', 'max_depth': 57}. Best is trial 64 with value: -0.454421645847596.\u001b[0m\n",
            "\u001b[32m[I 2021-09-05 02:15:49,553]\u001b[0m Trial 199 finished with value: -0.4509162320251394 and parameters: {'criterion': 'gini', 'max_depth': 59}. Best is trial 64 with value: -0.454421645847596.\u001b[0m\n",
            "\u001b[32m[I 2021-09-05 02:15:49,696]\u001b[0m Trial 200 finished with value: -0.4441171862137635 and parameters: {'criterion': 'gini', 'max_depth': 59}. Best is trial 64 with value: -0.454421645847596.\u001b[0m\n",
            "\u001b[32m[I 2021-09-05 02:15:49,843]\u001b[0m Trial 201 finished with value: -0.45101148134038266 and parameters: {'criterion': 'gini', 'max_depth': 58}. Best is trial 64 with value: -0.454421645847596.\u001b[0m\n",
            "\u001b[32m[I 2021-09-05 02:15:49,990]\u001b[0m Trial 202 finished with value: -0.4475096337555887 and parameters: {'criterion': 'gini', 'max_depth': 57}. Best is trial 64 with value: -0.454421645847596.\u001b[0m\n",
            "\u001b[32m[I 2021-09-05 02:15:50,139]\u001b[0m Trial 203 finished with value: -0.4452817175998288 and parameters: {'criterion': 'gini', 'max_depth': 61}. Best is trial 64 with value: -0.454421645847596.\u001b[0m\n",
            "\u001b[32m[I 2021-09-05 02:15:50,286]\u001b[0m Trial 204 finished with value: -0.44410578452259114 and parameters: {'criterion': 'gini', 'max_depth': 59}. Best is trial 64 with value: -0.454421645847596.\u001b[0m\n",
            "\u001b[32m[I 2021-09-05 02:15:50,428]\u001b[0m Trial 205 finished with value: -0.4464270233497027 and parameters: {'criterion': 'gini', 'max_depth': 58}. Best is trial 64 with value: -0.454421645847596.\u001b[0m\n",
            "\u001b[32m[I 2021-09-05 02:15:50,582]\u001b[0m Trial 206 finished with value: -0.4452937823748392 and parameters: {'criterion': 'gini', 'max_depth': 60}. Best is trial 64 with value: -0.454421645847596.\u001b[0m\n",
            "\u001b[32m[I 2021-09-05 02:15:50,734]\u001b[0m Trial 207 finished with value: -0.4417481075736984 and parameters: {'criterion': 'entropy', 'max_depth': 56}. Best is trial 64 with value: -0.454421645847596.\u001b[0m\n",
            "\u001b[32m[I 2021-09-05 02:15:50,891]\u001b[0m Trial 208 finished with value: -0.2870804062219214 and parameters: {'criterion': 'gini', 'max_depth': 12}. Best is trial 64 with value: -0.454421645847596.\u001b[0m\n",
            "\u001b[32m[I 2021-09-05 02:15:51,041]\u001b[0m Trial 209 finished with value: -0.4497680289101166 and parameters: {'criterion': 'gini', 'max_depth': 55}. Best is trial 64 with value: -0.454421645847596.\u001b[0m\n",
            "\u001b[32m[I 2021-09-05 02:15:51,188]\u001b[0m Trial 210 finished with value: -0.44632939154887713 and parameters: {'criterion': 'gini', 'max_depth': 59}. Best is trial 64 with value: -0.454421645847596.\u001b[0m\n",
            "\u001b[32m[I 2021-09-05 02:15:51,340]\u001b[0m Trial 211 finished with value: -0.44633731454200226 and parameters: {'criterion': 'gini', 'max_depth': 57}. Best is trial 64 with value: -0.454421645847596.\u001b[0m\n",
            "\u001b[32m[I 2021-09-05 02:15:51,491]\u001b[0m Trial 212 finished with value: -0.44183807132430675 and parameters: {'criterion': 'gini', 'max_depth': 56}. Best is trial 64 with value: -0.454421645847596.\u001b[0m\n",
            "\u001b[32m[I 2021-09-05 02:15:51,639]\u001b[0m Trial 213 finished with value: -0.4498405747546184 and parameters: {'criterion': 'gini', 'max_depth': 55}. Best is trial 64 with value: -0.454421645847596.\u001b[0m\n",
            "\u001b[32m[I 2021-09-05 02:15:51,788]\u001b[0m Trial 214 finished with value: -0.4486693937737821 and parameters: {'criterion': 'gini', 'max_depth': 58}. Best is trial 64 with value: -0.454421645847596.\u001b[0m\n",
            "\u001b[32m[I 2021-09-05 02:15:51,934]\u001b[0m Trial 215 finished with value: -0.44757571819852204 and parameters: {'criterion': 'gini', 'max_depth': 31}. Best is trial 64 with value: -0.454421645847596.\u001b[0m\n",
            "\u001b[32m[I 2021-09-05 02:15:52,096]\u001b[0m Trial 216 finished with value: -0.44987450651888067 and parameters: {'criterion': 'gini', 'max_depth': 40}. Best is trial 64 with value: -0.454421645847596.\u001b[0m\n",
            "\u001b[32m[I 2021-09-05 02:15:52,238]\u001b[0m Trial 217 finished with value: -0.44746827879402834 and parameters: {'criterion': 'gini', 'max_depth': 62}. Best is trial 64 with value: -0.454421645847596.\u001b[0m\n",
            "\u001b[32m[I 2021-09-05 02:15:52,392]\u001b[0m Trial 218 finished with value: -0.4463484071076735 and parameters: {'criterion': 'gini', 'max_depth': 54}. Best is trial 64 with value: -0.454421645847596.\u001b[0m\n",
            "\u001b[32m[I 2021-09-05 02:15:52,545]\u001b[0m Trial 219 finished with value: -0.4487298833522096 and parameters: {'criterion': 'gini', 'max_depth': 57}. Best is trial 64 with value: -0.454421645847596.\u001b[0m\n",
            "\u001b[32m[I 2021-09-05 02:15:52,694]\u001b[0m Trial 220 finished with value: -0.4430372483861381 and parameters: {'criterion': 'gini', 'max_depth': 29}. Best is trial 64 with value: -0.454421645847596.\u001b[0m\n",
            "\u001b[32m[I 2021-09-05 02:15:52,839]\u001b[0m Trial 221 finished with value: -0.4441449670072294 and parameters: {'criterion': 'gini', 'max_depth': 53}. Best is trial 64 with value: -0.454421645847596.\u001b[0m\n",
            "\u001b[32m[I 2021-09-05 02:15:52,983]\u001b[0m Trial 222 finished with value: -0.44874105230345485 and parameters: {'criterion': 'gini', 'max_depth': 55}. Best is trial 64 with value: -0.454421645847596.\u001b[0m\n",
            "\u001b[32m[I 2021-09-05 02:15:53,134]\u001b[0m Trial 223 finished with value: -0.4464262950662265 and parameters: {'criterion': 'gini', 'max_depth': 52}. Best is trial 64 with value: -0.454421645847596.\u001b[0m\n",
            "\u001b[32m[I 2021-09-05 02:15:53,285]\u001b[0m Trial 224 finished with value: -0.44404834864148307 and parameters: {'criterion': 'gini', 'max_depth': 46}. Best is trial 64 with value: -0.454421645847596.\u001b[0m\n",
            "\u001b[32m[I 2021-09-05 02:15:53,429]\u001b[0m Trial 225 finished with value: -0.4429913026138387 and parameters: {'criterion': 'gini', 'max_depth': 58}. Best is trial 64 with value: -0.454421645847596.\u001b[0m\n",
            "\u001b[32m[I 2021-09-05 02:15:53,580]\u001b[0m Trial 226 finished with value: -0.44744769277966495 and parameters: {'criterion': 'gini', 'max_depth': 53}. Best is trial 64 with value: -0.454421645847596.\u001b[0m\n",
            "\u001b[32m[I 2021-09-05 02:15:53,728]\u001b[0m Trial 227 finished with value: -0.4544298312182546 and parameters: {'criterion': 'gini', 'max_depth': 56}. Best is trial 227 with value: -0.4544298312182546.\u001b[0m\n",
            "\u001b[32m[I 2021-09-05 02:15:53,868]\u001b[0m Trial 228 finished with value: -0.44749118920026076 and parameters: {'criterion': 'gini', 'max_depth': 56}. Best is trial 227 with value: -0.4544298312182546.\u001b[0m\n",
            "\u001b[32m[I 2021-09-05 02:15:54,015]\u001b[0m Trial 229 finished with value: -0.4475135541299897 and parameters: {'criterion': 'gini', 'max_depth': 55}. Best is trial 227 with value: -0.4544298312182546.\u001b[0m\n",
            "\u001b[32m[I 2021-09-05 02:15:54,158]\u001b[0m Trial 230 finished with value: -0.4508897264019285 and parameters: {'criterion': 'gini', 'max_depth': 60}. Best is trial 227 with value: -0.4544298312182546.\u001b[0m\n",
            "\u001b[32m[I 2021-09-05 02:15:54,314]\u001b[0m Trial 231 finished with value: -0.44631936591732113 and parameters: {'criterion': 'gini', 'max_depth': 61}. Best is trial 227 with value: -0.4544298312182546.\u001b[0m\n",
            "\u001b[32m[I 2021-09-05 02:15:54,465]\u001b[0m Trial 232 finished with value: -0.4498020297655997 and parameters: {'criterion': 'gini', 'max_depth': 59}. Best is trial 227 with value: -0.4544298312182546.\u001b[0m\n",
            "\u001b[32m[I 2021-09-05 02:15:54,620]\u001b[0m Trial 233 finished with value: -0.44988081091951077 and parameters: {'criterion': 'gini', 'max_depth': 58}. Best is trial 227 with value: -0.4544298312182546.\u001b[0m\n",
            "\u001b[32m[I 2021-09-05 02:15:54,768]\u001b[0m Trial 234 finished with value: -0.44982530772977103 and parameters: {'criterion': 'gini', 'max_depth': 60}. Best is trial 227 with value: -0.4544298312182546.\u001b[0m\n",
            "\u001b[32m[I 2021-09-05 02:15:54,910]\u001b[0m Trial 235 finished with value: -0.4475728742959798 and parameters: {'criterion': 'gini', 'max_depth': 57}. Best is trial 227 with value: -0.4544298312182546.\u001b[0m\n",
            "\u001b[32m[I 2021-09-05 02:15:55,052]\u001b[0m Trial 236 finished with value: -0.44760817686014737 and parameters: {'criterion': 'gini', 'max_depth': 56}. Best is trial 227 with value: -0.4544298312182546.\u001b[0m\n",
            "\u001b[32m[I 2021-09-05 02:15:55,198]\u001b[0m Trial 237 finished with value: -0.44980542148941094 and parameters: {'criterion': 'gini', 'max_depth': 63}. Best is trial 227 with value: -0.4544298312182546.\u001b[0m\n",
            "\u001b[32m[I 2021-09-05 02:15:55,353]\u001b[0m Trial 238 finished with value: -0.4337351348308343 and parameters: {'criterion': 'entropy', 'max_depth': 33}. Best is trial 227 with value: -0.4544298312182546.\u001b[0m\n",
            "\u001b[32m[I 2021-09-05 02:15:55,489]\u001b[0m Trial 239 finished with value: -0.1529369401541572 and parameters: {'criterion': 'gini', 'max_depth': 9}. Best is trial 227 with value: -0.4544298312182546.\u001b[0m\n",
            "\u001b[32m[I 2021-09-05 02:15:55,643]\u001b[0m Trial 240 finished with value: -0.4475361532124267 and parameters: {'criterion': 'gini', 'max_depth': 54}. Best is trial 227 with value: -0.4544298312182546.\u001b[0m\n",
            "\u001b[32m[I 2021-09-05 02:15:55,785]\u001b[0m Trial 241 finished with value: -0.4486953917652753 and parameters: {'criterion': 'gini', 'max_depth': 59}. Best is trial 227 with value: -0.4544298312182546.\u001b[0m\n",
            "\u001b[32m[I 2021-09-05 02:15:55,931]\u001b[0m Trial 242 finished with value: -0.447490183548746 and parameters: {'criterion': 'gini', 'max_depth': 57}. Best is trial 227 with value: -0.4544298312182546.\u001b[0m\n",
            "\u001b[32m[I 2021-09-05 02:15:56,076]\u001b[0m Trial 243 finished with value: -0.4485988809633561 and parameters: {'criterion': 'gini', 'max_depth': 58}. Best is trial 227 with value: -0.4544298312182546.\u001b[0m\n",
            "\u001b[32m[I 2021-09-05 02:15:56,227]\u001b[0m Trial 244 finished with value: -0.452064077085 and parameters: {'criterion': 'gini', 'max_depth': 31}. Best is trial 227 with value: -0.4544298312182546.\u001b[0m\n",
            "\u001b[32m[I 2021-09-05 02:15:56,376]\u001b[0m Trial 245 finished with value: -0.4429264230970051 and parameters: {'criterion': 'gini', 'max_depth': 32}. Best is trial 227 with value: -0.4544298312182546.\u001b[0m\n",
            "\u001b[32m[I 2021-09-05 02:15:56,530]\u001b[0m Trial 246 finished with value: -0.4429450137163668 and parameters: {'criterion': 'gini', 'max_depth': 31}. Best is trial 227 with value: -0.4544298312182546.\u001b[0m\n",
            "\u001b[32m[I 2021-09-05 02:15:56,684]\u001b[0m Trial 247 finished with value: -0.44988660097330513 and parameters: {'criterion': 'gini', 'max_depth': 29}. Best is trial 227 with value: -0.4544298312182546.\u001b[0m\n",
            "\u001b[32m[I 2021-09-05 02:15:56,834]\u001b[0m Trial 248 finished with value: -0.4486809693579878 and parameters: {'criterion': 'gini', 'max_depth': 48}. Best is trial 227 with value: -0.4544298312182546.\u001b[0m\n",
            "\u001b[32m[I 2021-09-05 02:15:56,982]\u001b[0m Trial 249 finished with value: -0.4475545804605533 and parameters: {'criterion': 'gini', 'max_depth': 30}. Best is trial 227 with value: -0.4544298312182546.\u001b[0m\n",
            "\u001b[32m[I 2021-09-05 02:15:57,126]\u001b[0m Trial 250 finished with value: -0.44083087746236316 and parameters: {'criterion': 'gini', 'max_depth': 24}. Best is trial 227 with value: -0.4544298312182546.\u001b[0m\n",
            "\u001b[32m[I 2021-09-05 02:15:57,273]\u001b[0m Trial 251 finished with value: -0.4464830621306225 and parameters: {'criterion': 'gini', 'max_depth': 34}. Best is trial 227 with value: -0.4544298312182546.\u001b[0m\n",
            "\u001b[32m[I 2021-09-05 02:15:57,420]\u001b[0m Trial 252 finished with value: -0.4441176501994752 and parameters: {'criterion': 'gini', 'max_depth': 56}. Best is trial 227 with value: -0.4544298312182546.\u001b[0m\n",
            "\u001b[32m[I 2021-09-05 02:15:57,567]\u001b[0m Trial 253 finished with value: -0.4497997674930233 and parameters: {'criterion': 'gini', 'max_depth': 55}. Best is trial 227 with value: -0.4544298312182546.\u001b[0m\n",
            "\u001b[32m[I 2021-09-05 02:15:57,717]\u001b[0m Trial 254 finished with value: -0.4475786993639825 and parameters: {'criterion': 'gini', 'max_depth': 32}. Best is trial 227 with value: -0.4544298312182546.\u001b[0m\n",
            "\u001b[32m[I 2021-09-05 02:15:57,867]\u001b[0m Trial 255 finished with value: -0.4474833741958961 and parameters: {'criterion': 'gini', 'max_depth': 50}. Best is trial 227 with value: -0.4544298312182546.\u001b[0m\n",
            "\u001b[32m[I 2021-09-05 02:15:58,016]\u001b[0m Trial 256 finished with value: -0.44632179510906356 and parameters: {'criterion': 'gini', 'max_depth': 44}. Best is trial 227 with value: -0.4544298312182546.\u001b[0m\n",
            "\u001b[32m[I 2021-09-05 02:15:58,177]\u001b[0m Trial 257 finished with value: -0.448694573176752 and parameters: {'criterion': 'gini', 'max_depth': 28}. Best is trial 227 with value: -0.4544298312182546.\u001b[0m\n",
            "\u001b[32m[I 2021-09-05 02:15:58,275]\u001b[0m Trial 258 finished with value: -0.1341952675013549 and parameters: {'criterion': 'gini', 'max_depth': 1}. Best is trial 227 with value: -0.4544298312182546.\u001b[0m\n",
            "\u001b[32m[I 2021-09-05 02:15:58,421]\u001b[0m Trial 259 finished with value: -0.4464466634440277 and parameters: {'criterion': 'gini', 'max_depth': 36}. Best is trial 227 with value: -0.4544298312182546.\u001b[0m\n",
            "\u001b[32m[I 2021-09-05 02:15:58,569]\u001b[0m Trial 260 finished with value: -0.4520445910795067 and parameters: {'criterion': 'gini', 'max_depth': 60}. Best is trial 227 with value: -0.4544298312182546.\u001b[0m\n",
            "\u001b[32m[I 2021-09-05 02:15:58,725]\u001b[0m Trial 261 finished with value: -0.4486659294881602 and parameters: {'criterion': 'gini', 'max_depth': 61}. Best is trial 227 with value: -0.4544298312182546.\u001b[0m\n",
            "\u001b[32m[I 2021-09-05 02:15:58,874]\u001b[0m Trial 262 finished with value: -0.44521059176396294 and parameters: {'criterion': 'gini', 'max_depth': 59}. Best is trial 227 with value: -0.4544298312182546.\u001b[0m\n",
            "\u001b[32m[I 2021-09-05 02:15:59,030]\u001b[0m Trial 263 finished with value: -0.44169471073308636 and parameters: {'criterion': 'entropy', 'max_depth': 60}. Best is trial 227 with value: -0.4544298312182546.\u001b[0m\n",
            "\u001b[32m[I 2021-09-05 02:15:59,178]\u001b[0m Trial 264 finished with value: -0.44757249366970947 and parameters: {'criterion': 'gini', 'max_depth': 58}. Best is trial 227 with value: -0.4544298312182546.\u001b[0m\n",
            "\u001b[32m[I 2021-09-05 02:15:59,332]\u001b[0m Trial 265 finished with value: -0.44638419155359144 and parameters: {'criterion': 'gini', 'max_depth': 57}. Best is trial 227 with value: -0.4544298312182546.\u001b[0m\n",
            "\u001b[32m[I 2021-09-05 02:15:59,473]\u001b[0m Trial 266 finished with value: -0.44636213737188396 and parameters: {'criterion': 'gini', 'max_depth': 62}. Best is trial 227 with value: -0.4544298312182546.\u001b[0m\n",
            "\u001b[32m[I 2021-09-05 02:15:59,617]\u001b[0m Trial 267 finished with value: -0.4487608357268164 and parameters: {'criterion': 'gini', 'max_depth': 56}. Best is trial 227 with value: -0.4544298312182546.\u001b[0m\n",
            "\u001b[32m[I 2021-09-05 02:15:59,771]\u001b[0m Trial 268 finished with value: -0.4498226631037047 and parameters: {'criterion': 'gini', 'max_depth': 60}. Best is trial 227 with value: -0.4544298312182546.\u001b[0m\n",
            "\u001b[32m[I 2021-09-05 02:15:59,919]\u001b[0m Trial 269 finished with value: -0.4476088823333776 and parameters: {'criterion': 'gini', 'max_depth': 47}. Best is trial 227 with value: -0.4544298312182546.\u001b[0m\n",
            "\u001b[32m[I 2021-09-05 02:16:00,069]\u001b[0m Trial 270 finished with value: -0.44643335426657976 and parameters: {'criterion': 'gini', 'max_depth': 57}. Best is trial 227 with value: -0.4544298312182546.\u001b[0m\n",
            "\u001b[32m[I 2021-09-05 02:16:00,222]\u001b[0m Trial 271 finished with value: -0.44520718899311545 and parameters: {'criterion': 'gini', 'max_depth': 54}. Best is trial 227 with value: -0.4544298312182546.\u001b[0m\n",
            "\u001b[32m[I 2021-09-05 02:16:00,376]\u001b[0m Trial 272 finished with value: -0.4452164378608285 and parameters: {'criterion': 'gini', 'max_depth': 45}. Best is trial 227 with value: -0.4544298312182546.\u001b[0m\n",
            "\u001b[32m[I 2021-09-05 02:16:00,523]\u001b[0m Trial 273 finished with value: -0.4464027514911938 and parameters: {'criterion': 'gini', 'max_depth': 43}. Best is trial 227 with value: -0.4544298312182546.\u001b[0m\n",
            "\u001b[32m[I 2021-09-05 02:16:00,674]\u001b[0m Trial 274 finished with value: -0.4451498225255654 and parameters: {'criterion': 'gini', 'max_depth': 32}. Best is trial 227 with value: -0.4544298312182546.\u001b[0m\n",
            "\u001b[32m[I 2021-09-05 02:16:00,817]\u001b[0m Trial 275 finished with value: -0.4475769307565319 and parameters: {'criterion': 'gini', 'max_depth': 58}. Best is trial 227 with value: -0.4544298312182546.\u001b[0m\n",
            "\u001b[32m[I 2021-09-05 02:16:00,969]\u001b[0m Trial 276 finished with value: -0.4464485597609718 and parameters: {'criterion': 'gini', 'max_depth': 55}. Best is trial 227 with value: -0.4544298312182546.\u001b[0m\n",
            "\u001b[32m[I 2021-09-05 02:16:01,121]\u001b[0m Trial 277 finished with value: -0.44986508780588413 and parameters: {'criterion': 'gini', 'max_depth': 61}. Best is trial 227 with value: -0.4544298312182546.\u001b[0m\n",
            "\u001b[32m[I 2021-09-05 02:16:01,278]\u001b[0m Trial 278 finished with value: -0.4520922865517535 and parameters: {'criterion': 'gini', 'max_depth': 30}. Best is trial 227 with value: -0.4544298312182546.\u001b[0m\n",
            "\u001b[32m[I 2021-09-05 02:16:01,424]\u001b[0m Trial 279 finished with value: -0.44759717648143604 and parameters: {'criterion': 'gini', 'max_depth': 30}. Best is trial 227 with value: -0.4544298312182546.\u001b[0m\n",
            "\u001b[32m[I 2021-09-05 02:16:01,573]\u001b[0m Trial 280 finished with value: -0.45214846364838124 and parameters: {'criterion': 'gini', 'max_depth': 31}. Best is trial 227 with value: -0.4544298312182546.\u001b[0m\n",
            "\u001b[32m[I 2021-09-05 02:16:01,725]\u001b[0m Trial 281 finished with value: -0.44190649374289703 and parameters: {'criterion': 'gini', 'max_depth': 26}. Best is trial 227 with value: -0.4544298312182546.\u001b[0m\n",
            "\u001b[32m[I 2021-09-05 02:16:01,874]\u001b[0m Trial 282 finished with value: -0.4441077893132002 and parameters: {'criterion': 'gini', 'max_depth': 31}. Best is trial 227 with value: -0.4544298312182546.\u001b[0m\n",
            "\u001b[32m[I 2021-09-05 02:16:02,035]\u001b[0m Trial 283 finished with value: -0.4408257205050912 and parameters: {'criterion': 'entropy', 'max_depth': 28}. Best is trial 227 with value: -0.4544298312182546.\u001b[0m\n",
            "\u001b[32m[I 2021-09-05 02:16:02,185]\u001b[0m Trial 284 finished with value: -0.4440889627607927 and parameters: {'criterion': 'gini', 'max_depth': 30}. Best is trial 227 with value: -0.4544298312182546.\u001b[0m\n",
            "\u001b[32m[I 2021-09-05 02:16:02,344]\u001b[0m Trial 285 finished with value: -0.4487431287458727 and parameters: {'criterion': 'gini', 'max_depth': 34}. Best is trial 227 with value: -0.4544298312182546.\u001b[0m\n",
            "\u001b[32m[I 2021-09-05 02:16:02,492]\u001b[0m Trial 286 finished with value: -0.4407099976288523 and parameters: {'criterion': 'gini', 'max_depth': 33}. Best is trial 227 with value: -0.4544298312182546.\u001b[0m\n",
            "\u001b[32m[I 2021-09-05 02:16:02,640]\u001b[0m Trial 287 finished with value: -0.44417510128964255 and parameters: {'criterion': 'gini', 'max_depth': 32}. Best is trial 227 with value: -0.4544298312182546.\u001b[0m\n",
            "\u001b[32m[I 2021-09-05 02:16:02,797]\u001b[0m Trial 288 finished with value: -0.45094352197489773 and parameters: {'criterion': 'gini', 'max_depth': 29}. Best is trial 227 with value: -0.4544298312182546.\u001b[0m\n",
            "\u001b[32m[I 2021-09-05 02:16:02,954]\u001b[0m Trial 289 finished with value: -0.45211736312466166 and parameters: {'criterion': 'gini', 'max_depth': 30}. Best is trial 227 with value: -0.4544298312182546.\u001b[0m\n",
            "\u001b[32m[I 2021-09-05 02:16:03,101]\u001b[0m Trial 290 finished with value: -0.4429948209342999 and parameters: {'criterion': 'gini', 'max_depth': 30}. Best is trial 227 with value: -0.4544298312182546.\u001b[0m\n",
            "\u001b[32m[I 2021-09-05 02:16:03,249]\u001b[0m Trial 291 finished with value: -0.44520945126569184 and parameters: {'criterion': 'gini', 'max_depth': 27}. Best is trial 227 with value: -0.4544298312182546.\u001b[0m\n",
            "\u001b[32m[I 2021-09-05 02:16:03,395]\u001b[0m Trial 292 finished with value: -0.44532785727408325 and parameters: {'criterion': 'gini', 'max_depth': 29}. Best is trial 227 with value: -0.4544298312182546.\u001b[0m\n",
            "\u001b[32m[I 2021-09-05 02:16:03,543]\u001b[0m Trial 293 finished with value: -0.4464764077890229 and parameters: {'criterion': 'gini', 'max_depth': 31}. Best is trial 227 with value: -0.4544298312182546.\u001b[0m\n",
            "\u001b[32m[I 2021-09-05 02:16:03,691]\u001b[0m Trial 294 finished with value: -0.4487480342620046 and parameters: {'criterion': 'gini', 'max_depth': 29}. Best is trial 227 with value: -0.4544298312182546.\u001b[0m\n",
            "\u001b[32m[I 2021-09-05 02:16:03,839]\u001b[0m Trial 295 finished with value: -0.4441248839055197 and parameters: {'criterion': 'gini', 'max_depth': 28}. Best is trial 227 with value: -0.4544298312182546.\u001b[0m\n",
            "\u001b[32m[I 2021-09-05 02:16:03,991]\u001b[0m Trial 296 finished with value: -0.3564390846284124 and parameters: {'criterion': 'gini', 'max_depth': 15}. Best is trial 227 with value: -0.4544298312182546.\u001b[0m\n",
            "\u001b[32m[I 2021-09-05 02:16:04,148]\u001b[0m Trial 297 finished with value: -0.44873794701266123 and parameters: {'criterion': 'gini', 'max_depth': 30}. Best is trial 227 with value: -0.4544298312182546.\u001b[0m\n",
            "\u001b[32m[I 2021-09-05 02:16:04,299]\u001b[0m Trial 298 finished with value: -0.4440924874075881 and parameters: {'criterion': 'gini', 'max_depth': 31}. Best is trial 227 with value: -0.4544298312182546.\u001b[0m\n",
            "\u001b[32m[I 2021-09-05 02:16:04,446]\u001b[0m Trial 299 finished with value: -0.44643244638037 and parameters: {'criterion': 'gini', 'max_depth': 33}. Best is trial 227 with value: -0.4544298312182546.\u001b[0m\n",
            "\u001b[32m[I 2021-09-05 02:16:04,596]\u001b[0m Trial 300 finished with value: -0.4409787077693633 and parameters: {'criterion': 'gini', 'max_depth': 25}. Best is trial 227 with value: -0.4544298312182546.\u001b[0m\n",
            "\u001b[32m[I 2021-09-05 02:16:04,745]\u001b[0m Trial 301 finished with value: -0.4475383962686911 and parameters: {'criterion': 'gini', 'max_depth': 29}. Best is trial 227 with value: -0.4544298312182546.\u001b[0m\n",
            "\u001b[32m[I 2021-09-05 02:16:04,894]\u001b[0m Trial 302 finished with value: -0.44658241040405056 and parameters: {'criterion': 'gini', 'max_depth': 27}. Best is trial 227 with value: -0.4544298312182546.\u001b[0m\n",
            "\u001b[32m[I 2021-09-05 02:16:05,058]\u001b[0m Trial 303 finished with value: -0.44061840754924864 and parameters: {'criterion': 'entropy', 'max_depth': 41}. Best is trial 227 with value: -0.4544298312182546.\u001b[0m\n",
            "\u001b[32m[I 2021-09-05 02:16:05,203]\u001b[0m Trial 304 finished with value: -0.44514548904066614 and parameters: {'criterion': 'gini', 'max_depth': 31}. Best is trial 227 with value: -0.4544298312182546.\u001b[0m\n",
            "\u001b[32m[I 2021-09-05 02:16:05,352]\u001b[0m Trial 305 finished with value: -0.4452781536055047 and parameters: {'criterion': 'gini', 'max_depth': 33}. Best is trial 227 with value: -0.4544298312182546.\u001b[0m\n",
            "\u001b[32m[I 2021-09-05 02:16:05,496]\u001b[0m Trial 306 finished with value: -0.44639321137935656 and parameters: {'criterion': 'gini', 'max_depth': 32}. Best is trial 227 with value: -0.4544298312182546.\u001b[0m\n",
            "\u001b[32m[I 2021-09-05 02:16:05,651]\u001b[0m Trial 307 finished with value: -0.44872198452535095 and parameters: {'criterion': 'gini', 'max_depth': 38}. Best is trial 227 with value: -0.4544298312182546.\u001b[0m\n",
            "\u001b[32m[I 2021-09-05 02:16:05,809]\u001b[0m Trial 308 finished with value: -0.447526521381163 and parameters: {'criterion': 'gini', 'max_depth': 35}. Best is trial 227 with value: -0.4544298312182546.\u001b[0m\n",
            "\u001b[32m[I 2021-09-05 02:16:05,962]\u001b[0m Trial 309 finished with value: -0.4453114647264639 and parameters: {'criterion': 'gini', 'max_depth': 28}. Best is trial 227 with value: -0.4544298312182546.\u001b[0m\n",
            "\u001b[32m[I 2021-09-05 02:16:06,113]\u001b[0m Trial 310 finished with value: -0.4475551557873513 and parameters: {'criterion': 'gini', 'max_depth': 48}. Best is trial 227 with value: -0.4544298312182546.\u001b[0m\n",
            "\u001b[32m[I 2021-09-05 02:16:06,256]\u001b[0m Trial 311 finished with value: -0.44630819187913645 and parameters: {'criterion': 'gini', 'max_depth': 31}. Best is trial 227 with value: -0.4544298312182546.\u001b[0m\n",
            "\u001b[32m[I 2021-09-05 02:16:06,407]\u001b[0m Trial 312 finished with value: -0.44872465250289884 and parameters: {'criterion': 'gini', 'max_depth': 30}. Best is trial 227 with value: -0.4544298312182546.\u001b[0m\n",
            "\u001b[32m[I 2021-09-05 02:16:06,557]\u001b[0m Trial 313 finished with value: -0.43329663044713096 and parameters: {'criterion': 'gini', 'max_depth': 22}. Best is trial 227 with value: -0.4544298312182546.\u001b[0m\n",
            "\u001b[32m[I 2021-09-05 02:16:06,703]\u001b[0m Trial 314 finished with value: -0.44982529293421997 and parameters: {'criterion': 'gini', 'max_depth': 47}. Best is trial 227 with value: -0.4544298312182546.\u001b[0m\n",
            "\u001b[32m[I 2021-09-05 02:16:06,866]\u001b[0m Trial 315 finished with value: -0.44637523438641546 and parameters: {'criterion': 'gini', 'max_depth': 29}. Best is trial 227 with value: -0.4544298312182546.\u001b[0m\n",
            "\u001b[32m[I 2021-09-05 02:16:07,015]\u001b[0m Trial 316 finished with value: -0.4440907591369484 and parameters: {'criterion': 'gini', 'max_depth': 49}. Best is trial 227 with value: -0.4544298312182546.\u001b[0m\n",
            "\u001b[32m[I 2021-09-05 02:16:07,163]\u001b[0m Trial 317 finished with value: -0.4451755903004983 and parameters: {'criterion': 'gini', 'max_depth': 32}. Best is trial 227 with value: -0.4544298312182546.\u001b[0m\n",
            "\u001b[32m[I 2021-09-05 02:16:07,313]\u001b[0m Trial 318 finished with value: -0.44877205262197845 and parameters: {'criterion': 'gini', 'max_depth': 53}. Best is trial 227 with value: -0.4544298312182546.\u001b[0m\n",
            "\u001b[32m[I 2021-09-05 02:16:07,461]\u001b[0m Trial 319 finished with value: -0.4462699230168187 and parameters: {'criterion': 'gini', 'max_depth': 51}. Best is trial 227 with value: -0.4544298312182546.\u001b[0m\n",
            "\u001b[32m[I 2021-09-05 02:16:07,609]\u001b[0m Trial 320 finished with value: -0.4475790185977736 and parameters: {'criterion': 'gini', 'max_depth': 54}. Best is trial 227 with value: -0.4544298312182546.\u001b[0m\n",
            "\u001b[32m[I 2021-09-05 02:16:07,760]\u001b[0m Trial 321 finished with value: -0.44520910499390504 and parameters: {'criterion': 'gini', 'max_depth': 46}. Best is trial 227 with value: -0.4544298312182546.\u001b[0m\n",
            "\u001b[32m[I 2021-09-05 02:16:07,919]\u001b[0m Trial 322 finished with value: -0.4383662966040515 and parameters: {'criterion': 'entropy', 'max_depth': 35}. Best is trial 227 with value: -0.4544298312182546.\u001b[0m\n",
            "\u001b[32m[I 2021-09-05 02:16:08,071]\u001b[0m Trial 323 finished with value: -0.44419825864338736 and parameters: {'criterion': 'gini', 'max_depth': 27}. Best is trial 227 with value: -0.4544298312182546.\u001b[0m\n",
            "\u001b[32m[I 2021-09-05 02:16:08,231]\u001b[0m Trial 324 finished with value: -0.4441580155379047 and parameters: {'criterion': 'gini', 'max_depth': 30}. Best is trial 227 with value: -0.4544298312182546.\u001b[0m\n",
            "\u001b[32m[I 2021-09-05 02:16:08,387]\u001b[0m Trial 325 finished with value: -0.4464129393338222 and parameters: {'criterion': 'gini', 'max_depth': 55}. Best is trial 227 with value: -0.4544298312182546.\u001b[0m\n",
            "\u001b[32m[I 2021-09-05 02:16:08,538]\u001b[0m Trial 326 finished with value: -0.44981503832857117 and parameters: {'criterion': 'gini', 'max_depth': 34}. Best is trial 227 with value: -0.4544298312182546.\u001b[0m\n",
            "\u001b[32m[I 2021-09-05 02:16:08,687]\u001b[0m Trial 327 finished with value: -0.44752500326874917 and parameters: {'criterion': 'gini', 'max_depth': 45}. Best is trial 227 with value: -0.4544298312182546.\u001b[0m\n",
            "\u001b[32m[I 2021-09-05 02:16:08,840]\u001b[0m Trial 328 finished with value: -0.40499731164007224 and parameters: {'criterion': 'gini', 'max_depth': 18}. Best is trial 227 with value: -0.4544298312182546.\u001b[0m\n",
            "\u001b[32m[I 2021-09-05 02:16:08,993]\u001b[0m Trial 329 finished with value: -0.4485602852073643 and parameters: {'criterion': 'gini', 'max_depth': 52}. Best is trial 227 with value: -0.4544298312182546.\u001b[0m\n",
            "\u001b[32m[I 2021-09-05 02:16:09,140]\u001b[0m Trial 330 finished with value: -0.441824956696347 and parameters: {'criterion': 'gini', 'max_depth': 50}. Best is trial 227 with value: -0.4544298312182546.\u001b[0m\n",
            "\u001b[32m[I 2021-09-05 02:16:09,290]\u001b[0m Trial 331 finished with value: -0.4486737296804212 and parameters: {'criterion': 'gini', 'max_depth': 32}. Best is trial 227 with value: -0.4544298312182546.\u001b[0m\n",
            "\u001b[32m[I 2021-09-05 02:16:09,437]\u001b[0m Trial 332 finished with value: -0.44750795720628905 and parameters: {'criterion': 'gini', 'max_depth': 29}. Best is trial 227 with value: -0.4544298312182546.\u001b[0m\n",
            "\u001b[32m[I 2021-09-05 02:16:09,591]\u001b[0m Trial 333 finished with value: -0.4463126701159562 and parameters: {'criterion': 'gini', 'max_depth': 57}. Best is trial 227 with value: -0.4544298312182546.\u001b[0m\n",
            "\u001b[32m[I 2021-09-05 02:16:09,742]\u001b[0m Trial 334 finished with value: -0.4475514833780583 and parameters: {'criterion': 'gini', 'max_depth': 56}. Best is trial 227 with value: -0.4544298312182546.\u001b[0m\n",
            "\u001b[32m[I 2021-09-05 02:16:09,899]\u001b[0m Trial 335 finished with value: -0.44971622788084337 and parameters: {'criterion': 'gini', 'max_depth': 49}. Best is trial 227 with value: -0.4544298312182546.\u001b[0m\n",
            "\u001b[32m[I 2021-09-05 02:16:10,045]\u001b[0m Trial 336 finished with value: -0.4474841374019446 and parameters: {'criterion': 'gini', 'max_depth': 31}. Best is trial 227 with value: -0.4544298312182546.\u001b[0m\n",
            "\u001b[32m[I 2021-09-05 02:16:10,193]\u001b[0m Trial 337 finished with value: -0.4498172284241007 and parameters: {'criterion': 'gini', 'max_depth': 54}. Best is trial 227 with value: -0.4544298312182546.\u001b[0m\n",
            "\u001b[32m[I 2021-09-05 02:16:10,341]\u001b[0m Trial 338 finished with value: -0.44638155789931255 and parameters: {'criterion': 'gini', 'max_depth': 28}. Best is trial 227 with value: -0.4544298312182546.\u001b[0m\n",
            "\u001b[32m[I 2021-09-05 02:16:10,489]\u001b[0m Trial 339 finished with value: -0.45207321877364953 and parameters: {'criterion': 'gini', 'max_depth': 55}. Best is trial 227 with value: -0.4544298312182546.\u001b[0m\n",
            "\u001b[32m[I 2021-09-05 02:16:10,636]\u001b[0m Trial 340 finished with value: -0.4453108978059911 and parameters: {'criterion': 'gini', 'max_depth': 42}. Best is trial 227 with value: -0.4544298312182546.\u001b[0m\n",
            "\u001b[32m[I 2021-09-05 02:16:10,797]\u001b[0m Trial 341 finished with value: -0.43948628668826883 and parameters: {'criterion': 'entropy', 'max_depth': 56}. Best is trial 227 with value: -0.4544298312182546.\u001b[0m\n",
            "\u001b[32m[I 2021-09-05 02:16:10,954]\u001b[0m Trial 342 finished with value: -0.44633294170957427 and parameters: {'criterion': 'gini', 'max_depth': 58}. Best is trial 227 with value: -0.4544298312182546.\u001b[0m\n",
            "\u001b[32m[I 2021-09-05 02:16:11,106]\u001b[0m Trial 343 finished with value: -0.44871081365033333 and parameters: {'criterion': 'gini', 'max_depth': 30}. Best is trial 227 with value: -0.4544298312182546.\u001b[0m\n",
            "\u001b[32m[I 2021-09-05 02:16:11,255]\u001b[0m Trial 344 finished with value: -0.44981496733735893 and parameters: {'criterion': 'gini', 'max_depth': 58}. Best is trial 227 with value: -0.4544298312182546.\u001b[0m\n",
            "\u001b[32m[I 2021-09-05 02:16:11,408]\u001b[0m Trial 345 finished with value: -0.445320218350932 and parameters: {'criterion': 'gini', 'max_depth': 56}. Best is trial 227 with value: -0.4544298312182546.\u001b[0m\n",
            "\u001b[32m[I 2021-09-05 02:16:11,552]\u001b[0m Trial 346 finished with value: -0.4441098847586531 and parameters: {'criterion': 'gini', 'max_depth': 44}. Best is trial 227 with value: -0.4544298312182546.\u001b[0m\n",
            "\u001b[32m[I 2021-09-05 02:16:11,702]\u001b[0m Trial 347 finished with value: -0.448610701319551 and parameters: {'criterion': 'gini', 'max_depth': 33}. Best is trial 227 with value: -0.4544298312182546.\u001b[0m\n",
            "\u001b[32m[I 2021-09-05 02:16:11,855]\u001b[0m Trial 348 finished with value: -0.4486373271831261 and parameters: {'criterion': 'gini', 'max_depth': 40}. Best is trial 227 with value: -0.4544298312182546.\u001b[0m\n",
            "\u001b[32m[I 2021-09-05 02:16:12,013]\u001b[0m Trial 349 finished with value: -0.45209099882928605 and parameters: {'criterion': 'gini', 'max_depth': 57}. Best is trial 227 with value: -0.4544298312182546.\u001b[0m\n",
            "\u001b[32m[I 2021-09-05 02:16:12,166]\u001b[0m Trial 350 finished with value: -0.4486500473488106 and parameters: {'criterion': 'gini', 'max_depth': 57}. Best is trial 227 with value: -0.4544298312182546.\u001b[0m\n",
            "\u001b[32m[I 2021-09-05 02:16:12,316]\u001b[0m Trial 351 finished with value: -0.44406904499458755 and parameters: {'criterion': 'gini', 'max_depth': 59}. Best is trial 227 with value: -0.4544298312182546.\u001b[0m\n",
            "\u001b[32m[I 2021-09-05 02:16:12,466]\u001b[0m Trial 352 finished with value: -0.4486816349848176 and parameters: {'criterion': 'gini', 'max_depth': 31}. Best is trial 227 with value: -0.4544298312182546.\u001b[0m\n",
            "\u001b[32m[I 2021-09-05 02:16:12,614]\u001b[0m Trial 353 finished with value: -0.4474877915032893 and parameters: {'criterion': 'gini', 'max_depth': 47}. Best is trial 227 with value: -0.4544298312182546.\u001b[0m\n",
            "\u001b[32m[I 2021-09-05 02:16:12,765]\u001b[0m Trial 354 finished with value: -0.44764149750055954 and parameters: {'criterion': 'gini', 'max_depth': 55}. Best is trial 227 with value: -0.4544298312182546.\u001b[0m\n",
            "\u001b[32m[I 2021-09-05 02:16:12,922]\u001b[0m Trial 355 finished with value: -0.4441192267312636 and parameters: {'criterion': 'gini', 'max_depth': 29}. Best is trial 227 with value: -0.4544298312182546.\u001b[0m\n",
            "\u001b[32m[I 2021-09-05 02:16:13,070]\u001b[0m Trial 356 finished with value: -0.45099394633882905 and parameters: {'criterion': 'gini', 'max_depth': 37}. Best is trial 227 with value: -0.4544298312182546.\u001b[0m\n",
            "\u001b[32m[I 2021-09-05 02:16:13,229]\u001b[0m Trial 357 finished with value: -0.4407201879078825 and parameters: {'criterion': 'gini', 'max_depth': 37}. Best is trial 227 with value: -0.4544298312182546.\u001b[0m\n",
            "\u001b[32m[I 2021-09-05 02:16:13,375]\u001b[0m Trial 358 finished with value: -0.44870585246673844 and parameters: {'criterion': 'gini', 'max_depth': 34}. Best is trial 227 with value: -0.4544298312182546.\u001b[0m\n",
            "\u001b[32m[I 2021-09-05 02:16:13,525]\u001b[0m Trial 359 finished with value: -0.44753863918866743 and parameters: {'criterion': 'gini', 'max_depth': 36}. Best is trial 227 with value: -0.4544298312182546.\u001b[0m\n",
            "\u001b[32m[I 2021-09-05 02:16:13,677]\u001b[0m Trial 360 finished with value: -0.44865098175126744 and parameters: {'criterion': 'gini', 'max_depth': 42}. Best is trial 227 with value: -0.4544298312182546.\u001b[0m\n",
            "\u001b[32m[I 2021-09-05 02:16:13,831]\u001b[0m Trial 361 finished with value: -0.4532708526226735 and parameters: {'criterion': 'gini', 'max_depth': 38}. Best is trial 227 with value: -0.4544298312182546.\u001b[0m\n",
            "\u001b[32m[I 2021-09-05 02:16:13,992]\u001b[0m Trial 362 finished with value: -0.43610812547848843 and parameters: {'criterion': 'entropy', 'max_depth': 39}. Best is trial 227 with value: -0.4544298312182546.\u001b[0m\n",
            "\u001b[32m[I 2021-09-05 02:16:14,142]\u001b[0m Trial 363 finished with value: -0.4475558016090321 and parameters: {'criterion': 'gini', 'max_depth': 37}. Best is trial 227 with value: -0.4544298312182546.\u001b[0m\n",
            "\u001b[32m[I 2021-09-05 02:16:14,292]\u001b[0m Trial 364 finished with value: -0.4451500626241235 and parameters: {'criterion': 'gini', 'max_depth': 39}. Best is trial 227 with value: -0.4544298312182546.\u001b[0m\n",
            "\u001b[32m[I 2021-09-05 02:16:14,440]\u001b[0m Trial 365 finished with value: -0.4475612422436055 and parameters: {'criterion': 'gini', 'max_depth': 34}. Best is trial 227 with value: -0.4544298312182546.\u001b[0m\n",
            "\u001b[32m[I 2021-09-05 02:16:14,586]\u001b[0m Trial 366 finished with value: -0.4475672419072098 and parameters: {'criterion': 'gini', 'max_depth': 37}. Best is trial 227 with value: -0.4544298312182546.\u001b[0m\n",
            "\u001b[32m[I 2021-09-05 02:16:14,735]\u001b[0m Trial 367 finished with value: -0.44762677056693345 and parameters: {'criterion': 'gini', 'max_depth': 33}. Best is trial 227 with value: -0.4544298312182546.\u001b[0m\n",
            "\u001b[32m[I 2021-09-05 02:16:14,883]\u001b[0m Trial 368 finished with value: -0.45086488021896676 and parameters: {'criterion': 'gini', 'max_depth': 42}. Best is trial 227 with value: -0.4544298312182546.\u001b[0m\n",
            "\u001b[32m[I 2021-09-05 02:16:15,040]\u001b[0m Trial 369 finished with value: -0.4463360525225954 and parameters: {'criterion': 'gini', 'max_depth': 40}. Best is trial 227 with value: -0.4544298312182546.\u001b[0m\n",
            "\u001b[32m[I 2021-09-05 02:16:15,190]\u001b[0m Trial 370 finished with value: -0.44761091650765505 and parameters: {'criterion': 'gini', 'max_depth': 46}. Best is trial 227 with value: -0.4544298312182546.\u001b[0m\n",
            "\u001b[32m[I 2021-09-05 02:16:15,337]\u001b[0m Trial 371 finished with value: -0.4476478417162518 and parameters: {'criterion': 'gini', 'max_depth': 35}. Best is trial 227 with value: -0.4544298312182546.\u001b[0m\n",
            "\u001b[32m[I 2021-09-05 02:16:15,496]\u001b[0m Trial 372 finished with value: -0.44520078449901934 and parameters: {'criterion': 'gini', 'max_depth': 31}. Best is trial 227 with value: -0.4544298312182546.\u001b[0m\n",
            "\u001b[32m[I 2021-09-05 02:16:15,645]\u001b[0m Trial 373 finished with value: -0.44865673981362225 and parameters: {'criterion': 'gini', 'max_depth': 32}. Best is trial 227 with value: -0.4544298312182546.\u001b[0m\n",
            "\u001b[32m[I 2021-09-05 02:16:15,796]\u001b[0m Trial 374 finished with value: -0.44638421462760214 and parameters: {'criterion': 'gini', 'max_depth': 38}. Best is trial 227 with value: -0.4544298312182546.\u001b[0m\n",
            "\u001b[32m[I 2021-09-05 02:16:15,954]\u001b[0m Trial 375 finished with value: -0.4464619449226774 and parameters: {'criterion': 'gini', 'max_depth': 48}. Best is trial 227 with value: -0.4544298312182546.\u001b[0m\n",
            "\u001b[32m[I 2021-09-05 02:16:16,100]\u001b[0m Trial 376 finished with value: -0.44410986205310643 and parameters: {'criterion': 'gini', 'max_depth': 43}. Best is trial 227 with value: -0.4544298312182546.\u001b[0m\n",
            "\u001b[32m[I 2021-09-05 02:16:16,245]\u001b[0m Trial 377 finished with value: -0.44869357777215024 and parameters: {'criterion': 'gini', 'max_depth': 44}. Best is trial 227 with value: -0.4544298312182546.\u001b[0m\n",
            "\u001b[32m[I 2021-09-05 02:16:16,396]\u001b[0m Trial 378 finished with value: -0.44635647566205316 and parameters: {'criterion': 'gini', 'max_depth': 33}. Best is trial 227 with value: -0.4544298312182546.\u001b[0m\n",
            "\u001b[32m[I 2021-09-05 02:16:16,549]\u001b[0m Trial 379 finished with value: -0.451064377982526 and parameters: {'criterion': 'gini', 'max_depth': 35}. Best is trial 227 with value: -0.4544298312182546.\u001b[0m\n",
            "\u001b[32m[I 2021-09-05 02:16:16,697]\u001b[0m Trial 380 finished with value: -0.4474843357751965 and parameters: {'criterion': 'gini', 'max_depth': 36}. Best is trial 227 with value: -0.4544298312182546.\u001b[0m\n",
            "\u001b[32m[I 2021-09-05 02:16:16,842]\u001b[0m Trial 381 finished with value: -0.4474675446951576 and parameters: {'criterion': 'gini', 'max_depth': 36}. Best is trial 227 with value: -0.4544298312182546.\u001b[0m\n",
            "\u001b[32m[I 2021-09-05 02:16:17,003]\u001b[0m Trial 382 finished with value: -0.44068953853414483 and parameters: {'criterion': 'entropy', 'max_depth': 35}. Best is trial 227 with value: -0.4544298312182546.\u001b[0m\n",
            "\u001b[32m[I 2021-09-05 02:16:17,153]\u001b[0m Trial 383 finished with value: -0.4487053530058468 and parameters: {'criterion': 'gini', 'max_depth': 35}. Best is trial 227 with value: -0.4544298312182546.\u001b[0m\n",
            "\u001b[32m[I 2021-09-05 02:16:17,306]\u001b[0m Trial 384 finished with value: -0.45552360368079886 and parameters: {'criterion': 'gini', 'max_depth': 34}. Best is trial 384 with value: -0.45552360368079886.\u001b[0m\n",
            "\u001b[32m[I 2021-09-05 02:16:17,464]\u001b[0m Trial 385 finished with value: -0.45436961658919817 and parameters: {'criterion': 'gini', 'max_depth': 33}. Best is trial 384 with value: -0.45552360368079886.\u001b[0m\n",
            "\u001b[32m[I 2021-09-05 02:16:17,612]\u001b[0m Trial 386 finished with value: -0.4509850012310735 and parameters: {'criterion': 'gini', 'max_depth': 34}. Best is trial 384 with value: -0.45552360368079886.\u001b[0m\n",
            "\u001b[32m[I 2021-09-05 02:16:17,761]\u001b[0m Trial 387 finished with value: -0.44640444653612654 and parameters: {'criterion': 'gini', 'max_depth': 33}. Best is trial 384 with value: -0.45552360368079886.\u001b[0m\n",
            "\u001b[32m[I 2021-09-05 02:16:17,913]\u001b[0m Trial 388 finished with value: -0.44404813223775363 and parameters: {'criterion': 'gini', 'max_depth': 32}. Best is trial 384 with value: -0.45552360368079886.\u001b[0m\n",
            "\u001b[32m[I 2021-09-05 02:16:18,070]\u001b[0m Trial 389 finished with value: -0.4429326497210197 and parameters: {'criterion': 'gini', 'max_depth': 34}. Best is trial 384 with value: -0.45552360368079886.\u001b[0m\n",
            "\u001b[32m[I 2021-09-05 02:16:18,222]\u001b[0m Trial 390 finished with value: -0.44641785514480603 and parameters: {'criterion': 'gini', 'max_depth': 32}. Best is trial 384 with value: -0.45552360368079886.\u001b[0m\n",
            "\u001b[32m[I 2021-09-05 02:16:18,371]\u001b[0m Trial 391 finished with value: -0.4463386650459092 and parameters: {'criterion': 'gini', 'max_depth': 58}. Best is trial 384 with value: -0.45552360368079886.\u001b[0m\n",
            "\u001b[32m[I 2021-09-05 02:16:18,517]\u001b[0m Trial 392 finished with value: -0.4464712817121798 and parameters: {'criterion': 'gini', 'max_depth': 33}. Best is trial 384 with value: -0.45552360368079886.\u001b[0m\n",
            "\u001b[32m[I 2021-09-05 02:16:18,672]\u001b[0m Trial 393 finished with value: -0.4509559565717695 and parameters: {'criterion': 'gini', 'max_depth': 30}. Best is trial 384 with value: -0.45552360368079886.\u001b[0m\n"
          ]
        },
        {
          "output_type": "stream",
          "name": "stdout",
          "text": [
            "params: {'criterion': 'gini', 'max_depth': 34}\n"
          ]
        }
      ]
    },
    {
      "cell_type": "code",
      "metadata": {
        "id": "0zGOi_NqfEuN",
        "colab": {
          "base_uri": "https://localhost:8080/"
        },
        "outputId": "0f840bcf-ae82-41b6-baa9-cd65acf83dcb"
      },
      "source": [
        "from sklearn.metrics import confusion_matrix\n",
        "from sklearn.metrics import accuracy_score\n",
        "\n",
        "# データセットを訓練用とテスト用に分割\n",
        "X_train, X_test, y_train, y_test = train_test_split(X_all, y_all, test_size=0.2, shuffle=True, random_state=101)\n",
        "\n",
        "#ハイパーパラメータチューニングで特定した値を設定\n",
        "params={'criterion': 'gini', 'max_depth': 58}\n",
        "\n",
        "# 訓練の実施\n",
        "model = DecisionTreeClassifier(**params)\n",
        "model.fit(X_train, y_train)\n",
        "pred = model.predict(X_test)\n",
        "\n",
        "# 正解率と混同行列の出力\n",
        "print(\"Accurary: {:.5f} %\".format(100 * accuracy_score(y_test, pred)))\n",
        "print(confusion_matrix(y_test, pred))"
      ],
      "execution_count": 19,
      "outputs": [
        {
          "output_type": "stream",
          "name": "stdout",
          "text": [
            "Accurary: 98.17639 %\n",
            "[[3808   39]\n",
            " [  71 2114]]\n"
          ]
        }
      ]
    },
    {
      "cell_type": "code",
      "metadata": {
        "id": "31WvkZCeKKoS",
        "colab": {
          "base_uri": "https://localhost:8080/",
          "height": 497
        },
        "outputId": "58c4500e-5210-4413-ebe3-9915b9688900"
      },
      "source": [
        "from sklearn.metrics import confusion_matrix\n",
        "import seaborn as sns\n",
        "\n",
        "cf_matrix = confusion_matrix(y_test, pred)\n",
        "group_names = ['True Neg','False Pos','False Neg','True Pos']\n",
        "group_counts = [\"{0:0.0f}\".format(value) for value in cf_matrix.flatten()]\n",
        "labels = [f\"{v1}\\n{v2}\\n\" for v1, v2 in zip(group_names,group_counts)]\n",
        "labels = np.asarray(labels).reshape(2,2)\n",
        "fig, ax = plt.subplots(figsize=(10,8))\n",
        "sns.heatmap(cf_matrix, annot=labels, fmt='', cmap='Blues')\n",
        "plt.xlabel('Predicted')\n",
        "plt.ylabel('True label')\n",
        "plt.show()"
      ],
      "execution_count": 20,
      "outputs": [
        {
          "output_type": "display_data",
          "data": {
            "image/png": "[encoded data removed]",
            "text/plain": [
              "<Figure size 720x576 with 2 Axes>"
            ]
          },
          "metadata": {
            "needs_background": "light"
          }
        }
      ]
    },
    {
      "cell_type": "code",
      "metadata": {
        "id": "rEju7b-_s3ao"
      },
      "source": [
        "import pandas as pd\n",
        "\n",
        "# データセットを再ロードする\n",
        "df = pd.read_csv('./HttpParamsDataset/payload_train.csv')\n",
        "test_data = pd.read_csv('./HttpParamsDataset/payload_test.csv')\n",
        "\n",
        "train_rows = ((df.attack_type == 'norm') | (df.attack_type == 'sqli'))\n",
        "df = df[train_rows]\n",
        "\n",
        "test_train_rows = ((test_data.attack_type == 'norm') | (test_data.attack_type == 'sqli'))\n",
        "test_data = test_data[test_train_rows]\n",
        "\n",
        "df_y = df[['label']]\n",
        "test_y = test_data[['label']]\n",
        "\n",
        "df_x = df.iloc[:,:-1]\n",
        "test_x = test_data.iloc[:,:-1]\n",
        "\n",
        "X_all = pd.concat([df_x, test_x])\n",
        "y_all = pd.concat([df_y, test_y])\n",
        "\n",
        "rep = y_all.label.replace({\"norm\":0,\"anom\":1})\n",
        "y_all = y_all.assign(label=rep)"
      ],
      "execution_count": 21,
      "outputs": []
    },
    {
      "cell_type": "code",
      "metadata": {
        "id": "7HE2kGXFQhGR",
        "colab": {
          "base_uri": "https://localhost:8080/",
          "height": 419
        },
        "outputId": "c05f2409-54c0-4377-d213-dee915699e84"
      },
      "source": [
        "X_all"
      ],
      "execution_count": 22,
      "outputs": [
        {
          "output_type": "execute_result",
          "data": {
            "text/html": [
              "<div>\n",
              "<style scoped>\n",
              "    .dataframe tbody tr th:only-of-type {\n",
              "        vertical-align: middle;\n",
              "    }\n",
              "\n",
              "    .dataframe tbody tr th {\n",
              "        vertical-align: top;\n",
              "    }\n",
              "\n",
              "    .dataframe thead th {\n",
              "        text-align: right;\n",
              "    }\n",
              "</style>\n",
              "<table border=\"1\" class=\"dataframe\">\n",
              "  <thead>\n",
              "    <tr style=\"text-align: right;\">\n",
              "      <th></th>\n",
              "      <th>payload</th>\n",
              "      <th>length</th>\n",
              "      <th>attack_type</th>\n",
              "    </tr>\n",
              "  </thead>\n",
              "  <tbody>\n",
              "    <tr>\n",
              "      <th>0</th>\n",
              "      <td>c/ caridad s/n</td>\n",
              "      <td>14</td>\n",
              "      <td>norm</td>\n",
              "    </tr>\n",
              "    <tr>\n",
              "      <th>1</th>\n",
              "      <td>campello, el</td>\n",
              "      <td>12</td>\n",
              "      <td>norm</td>\n",
              "    </tr>\n",
              "    <tr>\n",
              "      <th>2</th>\n",
              "      <td>1442431887503330</td>\n",
              "      <td>16</td>\n",
              "      <td>norm</td>\n",
              "    </tr>\n",
              "    <tr>\n",
              "      <th>3</th>\n",
              "      <td>nue37</td>\n",
              "      <td>5</td>\n",
              "      <td>norm</td>\n",
              "    </tr>\n",
              "    <tr>\n",
              "      <th>4</th>\n",
              "      <td>tufts3@joll.rs</td>\n",
              "      <td>14</td>\n",
              "      <td>norm</td>\n",
              "    </tr>\n",
              "    <tr>\n",
              "      <th>...</th>\n",
              "      <td>...</td>\n",
              "      <td>...</td>\n",
              "      <td>...</td>\n",
              "    </tr>\n",
              "    <tr>\n",
              "      <th>10176</th>\n",
              "      <td>1\") where 2367=2367;select (case when (4666=46...</td>\n",
              "      <td>113</td>\n",
              "      <td>sqli</td>\n",
              "    </tr>\n",
              "    <tr>\n",
              "      <th>10177</th>\n",
              "      <td>1') and updatexml(3393,concat(0x2e,0x7171706a7...</td>\n",
              "      <td>113</td>\n",
              "      <td>sqli</td>\n",
              "    </tr>\n",
              "    <tr>\n",
              "      <th>10178</th>\n",
              "      <td>1') as tqdg where 9355=9355;select (case when ...</td>\n",
              "      <td>136</td>\n",
              "      <td>sqli</td>\n",
              "    </tr>\n",
              "    <tr>\n",
              "      <th>10179</th>\n",
              "      <td>1') and extractvalue(7982,concat(0x5c,0x717170...</td>\n",
              "      <td>111</td>\n",
              "      <td>sqli</td>\n",
              "    </tr>\n",
              "    <tr>\n",
              "      <th>10180</th>\n",
              "      <td>1 rlike (select * from (select(sleep(5)))sgvo)...</td>\n",
              "      <td>53</td>\n",
              "      <td>sqli</td>\n",
              "    </tr>\n",
              "  </tbody>\n",
              "</table>\n",
              "<p>30156 rows × 3 columns</p>\n",
              "</div>"
            ],
            "text/plain": [
              "                                                 payload  length attack_type\n",
              "0                                         c/ caridad s/n      14        norm\n",
              "1                                           campello, el      12        norm\n",
              "2                                       1442431887503330      16        norm\n",
              "3                                                  nue37       5        norm\n",
              "4                                         tufts3@joll.rs      14        norm\n",
              "...                                                  ...     ...         ...\n",
              "10176  1\") where 2367=2367;select (case when (4666=46...     113        sqli\n",
              "10177  1') and updatexml(3393,concat(0x2e,0x7171706a7...     113        sqli\n",
              "10178  1') as tqdg where 9355=9355;select (case when ...     136        sqli\n",
              "10179  1') and extractvalue(7982,concat(0x5c,0x717170...     111        sqli\n",
              "10180  1 rlike (select * from (select(sleep(5)))sgvo)...      53        sqli\n",
              "\n",
              "[30156 rows x 3 columns]"
            ]
          },
          "metadata": {},
          "execution_count": 22
        }
      ]
    },
    {
      "cell_type": "code",
      "metadata": {
        "id": "xl5JCNaktroh"
      },
      "source": [
        "from sklearn.feature_extraction.text import TfidfVectorizer\n",
        "\n",
        "X = X_all['payload']\n",
        "y = y_all\n",
        "\n",
        "# ベクトル化のためのオプションの設定、文字を対象にユニグラムを行う\n",
        "vec_opts = {\n",
        "    \"ngram_range\": (1, 1), \n",
        "    \"analyzer\": \"char\", \n",
        "    \"min_df\" : 0.1\n",
        "}\n",
        "\n",
        "# TfidfVectorizerの初期化\n",
        "v = TfidfVectorizer(**vec_opts)\n",
        "# ベクトル化の実行\n",
        "X = v.fit_transform(X)"
      ],
      "execution_count": 23,
      "outputs": []
    },
    {
      "cell_type": "code",
      "metadata": {
        "id": "u9FAc5OVIPry",
        "colab": {
          "base_uri": "https://localhost:8080/"
        },
        "outputId": "789e1759-1be6-40b6-f373-9ef1ecb753cc"
      },
      "source": [
        "import numpy as np\n",
        "\n",
        "# 特徴に使用されている文字を出力\n",
        "features = v.get_feature_names()\n",
        "np.array(features)"
      ],
      "execution_count": 24,
      "outputs": [
        {
          "output_type": "execute_result",
          "data": {
            "text/plain": [
              "array([' ', '\"', \"'\", '(', ')', '*', ',', '-', '.', '0', '1', '2', '3',\n",
              "       '4', '5', '6', '7', '8', '9', '=', 'a', 'b', 'c', 'd', 'e', 'f',\n",
              "       'g', 'h', 'i', 'k', 'l', 'm', 'n', 'o', 'p', 'r', 's', 't', 'u',\n",
              "       'v', 'w', 'x', 'y'], dtype='<U1')"
            ]
          },
          "metadata": {},
          "execution_count": 24
        }
      ]
    },
    {
      "cell_type": "code",
      "metadata": {
        "id": "arzJeJ-BIRjI",
        "colab": {
          "base_uri": "https://localhost:8080/",
          "height": 439
        },
        "outputId": "dd31c2c7-654a-4355-bb5e-3875415e457e"
      },
      "source": [
        "df = pd.DataFrame(X.toarray())\n",
        "df.columns = features\n",
        "df"
      ],
      "execution_count": 25,
      "outputs": [
        {
          "output_type": "execute_result",
          "data": {
            "text/html": [
              "<div>\n",
              "<style scoped>\n",
              "    .dataframe tbody tr th:only-of-type {\n",
              "        vertical-align: middle;\n",
              "    }\n",
              "\n",
              "    .dataframe tbody tr th {\n",
              "        vertical-align: top;\n",
              "    }\n",
              "\n",
              "    .dataframe thead th {\n",
              "        text-align: right;\n",
              "    }\n",
              "</style>\n",
              "<table border=\"1\" class=\"dataframe\">\n",
              "  <thead>\n",
              "    <tr style=\"text-align: right;\">\n",
              "      <th></th>\n",
              "      <th></th>\n",
              "      <th>\"</th>\n",
              "      <th>'</th>\n",
              "      <th>(</th>\n",
              "      <th>)</th>\n",
              "      <th>*</th>\n",
              "      <th>,</th>\n",
              "      <th>-</th>\n",
              "      <th>.</th>\n",
              "      <th>0</th>\n",
              "      <th>1</th>\n",
              "      <th>2</th>\n",
              "      <th>3</th>\n",
              "      <th>4</th>\n",
              "      <th>5</th>\n",
              "      <th>6</th>\n",
              "      <th>7</th>\n",
              "      <th>8</th>\n",
              "      <th>9</th>\n",
              "      <th>=</th>\n",
              "      <th>a</th>\n",
              "      <th>b</th>\n",
              "      <th>c</th>\n",
              "      <th>d</th>\n",
              "      <th>e</th>\n",
              "      <th>f</th>\n",
              "      <th>g</th>\n",
              "      <th>h</th>\n",
              "      <th>i</th>\n",
              "      <th>k</th>\n",
              "      <th>l</th>\n",
              "      <th>m</th>\n",
              "      <th>n</th>\n",
              "      <th>o</th>\n",
              "      <th>p</th>\n",
              "      <th>r</th>\n",
              "      <th>s</th>\n",
              "      <th>t</th>\n",
              "      <th>u</th>\n",
              "      <th>v</th>\n",
              "      <th>w</th>\n",
              "      <th>x</th>\n",
              "      <th>y</th>\n",
              "    </tr>\n",
              "  </thead>\n",
              "  <tbody>\n",
              "    <tr>\n",
              "      <th>0</th>\n",
              "      <td>0.453262</td>\n",
              "      <td>0.000000</td>\n",
              "      <td>0.000000</td>\n",
              "      <td>0.000000</td>\n",
              "      <td>0.000000</td>\n",
              "      <td>0.000000</td>\n",
              "      <td>0.000000</td>\n",
              "      <td>0.000000</td>\n",
              "      <td>0.000000</td>\n",
              "      <td>0.000000</td>\n",
              "      <td>0.000000</td>\n",
              "      <td>0.000000</td>\n",
              "      <td>0.000000</td>\n",
              "      <td>0.000000</td>\n",
              "      <td>0.000000</td>\n",
              "      <td>0.000000</td>\n",
              "      <td>0.000000</td>\n",
              "      <td>0.000000</td>\n",
              "      <td>0.000000</td>\n",
              "      <td>0.000000</td>\n",
              "      <td>0.367518</td>\n",
              "      <td>0.000000</td>\n",
              "      <td>0.460722</td>\n",
              "      <td>0.504676</td>\n",
              "      <td>0.000000</td>\n",
              "      <td>0.000000</td>\n",
              "      <td>0.000000</td>\n",
              "      <td>0.000000</td>\n",
              "      <td>0.231185</td>\n",
              "      <td>0.000000</td>\n",
              "      <td>0.000000</td>\n",
              "      <td>0.000000</td>\n",
              "      <td>0.213771</td>\n",
              "      <td>0.000000</td>\n",
              "      <td>0.000000</td>\n",
              "      <td>0.209315</td>\n",
              "      <td>0.222629</td>\n",
              "      <td>0.000000</td>\n",
              "      <td>0.000000</td>\n",
              "      <td>0.000000</td>\n",
              "      <td>0.000000</td>\n",
              "      <td>0.000000</td>\n",
              "      <td>0.000000</td>\n",
              "    </tr>\n",
              "    <tr>\n",
              "      <th>1</th>\n",
              "      <td>0.223881</td>\n",
              "      <td>0.000000</td>\n",
              "      <td>0.000000</td>\n",
              "      <td>0.000000</td>\n",
              "      <td>0.000000</td>\n",
              "      <td>0.000000</td>\n",
              "      <td>0.297448</td>\n",
              "      <td>0.000000</td>\n",
              "      <td>0.000000</td>\n",
              "      <td>0.000000</td>\n",
              "      <td>0.000000</td>\n",
              "      <td>0.000000</td>\n",
              "      <td>0.000000</td>\n",
              "      <td>0.000000</td>\n",
              "      <td>0.000000</td>\n",
              "      <td>0.000000</td>\n",
              "      <td>0.000000</td>\n",
              "      <td>0.000000</td>\n",
              "      <td>0.000000</td>\n",
              "      <td>0.000000</td>\n",
              "      <td>0.181529</td>\n",
              "      <td>0.000000</td>\n",
              "      <td>0.227566</td>\n",
              "      <td>0.000000</td>\n",
              "      <td>0.379535</td>\n",
              "      <td>0.000000</td>\n",
              "      <td>0.000000</td>\n",
              "      <td>0.000000</td>\n",
              "      <td>0.000000</td>\n",
              "      <td>0.000000</td>\n",
              "      <td>0.637700</td>\n",
              "      <td>0.279457</td>\n",
              "      <td>0.000000</td>\n",
              "      <td>0.211999</td>\n",
              "      <td>0.320803</td>\n",
              "      <td>0.000000</td>\n",
              "      <td>0.000000</td>\n",
              "      <td>0.000000</td>\n",
              "      <td>0.000000</td>\n",
              "      <td>0.000000</td>\n",
              "      <td>0.000000</td>\n",
              "      <td>0.000000</td>\n",
              "      <td>0.000000</td>\n",
              "    </tr>\n",
              "    <tr>\n",
              "      <th>2</th>\n",
              "      <td>0.000000</td>\n",
              "      <td>0.000000</td>\n",
              "      <td>0.000000</td>\n",
              "      <td>0.000000</td>\n",
              "      <td>0.000000</td>\n",
              "      <td>0.000000</td>\n",
              "      <td>0.000000</td>\n",
              "      <td>0.000000</td>\n",
              "      <td>0.000000</td>\n",
              "      <td>0.316555</td>\n",
              "      <td>0.257108</td>\n",
              "      <td>0.154605</td>\n",
              "      <td>0.637142</td>\n",
              "      <td>0.493407</td>\n",
              "      <td>0.150187</td>\n",
              "      <td>0.000000</td>\n",
              "      <td>0.165919</td>\n",
              "      <td>0.332115</td>\n",
              "      <td>0.000000</td>\n",
              "      <td>0.000000</td>\n",
              "      <td>0.000000</td>\n",
              "      <td>0.000000</td>\n",
              "      <td>0.000000</td>\n",
              "      <td>0.000000</td>\n",
              "      <td>0.000000</td>\n",
              "      <td>0.000000</td>\n",
              "      <td>0.000000</td>\n",
              "      <td>0.000000</td>\n",
              "      <td>0.000000</td>\n",
              "      <td>0.000000</td>\n",
              "      <td>0.000000</td>\n",
              "      <td>0.000000</td>\n",
              "      <td>0.000000</td>\n",
              "      <td>0.000000</td>\n",
              "      <td>0.000000</td>\n",
              "      <td>0.000000</td>\n",
              "      <td>0.000000</td>\n",
              "      <td>0.000000</td>\n",
              "      <td>0.000000</td>\n",
              "      <td>0.000000</td>\n",
              "      <td>0.000000</td>\n",
              "      <td>0.000000</td>\n",
              "      <td>0.000000</td>\n",
              "    </tr>\n",
              "    <tr>\n",
              "      <th>3</th>\n",
              "      <td>0.000000</td>\n",
              "      <td>0.000000</td>\n",
              "      <td>0.000000</td>\n",
              "      <td>0.000000</td>\n",
              "      <td>0.000000</td>\n",
              "      <td>0.000000</td>\n",
              "      <td>0.000000</td>\n",
              "      <td>0.000000</td>\n",
              "      <td>0.000000</td>\n",
              "      <td>0.000000</td>\n",
              "      <td>0.000000</td>\n",
              "      <td>0.000000</td>\n",
              "      <td>0.488536</td>\n",
              "      <td>0.000000</td>\n",
              "      <td>0.000000</td>\n",
              "      <td>0.000000</td>\n",
              "      <td>0.508881</td>\n",
              "      <td>0.000000</td>\n",
              "      <td>0.000000</td>\n",
              "      <td>0.000000</td>\n",
              "      <td>0.000000</td>\n",
              "      <td>0.000000</td>\n",
              "      <td>0.000000</td>\n",
              "      <td>0.000000</td>\n",
              "      <td>0.342872</td>\n",
              "      <td>0.000000</td>\n",
              "      <td>0.000000</td>\n",
              "      <td>0.000000</td>\n",
              "      <td>0.000000</td>\n",
              "      <td>0.000000</td>\n",
              "      <td>0.000000</td>\n",
              "      <td>0.000000</td>\n",
              "      <td>0.381555</td>\n",
              "      <td>0.000000</td>\n",
              "      <td>0.000000</td>\n",
              "      <td>0.000000</td>\n",
              "      <td>0.000000</td>\n",
              "      <td>0.000000</td>\n",
              "      <td>0.489108</td>\n",
              "      <td>0.000000</td>\n",
              "      <td>0.000000</td>\n",
              "      <td>0.000000</td>\n",
              "      <td>0.000000</td>\n",
              "    </tr>\n",
              "    <tr>\n",
              "      <th>4</th>\n",
              "      <td>0.000000</td>\n",
              "      <td>0.000000</td>\n",
              "      <td>0.000000</td>\n",
              "      <td>0.000000</td>\n",
              "      <td>0.000000</td>\n",
              "      <td>0.000000</td>\n",
              "      <td>0.000000</td>\n",
              "      <td>0.000000</td>\n",
              "      <td>0.382917</td>\n",
              "      <td>0.000000</td>\n",
              "      <td>0.000000</td>\n",
              "      <td>0.000000</td>\n",
              "      <td>0.259419</td>\n",
              "      <td>0.000000</td>\n",
              "      <td>0.000000</td>\n",
              "      <td>0.000000</td>\n",
              "      <td>0.000000</td>\n",
              "      <td>0.000000</td>\n",
              "      <td>0.000000</td>\n",
              "      <td>0.000000</td>\n",
              "      <td>0.000000</td>\n",
              "      <td>0.000000</td>\n",
              "      <td>0.000000</td>\n",
              "      <td>0.000000</td>\n",
              "      <td>0.000000</td>\n",
              "      <td>0.310430</td>\n",
              "      <td>0.000000</td>\n",
              "      <td>0.000000</td>\n",
              "      <td>0.000000</td>\n",
              "      <td>0.000000</td>\n",
              "      <td>0.407889</td>\n",
              "      <td>0.000000</td>\n",
              "      <td>0.000000</td>\n",
              "      <td>0.203400</td>\n",
              "      <td>0.000000</td>\n",
              "      <td>0.198388</td>\n",
              "      <td>0.422014</td>\n",
              "      <td>0.443910</td>\n",
              "      <td>0.259723</td>\n",
              "      <td>0.000000</td>\n",
              "      <td>0.000000</td>\n",
              "      <td>0.000000</td>\n",
              "      <td>0.000000</td>\n",
              "    </tr>\n",
              "    <tr>\n",
              "      <th>...</th>\n",
              "      <td>...</td>\n",
              "      <td>...</td>\n",
              "      <td>...</td>\n",
              "      <td>...</td>\n",
              "      <td>...</td>\n",
              "      <td>...</td>\n",
              "      <td>...</td>\n",
              "      <td>...</td>\n",
              "      <td>...</td>\n",
              "      <td>...</td>\n",
              "      <td>...</td>\n",
              "      <td>...</td>\n",
              "      <td>...</td>\n",
              "      <td>...</td>\n",
              "      <td>...</td>\n",
              "      <td>...</td>\n",
              "      <td>...</td>\n",
              "      <td>...</td>\n",
              "      <td>...</td>\n",
              "      <td>...</td>\n",
              "      <td>...</td>\n",
              "      <td>...</td>\n",
              "      <td>...</td>\n",
              "      <td>...</td>\n",
              "      <td>...</td>\n",
              "      <td>...</td>\n",
              "      <td>...</td>\n",
              "      <td>...</td>\n",
              "      <td>...</td>\n",
              "      <td>...</td>\n",
              "      <td>...</td>\n",
              "      <td>...</td>\n",
              "      <td>...</td>\n",
              "      <td>...</td>\n",
              "      <td>...</td>\n",
              "      <td>...</td>\n",
              "      <td>...</td>\n",
              "      <td>...</td>\n",
              "      <td>...</td>\n",
              "      <td>...</td>\n",
              "      <td>...</td>\n",
              "      <td>...</td>\n",
              "      <td>...</td>\n",
              "    </tr>\n",
              "    <tr>\n",
              "      <th>30151</th>\n",
              "      <td>0.427799</td>\n",
              "      <td>0.061067</td>\n",
              "      <td>0.000000</td>\n",
              "      <td>0.132674</td>\n",
              "      <td>0.162360</td>\n",
              "      <td>0.062953</td>\n",
              "      <td>0.000000</td>\n",
              "      <td>0.096652</td>\n",
              "      <td>0.117327</td>\n",
              "      <td>0.000000</td>\n",
              "      <td>0.064151</td>\n",
              "      <td>0.077151</td>\n",
              "      <td>0.079487</td>\n",
              "      <td>0.164146</td>\n",
              "      <td>0.000000</td>\n",
              "      <td>0.562813</td>\n",
              "      <td>0.082797</td>\n",
              "      <td>0.000000</td>\n",
              "      <td>0.000000</td>\n",
              "      <td>0.086371</td>\n",
              "      <td>0.133412</td>\n",
              "      <td>0.046812</td>\n",
              "      <td>0.100347</td>\n",
              "      <td>0.073281</td>\n",
              "      <td>0.390506</td>\n",
              "      <td>0.047558</td>\n",
              "      <td>0.000000</td>\n",
              "      <td>0.131508</td>\n",
              "      <td>0.000000</td>\n",
              "      <td>0.000000</td>\n",
              "      <td>0.093734</td>\n",
              "      <td>0.082153</td>\n",
              "      <td>0.093121</td>\n",
              "      <td>0.031161</td>\n",
              "      <td>0.000000</td>\n",
              "      <td>0.091180</td>\n",
              "      <td>0.290938</td>\n",
              "      <td>0.170019</td>\n",
              "      <td>0.000000</td>\n",
              "      <td>0.000000</td>\n",
              "      <td>0.100595</td>\n",
              "      <td>0.000000</td>\n",
              "      <td>0.056381</td>\n",
              "    </tr>\n",
              "    <tr>\n",
              "      <th>30152</th>\n",
              "      <td>0.166014</td>\n",
              "      <td>0.000000</td>\n",
              "      <td>0.208435</td>\n",
              "      <td>0.267729</td>\n",
              "      <td>0.245725</td>\n",
              "      <td>0.000000</td>\n",
              "      <td>0.264680</td>\n",
              "      <td>0.000000</td>\n",
              "      <td>0.000000</td>\n",
              "      <td>0.159385</td>\n",
              "      <td>0.323633</td>\n",
              "      <td>0.038922</td>\n",
              "      <td>0.360899</td>\n",
              "      <td>0.000000</td>\n",
              "      <td>0.000000</td>\n",
              "      <td>0.121685</td>\n",
              "      <td>0.375929</td>\n",
              "      <td>0.000000</td>\n",
              "      <td>0.129710</td>\n",
              "      <td>0.087146</td>\n",
              "      <td>0.188453</td>\n",
              "      <td>0.000000</td>\n",
              "      <td>0.101248</td>\n",
              "      <td>0.110907</td>\n",
              "      <td>0.140718</td>\n",
              "      <td>0.000000</td>\n",
              "      <td>0.100469</td>\n",
              "      <td>0.000000</td>\n",
              "      <td>0.000000</td>\n",
              "      <td>0.000000</td>\n",
              "      <td>0.094575</td>\n",
              "      <td>0.041445</td>\n",
              "      <td>0.156594</td>\n",
              "      <td>0.031441</td>\n",
              "      <td>0.047577</td>\n",
              "      <td>0.000000</td>\n",
              "      <td>0.032617</td>\n",
              "      <td>0.137235</td>\n",
              "      <td>0.040147</td>\n",
              "      <td>0.000000</td>\n",
              "      <td>0.000000</td>\n",
              "      <td>0.369485</td>\n",
              "      <td>0.000000</td>\n",
              "    </tr>\n",
              "    <tr>\n",
              "      <th>30153</th>\n",
              "      <td>0.468956</td>\n",
              "      <td>0.000000</td>\n",
              "      <td>0.049065</td>\n",
              "      <td>0.126046</td>\n",
              "      <td>0.154249</td>\n",
              "      <td>0.059808</td>\n",
              "      <td>0.000000</td>\n",
              "      <td>0.000000</td>\n",
              "      <td>0.055733</td>\n",
              "      <td>0.000000</td>\n",
              "      <td>0.030473</td>\n",
              "      <td>0.183243</td>\n",
              "      <td>0.075516</td>\n",
              "      <td>0.000000</td>\n",
              "      <td>0.142405</td>\n",
              "      <td>0.381927</td>\n",
              "      <td>0.196652</td>\n",
              "      <td>0.000000</td>\n",
              "      <td>0.081423</td>\n",
              "      <td>0.082057</td>\n",
              "      <td>0.152097</td>\n",
              "      <td>0.000000</td>\n",
              "      <td>0.190669</td>\n",
              "      <td>0.069620</td>\n",
              "      <td>0.397499</td>\n",
              "      <td>0.090365</td>\n",
              "      <td>0.047301</td>\n",
              "      <td>0.208231</td>\n",
              "      <td>0.063784</td>\n",
              "      <td>0.000000</td>\n",
              "      <td>0.089051</td>\n",
              "      <td>0.117074</td>\n",
              "      <td>0.147448</td>\n",
              "      <td>0.088813</td>\n",
              "      <td>0.000000</td>\n",
              "      <td>0.144375</td>\n",
              "      <td>0.245693</td>\n",
              "      <td>0.226136</td>\n",
              "      <td>0.000000</td>\n",
              "      <td>0.000000</td>\n",
              "      <td>0.095570</td>\n",
              "      <td>0.000000</td>\n",
              "      <td>0.000000</td>\n",
              "    </tr>\n",
              "    <tr>\n",
              "      <th>30154</th>\n",
              "      <td>0.171542</td>\n",
              "      <td>0.000000</td>\n",
              "      <td>0.215375</td>\n",
              "      <td>0.276644</td>\n",
              "      <td>0.253907</td>\n",
              "      <td>0.000000</td>\n",
              "      <td>0.227911</td>\n",
              "      <td>0.000000</td>\n",
              "      <td>0.000000</td>\n",
              "      <td>0.164692</td>\n",
              "      <td>0.234086</td>\n",
              "      <td>0.120653</td>\n",
              "      <td>0.000000</td>\n",
              "      <td>0.000000</td>\n",
              "      <td>0.039068</td>\n",
              "      <td>0.083825</td>\n",
              "      <td>0.517929</td>\n",
              "      <td>0.129590</td>\n",
              "      <td>0.134029</td>\n",
              "      <td>0.090048</td>\n",
              "      <td>0.222546</td>\n",
              "      <td>0.000000</td>\n",
              "      <td>0.174366</td>\n",
              "      <td>0.152800</td>\n",
              "      <td>0.203565</td>\n",
              "      <td>0.000000</td>\n",
              "      <td>0.000000</td>\n",
              "      <td>0.000000</td>\n",
              "      <td>0.000000</td>\n",
              "      <td>0.121721</td>\n",
              "      <td>0.097724</td>\n",
              "      <td>0.000000</td>\n",
              "      <td>0.097085</td>\n",
              "      <td>0.032488</td>\n",
              "      <td>0.000000</td>\n",
              "      <td>0.031687</td>\n",
              "      <td>0.033703</td>\n",
              "      <td>0.177256</td>\n",
              "      <td>0.041484</td>\n",
              "      <td>0.188331</td>\n",
              "      <td>0.000000</td>\n",
              "      <td>0.254525</td>\n",
              "      <td>0.000000</td>\n",
              "    </tr>\n",
              "    <tr>\n",
              "      <th>30155</th>\n",
              "      <td>0.401641</td>\n",
              "      <td>0.000000</td>\n",
              "      <td>0.000000</td>\n",
              "      <td>0.359845</td>\n",
              "      <td>0.330270</td>\n",
              "      <td>0.128058</td>\n",
              "      <td>0.000000</td>\n",
              "      <td>0.196609</td>\n",
              "      <td>0.000000</td>\n",
              "      <td>0.000000</td>\n",
              "      <td>0.065247</td>\n",
              "      <td>0.000000</td>\n",
              "      <td>0.000000</td>\n",
              "      <td>0.000000</td>\n",
              "      <td>0.076228</td>\n",
              "      <td>0.000000</td>\n",
              "      <td>0.000000</td>\n",
              "      <td>0.000000</td>\n",
              "      <td>0.000000</td>\n",
              "      <td>0.000000</td>\n",
              "      <td>0.054277</td>\n",
              "      <td>0.000000</td>\n",
              "      <td>0.136084</td>\n",
              "      <td>0.000000</td>\n",
              "      <td>0.397181</td>\n",
              "      <td>0.096742</td>\n",
              "      <td>0.101277</td>\n",
              "      <td>0.000000</td>\n",
              "      <td>0.068285</td>\n",
              "      <td>0.118747</td>\n",
              "      <td>0.254229</td>\n",
              "      <td>0.083557</td>\n",
              "      <td>0.000000</td>\n",
              "      <td>0.126775</td>\n",
              "      <td>0.095920</td>\n",
              "      <td>0.123651</td>\n",
              "      <td>0.394549</td>\n",
              "      <td>0.138340</td>\n",
              "      <td>0.000000</td>\n",
              "      <td>0.122486</td>\n",
              "      <td>0.000000</td>\n",
              "      <td>0.124153</td>\n",
              "      <td>0.000000</td>\n",
              "    </tr>\n",
              "  </tbody>\n",
              "</table>\n",
              "<p>30156 rows × 43 columns</p>\n",
              "</div>"
            ],
            "text/plain": [
              "                        \"         '  ...         w         x         y\n",
              "0      0.453262  0.000000  0.000000  ...  0.000000  0.000000  0.000000\n",
              "1      0.223881  0.000000  0.000000  ...  0.000000  0.000000  0.000000\n",
              "2      0.000000  0.000000  0.000000  ...  0.000000  0.000000  0.000000\n",
              "3      0.000000  0.000000  0.000000  ...  0.000000  0.000000  0.000000\n",
              "4      0.000000  0.000000  0.000000  ...  0.000000  0.000000  0.000000\n",
              "...         ...       ...       ...  ...       ...       ...       ...\n",
              "30151  0.427799  0.061067  0.000000  ...  0.100595  0.000000  0.056381\n",
              "30152  0.166014  0.000000  0.208435  ...  0.000000  0.369485  0.000000\n",
              "30153  0.468956  0.000000  0.049065  ...  0.095570  0.000000  0.000000\n",
              "30154  0.171542  0.000000  0.215375  ...  0.000000  0.254525  0.000000\n",
              "30155  0.401641  0.000000  0.000000  ...  0.000000  0.124153  0.000000\n",
              "\n",
              "[30156 rows x 43 columns]"
            ]
          },
          "metadata": {},
          "execution_count": 25
        }
      ]
    },
    {
      "cell_type": "code",
      "metadata": {
        "id": "K1E1hlGvnULs",
        "colab": {
          "base_uri": "https://localhost:8080/"
        },
        "outputId": "be1de5c9-03dc-4e58-dcd8-b534ab9b3748"
      },
      "source": [
        "from sklearn.model_selection import StratifiedKFold, cross_validate\n",
        "from sklearn.model_selection import train_test_split\n",
        "import optuna.integration.lightgbm as olgb\n",
        "import optuna\n",
        "\n",
        "# データセットを訓練用とテスト用に分割\n",
        "X_train, X_test, y_train, y_test = train_test_split(X, y, test_size=0.2, shuffle=True, random_state=101)\n",
        "\n",
        "# LightGBM用のデータセットに変換\n",
        "train = olgb.Dataset(X_train, y_train)\n",
        "\n",
        "# パラメータの設定\n",
        "params = {\n",
        "    \"objective\": \"binary\",\n",
        "    \"metric\": \"binary_logloss\",\n",
        "    \"verbosity\": -1,\n",
        "    \"boosting_type\": \"gbdt\",\n",
        "}\n",
        "\n",
        "# 交差検証を使用したハイパーパラメータの探索\n",
        "tuner = olgb.LightGBMTunerCV(params, train, verbose_eval=100, early_stopping_rounds=100, folds=StratifiedKFold(n_splits=5))\n",
        "\n",
        "# ハイパーパラメータ探索の実行\n",
        "tuner.run()"
      ],
      "execution_count": 26,
      "outputs": [
        {
          "output_type": "stream",
          "name": "stderr",
          "text": [
            "\u001b[32m[I 2021-09-05 02:16:19,981]\u001b[0m A new study created in memory with name: no-name-00ecda7e-39c5-49db-b083-0c1b33d1b520\u001b[0m\n",
            "feature_fraction, val_score: inf:   0%|          | 0/7 [00:00<?, ?it/s]"
          ]
        },
        {
          "output_type": "stream",
          "name": "stdout",
          "text": [
            "[100]\tcv_agg's binary_logloss: 0.00162055 + 0.000905295\n"
          ]
        },
        {
          "output_type": "stream",
          "name": "stderr",
          "text": [
            "feature_fraction, val_score: 0.001495:  14%|#4        | 1/7 [00:06<00:36,  6.12s/it]\u001b[32m[I 2021-09-05 02:16:26,120]\u001b[0m Trial 0 finished with value: 0.0014948618710372368 and parameters: {'feature_fraction': 0.7}. Best is trial 0 with value: 0.0014948618710372368.\u001b[0m\n",
            "feature_fraction, val_score: 0.001495:  14%|#4        | 1/7 [00:06<00:36,  6.12s/it]"
          ]
        },
        {
          "output_type": "stream",
          "name": "stdout",
          "text": [
            "[100]\tcv_agg's binary_logloss: 0.00189494 + 0.00120489\n"
          ]
        },
        {
          "output_type": "stream",
          "name": "stderr",
          "text": [
            "feature_fraction, val_score: 0.001495:  29%|##8       | 2/7 [00:12<00:32,  6.41s/it]\u001b[32m[I 2021-09-05 02:16:32,731]\u001b[0m Trial 1 finished with value: 0.001817757082465981 and parameters: {'feature_fraction': 0.8}. Best is trial 0 with value: 0.0014948618710372368.\u001b[0m\n",
            "feature_fraction, val_score: 0.001495:  29%|##8       | 2/7 [00:12<00:32,  6.41s/it]"
          ]
        },
        {
          "output_type": "stream",
          "name": "stdout",
          "text": [
            "[100]\tcv_agg's binary_logloss: 0.00117304 + 0.000764567\n"
          ]
        },
        {
          "output_type": "stream",
          "name": "stderr",
          "text": [
            "feature_fraction, val_score: 0.001152:  43%|####2     | 3/7 [00:17<00:22,  5.60s/it]\u001b[32m[I 2021-09-05 02:16:37,374]\u001b[0m Trial 2 finished with value: 0.0011521482936611674 and parameters: {'feature_fraction': 0.4}. Best is trial 2 with value: 0.0011521482936611674.\u001b[0m\n",
            "feature_fraction, val_score: 0.001152:  43%|####2     | 3/7 [00:17<00:22,  5.60s/it]"
          ]
        },
        {
          "output_type": "stream",
          "name": "stdout",
          "text": [
            "[100]\tcv_agg's binary_logloss: 0.00235411 + 0.00137145\n"
          ]
        },
        {
          "output_type": "stream",
          "name": "stderr",
          "text": [
            "feature_fraction, val_score: 0.001152:  57%|#####7    | 4/7 [00:24<00:18,  6.06s/it]\u001b[32m[I 2021-09-05 02:16:44,123]\u001b[0m Trial 3 finished with value: 0.0022536931240183843 and parameters: {'feature_fraction': 0.8999999999999999}. Best is trial 2 with value: 0.0011521482936611674.\u001b[0m\n",
            "feature_fraction, val_score: 0.001152:  57%|#####7    | 4/7 [00:24<00:18,  6.06s/it]"
          ]
        },
        {
          "output_type": "stream",
          "name": "stdout",
          "text": [
            "[100]\tcv_agg's binary_logloss: 0.00301344 + 0.0015852\n"
          ]
        },
        {
          "output_type": "stream",
          "name": "stderr",
          "text": [
            "feature_fraction, val_score: 0.001152:  71%|#######1  | 5/7 [00:31<00:13,  6.56s/it]\u001b[32m[I 2021-09-05 02:16:51,568]\u001b[0m Trial 4 finished with value: 0.0028954767735275056 and parameters: {'feature_fraction': 1.0}. Best is trial 2 with value: 0.0011521482936611674.\u001b[0m\n",
            "feature_fraction, val_score: 0.001152:  71%|#######1  | 5/7 [00:31<00:13,  6.56s/it]"
          ]
        },
        {
          "output_type": "stream",
          "name": "stdout",
          "text": [
            "[100]\tcv_agg's binary_logloss: 0.00115086 + 0.000685716\n"
          ]
        },
        {
          "output_type": "stream",
          "name": "stderr",
          "text": [
            "feature_fraction, val_score: 0.001096:  86%|########5 | 6/7 [00:36<00:06,  6.05s/it]\u001b[32m[I 2021-09-05 02:16:56,628]\u001b[0m Trial 5 finished with value: 0.001096440922652404 and parameters: {'feature_fraction': 0.5}. Best is trial 5 with value: 0.001096440922652404.\u001b[0m\n",
            "feature_fraction, val_score: 0.001096:  86%|########5 | 6/7 [00:36<00:06,  6.05s/it]"
          ]
        },
        {
          "output_type": "stream",
          "name": "stdout",
          "text": [
            "[100]\tcv_agg's binary_logloss: 0.00135099 + 0.000840922\n"
          ]
        },
        {
          "output_type": "stream",
          "name": "stderr",
          "text": [
            "feature_fraction, val_score: 0.001096: 100%|##########| 7/7 [00:42<00:00,  5.86s/it]\u001b[32m[I 2021-09-05 02:17:02,106]\u001b[0m Trial 6 finished with value: 0.0012709937076241882 and parameters: {'feature_fraction': 0.6}. Best is trial 5 with value: 0.001096440922652404.\u001b[0m\n",
            "feature_fraction, val_score: 0.001096: 100%|##########| 7/7 [00:42<00:00,  6.02s/it]\n",
            "num_leaves, val_score: 0.001096:   0%|          | 0/20 [00:00<?, ?it/s]"
          ]
        },
        {
          "output_type": "stream",
          "name": "stdout",
          "text": [
            "[100]\tcv_agg's binary_logloss: 0.00111694 + 0.000725023\n"
          ]
        },
        {
          "output_type": "stream",
          "name": "stderr",
          "text": [
            "num_leaves, val_score: 0.001056:   5%|5         | 1/20 [00:05<01:51,  5.85s/it]\u001b[32m[I 2021-09-05 02:17:07,965]\u001b[0m Trial 7 finished with value: 0.0010562844182722818 and parameters: {'num_leaves': 43}. Best is trial 7 with value: 0.0010562844182722818.\u001b[0m\n",
            "num_leaves, val_score: 0.001056:   5%|5         | 1/20 [00:05<01:51,  5.85s/it]"
          ]
        },
        {
          "output_type": "stream",
          "name": "stdout",
          "text": [
            "[100]\tcv_agg's binary_logloss: 0.00113849 + 0.000728705\n"
          ]
        },
        {
          "output_type": "stream",
          "name": "stderr",
          "text": [
            "num_leaves, val_score: 0.001056:  10%|#         | 2/20 [00:18<02:57,  9.84s/it]\u001b[32m[I 2021-09-05 02:17:20,598]\u001b[0m Trial 8 finished with value: 0.0010774975063711709 and parameters: {'num_leaves': 172}. Best is trial 7 with value: 0.0010562844182722818.\u001b[0m\n",
            "num_leaves, val_score: 0.001056:  10%|#         | 2/20 [00:18<02:57,  9.84s/it]"
          ]
        },
        {
          "output_type": "stream",
          "name": "stdout",
          "text": [
            "[100]\tcv_agg's binary_logloss: 0.00113479 + 0.000731405\n"
          ]
        },
        {
          "output_type": "stream",
          "name": "stderr",
          "text": [
            "num_leaves, val_score: 0.001056:  15%|#5        | 3/20 [00:32<03:17, 11.62s/it]\u001b[32m[I 2021-09-05 02:17:34,346]\u001b[0m Trial 9 finished with value: 0.0010739420768167776 and parameters: {'num_leaves': 201}. Best is trial 7 with value: 0.0010562844182722818.\u001b[0m\n",
            "num_leaves, val_score: 0.001056:  15%|#5        | 3/20 [00:32<03:17, 11.62s/it]"
          ]
        },
        {
          "output_type": "stream",
          "name": "stdout",
          "text": [
            "[100]\tcv_agg's binary_logloss: 0.00114706 + 0.000731089\n"
          ]
        },
        {
          "output_type": "stream",
          "name": "stderr",
          "text": [
            "num_leaves, val_score: 0.001056:  20%|##        | 4/20 [00:46<03:24, 12.77s/it]\u001b[32m[I 2021-09-05 02:17:48,879]\u001b[0m Trial 10 finished with value: 0.0010840076883645842 and parameters: {'num_leaves': 223}. Best is trial 7 with value: 0.0010562844182722818.\u001b[0m\n",
            "num_leaves, val_score: 0.001056:  20%|##        | 4/20 [00:46<03:24, 12.77s/it]"
          ]
        },
        {
          "output_type": "stream",
          "name": "stdout",
          "text": [
            "[100]\tcv_agg's binary_logloss: 0.00154185 + 0.000722785\n",
            "[200]\tcv_agg's binary_logloss: 0.00167612 + 0.00129868\n"
          ]
        },
        {
          "output_type": "stream",
          "name": "stderr",
          "text": [
            "num_leaves, val_score: 0.001056:  25%|##5       | 5/20 [00:50<02:24,  9.62s/it]\u001b[32m[I 2021-09-05 02:17:52,910]\u001b[0m Trial 11 finished with value: 0.0014708324344317107 and parameters: {'num_leaves': 8}. Best is trial 7 with value: 0.0010562844182722818.\u001b[0m\n",
            "num_leaves, val_score: 0.001056:  25%|##5       | 5/20 [00:50<02:24,  9.62s/it]"
          ]
        },
        {
          "output_type": "stream",
          "name": "stdout",
          "text": [
            "[100]\tcv_agg's binary_logloss: 0.00112603 + 0.000722668\n"
          ]
        },
        {
          "output_type": "stream",
          "name": "stderr",
          "text": [
            "num_leaves, val_score: 0.001056:  30%|###       | 6/20 [01:00<02:17,  9.81s/it]\u001b[32m[I 2021-09-05 02:18:03,080]\u001b[0m Trial 12 finished with value: 0.0010662264552813632 and parameters: {'num_leaves': 120}. Best is trial 7 with value: 0.0010562844182722818.\u001b[0m\n",
            "num_leaves, val_score: 0.001056:  30%|###       | 6/20 [01:00<02:17,  9.81s/it]"
          ]
        },
        {
          "output_type": "stream",
          "name": "stdout",
          "text": [
            "[100]\tcv_agg's binary_logloss: 0.00113694 + 0.000731555\n"
          ]
        },
        {
          "output_type": "stream",
          "name": "stderr",
          "text": [
            "num_leaves, val_score: 0.001056:  35%|###5      | 7/20 [01:14<02:24, 11.11s/it]\u001b[32m[I 2021-09-05 02:18:16,875]\u001b[0m Trial 13 finished with value: 0.0010766231629848414 and parameters: {'num_leaves': 203}. Best is trial 7 with value: 0.0010562844182722818.\u001b[0m\n",
            "num_leaves, val_score: 0.001056:  35%|###5      | 7/20 [01:14<02:24, 11.11s/it]"
          ]
        },
        {
          "output_type": "stream",
          "name": "stdout",
          "text": [
            "[100]\tcv_agg's binary_logloss: 0.00115196 + 0.000720322\n"
          ]
        },
        {
          "output_type": "stream",
          "name": "stderr",
          "text": [
            "num_leaves, val_score: 0.001056:  40%|####      | 8/20 [01:24<02:06, 10.56s/it]\u001b[32m[I 2021-09-05 02:18:26,260]\u001b[0m Trial 14 finished with value: 0.0010905441822494605 and parameters: {'num_leaves': 104}. Best is trial 7 with value: 0.0010562844182722818.\u001b[0m\n",
            "num_leaves, val_score: 0.001056:  40%|####      | 8/20 [01:24<02:06, 10.56s/it]"
          ]
        },
        {
          "output_type": "stream",
          "name": "stdout",
          "text": [
            "[100]\tcv_agg's binary_logloss: 0.00114495 + 0.000725133\n"
          ]
        },
        {
          "output_type": "stream",
          "name": "stderr",
          "text": [
            "num_leaves, val_score: 0.001056:  45%|####5     | 9/20 [01:39<02:12, 12.08s/it]\u001b[32m[I 2021-09-05 02:18:41,687]\u001b[0m Trial 15 finished with value: 0.0010883937454102296 and parameters: {'num_leaves': 246}. Best is trial 7 with value: 0.0010562844182722818.\u001b[0m\n",
            "num_leaves, val_score: 0.001056:  45%|####5     | 9/20 [01:39<02:12, 12.08s/it]"
          ]
        },
        {
          "output_type": "stream",
          "name": "stdout",
          "text": [
            "[100]\tcv_agg's binary_logloss: 0.00114793 + 0.00072406\n"
          ]
        },
        {
          "output_type": "stream",
          "name": "stderr",
          "text": [
            "num_leaves, val_score: 0.001056:  50%|#####     | 10/20 [01:54<02:10, 13.03s/it]\u001b[32m[I 2021-09-05 02:18:56,848]\u001b[0m Trial 16 finished with value: 0.0010868689136704249 and parameters: {'num_leaves': 239}. Best is trial 7 with value: 0.0010562844182722818.\u001b[0m\n",
            "num_leaves, val_score: 0.001056:  50%|#####     | 10/20 [01:54<02:10, 13.03s/it]"
          ]
        },
        {
          "output_type": "stream",
          "name": "stdout",
          "text": [
            "[100]\tcv_agg's binary_logloss: 0.00136113 + 0.00068317\n"
          ]
        },
        {
          "output_type": "stream",
          "name": "stderr",
          "text": [
            "num_leaves, val_score: 0.001056:  55%|#####5    | 11/20 [01:58<01:32, 10.28s/it]\u001b[32m[I 2021-09-05 02:19:00,876]\u001b[0m Trial 17 finished with value: 0.0013221931473674149 and parameters: {'num_leaves': 13}. Best is trial 7 with value: 0.0010562844182722818.\u001b[0m\n",
            "num_leaves, val_score: 0.001056:  55%|#####5    | 11/20 [01:58<01:32, 10.28s/it]"
          ]
        },
        {
          "output_type": "stream",
          "name": "stdout",
          "text": [
            "[100]\tcv_agg's binary_logloss: 0.0011411 + 0.000725945\n"
          ]
        },
        {
          "output_type": "stream",
          "name": "stderr",
          "text": [
            "num_leaves, val_score: 0.001056:  60%|######    | 12/20 [02:07<01:18,  9.77s/it]\u001b[32m[I 2021-09-05 02:19:09,493]\u001b[0m Trial 18 finished with value: 0.0010808169364973734 and parameters: {'num_leaves': 88}. Best is trial 7 with value: 0.0010562844182722818.\u001b[0m\n",
            "num_leaves, val_score: 0.001056:  60%|######    | 12/20 [02:07<01:18,  9.77s/it]"
          ]
        },
        {
          "output_type": "stream",
          "name": "stdout",
          "text": [
            "[100]\tcv_agg's binary_logloss: 0.00110957 + 0.000758716\n"
          ]
        },
        {
          "output_type": "stream",
          "name": "stderr",
          "text": [
            "num_leaves, val_score: 0.001047:  65%|######5   | 13/20 [02:13<01:01,  8.80s/it]\u001b[32m[I 2021-09-05 02:19:16,064]\u001b[0m Trial 19 finished with value: 0.0010465580870316726 and parameters: {'num_leaves': 55}. Best is trial 19 with value: 0.0010465580870316726.\u001b[0m\n",
            "num_leaves, val_score: 0.001047:  65%|######5   | 13/20 [02:13<01:01,  8.80s/it]"
          ]
        },
        {
          "output_type": "stream",
          "name": "stdout",
          "text": [
            "[100]\tcv_agg's binary_logloss: 0.00112153 + 0.000726107\n"
          ]
        },
        {
          "output_type": "stream",
          "name": "stderr",
          "text": [
            "num_leaves, val_score: 0.001047:  70%|#######   | 14/20 [02:20<00:48,  8.12s/it]\u001b[32m[I 2021-09-05 02:19:22,611]\u001b[0m Trial 20 finished with value: 0.001056307878633189 and parameters: {'num_leaves': 54}. Best is trial 19 with value: 0.0010465580870316726.\u001b[0m\n",
            "num_leaves, val_score: 0.001047:  70%|#######   | 14/20 [02:20<00:48,  8.12s/it]"
          ]
        },
        {
          "output_type": "stream",
          "name": "stdout",
          "text": [
            "[100]\tcv_agg's binary_logloss: 0.00114237 + 0.000714988\n"
          ]
        },
        {
          "output_type": "stream",
          "name": "stderr",
          "text": [
            "num_leaves, val_score: 0.001047:  75%|#######5  | 15/20 [02:27<00:38,  7.72s/it]\u001b[32m[I 2021-09-05 02:19:29,395]\u001b[0m Trial 21 finished with value: 0.0010719322265534533 and parameters: {'num_leaves': 58}. Best is trial 19 with value: 0.0010465580870316726.\u001b[0m\n",
            "num_leaves, val_score: 0.001047:  75%|#######5  | 15/20 [02:27<00:38,  7.72s/it]"
          ]
        },
        {
          "output_type": "stream",
          "name": "stdout",
          "text": [
            "[100]\tcv_agg's binary_logloss: 0.00114237 + 0.000714988\n"
          ]
        },
        {
          "output_type": "stream",
          "name": "stderr",
          "text": [
            "num_leaves, val_score: 0.001047:  80%|########  | 16/20 [02:34<00:29,  7.43s/it]\u001b[32m[I 2021-09-05 02:19:36,154]\u001b[0m Trial 22 finished with value: 0.0010719322265534533 and parameters: {'num_leaves': 58}. Best is trial 19 with value: 0.0010465580870316726.\u001b[0m\n",
            "num_leaves, val_score: 0.001047:  80%|########  | 16/20 [02:34<00:29,  7.43s/it]"
          ]
        },
        {
          "output_type": "stream",
          "name": "stdout",
          "text": [
            "[100]\tcv_agg's binary_logloss: 0.0011498 + 0.000680302\n"
          ]
        },
        {
          "output_type": "stream",
          "name": "stderr",
          "text": [
            "num_leaves, val_score: 0.001047:  85%|########5 | 17/20 [02:39<00:20,  6.76s/it]\u001b[32m[I 2021-09-05 02:19:41,347]\u001b[0m Trial 23 finished with value: 0.001097640490322846 and parameters: {'num_leaves': 33}. Best is trial 19 with value: 0.0010465580870316726.\u001b[0m\n",
            "num_leaves, val_score: 0.001047:  85%|########5 | 17/20 [02:39<00:20,  6.76s/it]"
          ]
        },
        {
          "output_type": "stream",
          "name": "stdout",
          "text": [
            "[100]\tcv_agg's binary_logloss: 0.00113452 + 0.000711621\n"
          ]
        },
        {
          "output_type": "stream",
          "name": "stderr",
          "text": [
            "num_leaves, val_score: 0.001047:  90%|######### | 18/20 [02:50<00:16,  8.16s/it]\u001b[32m[I 2021-09-05 02:19:52,758]\u001b[0m Trial 24 finished with value: 0.0010689786230783647 and parameters: {'num_leaves': 146}. Best is trial 19 with value: 0.0010465580870316726.\u001b[0m\n",
            "num_leaves, val_score: 0.001047:  90%|######### | 18/20 [02:50<00:16,  8.16s/it]"
          ]
        },
        {
          "output_type": "stream",
          "name": "stdout",
          "text": [
            "[100]\tcv_agg's binary_logloss: 0.00113882 + 0.000718365\n"
          ]
        },
        {
          "output_type": "stream",
          "name": "stderr",
          "text": [
            "num_leaves, val_score: 0.001047:  95%|#########5| 19/20 [02:58<00:08,  8.19s/it]\u001b[32m[I 2021-09-05 02:20:01,044]\u001b[0m Trial 25 finished with value: 0.0010770855740261768 and parameters: {'num_leaves': 83}. Best is trial 19 with value: 0.0010465580870316726.\u001b[0m\n",
            "num_leaves, val_score: 0.001047:  95%|#########5| 19/20 [02:58<00:08,  8.19s/it]"
          ]
        },
        {
          "output_type": "stream",
          "name": "stdout",
          "text": [
            "[100]\tcv_agg's binary_logloss: 0.00113474 + 0.000711582\n"
          ]
        },
        {
          "output_type": "stream",
          "name": "stderr",
          "text": [
            "num_leaves, val_score: 0.001047: 100%|##########| 20/20 [03:10<00:00,  9.15s/it]\u001b[32m[I 2021-09-05 02:20:12,411]\u001b[0m Trial 26 finished with value: 0.001069056045334436 and parameters: {'num_leaves': 145}. Best is trial 19 with value: 0.0010465580870316726.\u001b[0m\n",
            "num_leaves, val_score: 0.001047: 100%|##########| 20/20 [03:10<00:00,  9.51s/it]\n",
            "bagging, val_score: 0.001047:   0%|          | 0/10 [00:00<?, ?it/s]"
          ]
        },
        {
          "output_type": "stream",
          "name": "stdout",
          "text": [
            "[100]\tcv_agg's binary_logloss: 0.00127629 + 0.000733487\n"
          ]
        },
        {
          "output_type": "stream",
          "name": "stderr",
          "text": [
            "bagging, val_score: 0.001047:  10%|#         | 1/10 [00:06<01:00,  6.75s/it]\u001b[32m[I 2021-09-05 02:20:19,179]\u001b[0m Trial 27 finished with value: 0.0012399707659867863 and parameters: {'bagging_fraction': 0.6348693255599669, 'bagging_freq': 1}. Best is trial 27 with value: 0.0012399707659867863.\u001b[0m\n",
            "bagging, val_score: 0.001047:  10%|#         | 1/10 [00:06<01:00,  6.75s/it]"
          ]
        },
        {
          "output_type": "stream",
          "name": "stdout",
          "text": [
            "[100]\tcv_agg's binary_logloss: 0.00116642 + 0.000828052\n"
          ]
        },
        {
          "output_type": "stream",
          "name": "stderr",
          "text": [
            "bagging, val_score: 0.001047:  20%|##        | 2/10 [00:13<00:55,  6.98s/it]\u001b[32m[I 2021-09-05 02:20:26,319]\u001b[0m Trial 28 finished with value: 0.0011488809405605829 and parameters: {'bagging_fraction': 0.49577020305922725, 'bagging_freq': 5}. Best is trial 28 with value: 0.0011488809405605829.\u001b[0m\n",
            "bagging, val_score: 0.001047:  20%|##        | 2/10 [00:13<00:55,  6.98s/it]"
          ]
        },
        {
          "output_type": "stream",
          "name": "stdout",
          "text": [
            "[200]\tcv_agg's binary_logloss: 0.00141007 + 0.0013771\n",
            "[100]\tcv_agg's binary_logloss: 0.00119834 + 0.000770547\n"
          ]
        },
        {
          "output_type": "stream",
          "name": "stderr",
          "text": [
            "bagging, val_score: 0.001047:  30%|###       | 3/10 [00:21<00:50,  7.23s/it]\u001b[32m[I 2021-09-05 02:20:33,856]\u001b[0m Trial 29 finished with value: 0.001147550085302732 and parameters: {'bagging_fraction': 0.8181418818826569, 'bagging_freq': 6}. Best is trial 29 with value: 0.001147550085302732.\u001b[0m\n",
            "bagging, val_score: 0.001047:  30%|###       | 3/10 [00:21<00:50,  7.23s/it]"
          ]
        },
        {
          "output_type": "stream",
          "name": "stdout",
          "text": [
            "[100]\tcv_agg's binary_logloss: 0.00127792 + 0.000880408\n"
          ]
        },
        {
          "output_type": "stream",
          "name": "stderr",
          "text": [
            "bagging, val_score: 0.001047:  40%|####      | 4/10 [00:28<00:43,  7.27s/it]\u001b[32m[I 2021-09-05 02:20:41,188]\u001b[0m Trial 30 finished with value: 0.0012717327583600543 and parameters: {'bagging_fraction': 0.4972060901507409, 'bagging_freq': 2}. Best is trial 29 with value: 0.001147550085302732.\u001b[0m\n",
            "bagging, val_score: 0.001047:  40%|####      | 4/10 [00:28<00:43,  7.27s/it]"
          ]
        },
        {
          "output_type": "stream",
          "name": "stdout",
          "text": [
            "[100]\tcv_agg's binary_logloss: 0.00126651 + 0.000864702\n"
          ]
        },
        {
          "output_type": "stream",
          "name": "stderr",
          "text": [
            "bagging, val_score: 0.001047:  50%|#####     | 5/10 [00:35<00:35,  7.17s/it]\u001b[32m[I 2021-09-05 02:20:48,179]\u001b[0m Trial 31 finished with value: 0.0012205729251868259 and parameters: {'bagging_fraction': 0.4495318525009397, 'bagging_freq': 7}. Best is trial 29 with value: 0.001147550085302732.\u001b[0m\n",
            "bagging, val_score: 0.001047:  50%|#####     | 5/10 [00:35<00:35,  7.17s/it]"
          ]
        },
        {
          "output_type": "stream",
          "name": "stdout",
          "text": [
            "[100]\tcv_agg's binary_logloss: 0.00120658 + 0.000842434\n"
          ]
        },
        {
          "output_type": "stream",
          "name": "stderr",
          "text": [
            "bagging, val_score: 0.001047:  60%|######    | 6/10 [00:42<00:28,  7.20s/it]\u001b[32m[I 2021-09-05 02:20:55,421]\u001b[0m Trial 32 finished with value: 0.0011644011422409894 and parameters: {'bagging_fraction': 0.5776062106488087, 'bagging_freq': 7}. Best is trial 29 with value: 0.001147550085302732.\u001b[0m\n",
            "bagging, val_score: 0.001047:  60%|######    | 6/10 [00:43<00:28,  7.20s/it]"
          ]
        },
        {
          "output_type": "stream",
          "name": "stdout",
          "text": [
            "[100]\tcv_agg's binary_logloss: 0.00117285 + 0.000675238\n"
          ]
        },
        {
          "output_type": "stream",
          "name": "stderr",
          "text": [
            "bagging, val_score: 0.001047:  70%|#######   | 7/10 [00:51<00:22,  7.54s/it]\u001b[32m[I 2021-09-05 02:21:03,681]\u001b[0m Trial 33 finished with value: 0.0011168070892335295 and parameters: {'bagging_fraction': 0.9420481193020342, 'bagging_freq': 2}. Best is trial 33 with value: 0.0011168070892335295.\u001b[0m\n",
            "bagging, val_score: 0.001047:  70%|#######   | 7/10 [00:51<00:22,  7.54s/it]"
          ]
        },
        {
          "output_type": "stream",
          "name": "stdout",
          "text": [
            "[100]\tcv_agg's binary_logloss: 0.00114383 + 0.000828995\n"
          ]
        },
        {
          "output_type": "stream",
          "name": "stderr",
          "text": [
            "bagging, val_score: 0.001047:  80%|########  | 8/10 [00:58<00:15,  7.58s/it]\u001b[32m[I 2021-09-05 02:21:11,354]\u001b[0m Trial 34 finished with value: 0.0010912147232128703 and parameters: {'bagging_fraction': 0.8511498961289504, 'bagging_freq': 7}. Best is trial 34 with value: 0.0010912147232128703.\u001b[0m\n",
            "bagging, val_score: 0.001047:  80%|########  | 8/10 [00:58<00:15,  7.58s/it]"
          ]
        },
        {
          "output_type": "stream",
          "name": "stdout",
          "text": [
            "[100]\tcv_agg's binary_logloss: 0.00115127 + 0.000792395\n"
          ]
        },
        {
          "output_type": "stream",
          "name": "stderr",
          "text": [
            "bagging, val_score: 0.001047:  90%|######### | 9/10 [01:06<00:07,  7.49s/it]\u001b[32m[I 2021-09-05 02:21:18,642]\u001b[0m Trial 35 finished with value: 0.0011139435610853145 and parameters: {'bagging_fraction': 0.6041746519967717, 'bagging_freq': 6}. Best is trial 34 with value: 0.0010912147232128703.\u001b[0m\n",
            "bagging, val_score: 0.001047:  90%|######### | 9/10 [01:06<00:07,  7.49s/it]"
          ]
        },
        {
          "output_type": "stream",
          "name": "stdout",
          "text": [
            "[100]\tcv_agg's binary_logloss: 0.00122435 + 0.000728717\n"
          ]
        },
        {
          "output_type": "stream",
          "name": "stderr",
          "text": [
            "bagging, val_score: 0.001047: 100%|##########| 10/10 [01:13<00:00,  7.35s/it]\u001b[32m[I 2021-09-05 02:21:25,664]\u001b[0m Trial 36 finished with value: 0.0011974114518537415 and parameters: {'bagging_fraction': 0.583499742780015, 'bagging_freq': 1}. Best is trial 34 with value: 0.0010912147232128703.\u001b[0m\n",
            "bagging, val_score: 0.001047: 100%|##########| 10/10 [01:13<00:00,  7.32s/it]\n",
            "feature_fraction_stage2, val_score: 0.001047:   0%|          | 0/6 [00:00<?, ?it/s]"
          ]
        },
        {
          "output_type": "stream",
          "name": "stdout",
          "text": [
            "[100]\tcv_agg's binary_logloss: 0.00118392 + 0.000659149\n"
          ]
        },
        {
          "output_type": "stream",
          "name": "stderr",
          "text": [
            "feature_fraction_stage2, val_score: 0.001047:  17%|#6        | 1/6 [00:06<00:31,  6.22s/it]\u001b[32m[I 2021-09-05 02:21:31,907]\u001b[0m Trial 37 finished with value: 0.001131530247041177 and parameters: {'feature_fraction': 0.45199999999999996}. Best is trial 37 with value: 0.001131530247041177.\u001b[0m\n",
            "feature_fraction_stage2, val_score: 0.001047:  17%|#6        | 1/6 [00:06<00:31,  6.22s/it]"
          ]
        },
        {
          "output_type": "stream",
          "name": "stdout",
          "text": [
            "[100]\tcv_agg's binary_logloss: 0.00122662 + 0.000760058\n"
          ]
        },
        {
          "output_type": "stream",
          "name": "stderr",
          "text": [
            "feature_fraction_stage2, val_score: 0.001047:  33%|###3      | 2/6 [00:13<00:26,  6.64s/it]\u001b[32m[I 2021-09-05 02:21:38,840]\u001b[0m Trial 38 finished with value: 0.001160765667849037 and parameters: {'feature_fraction': 0.5479999999999999}. Best is trial 37 with value: 0.001131530247041177.\u001b[0m\n",
            "feature_fraction_stage2, val_score: 0.001047:  33%|###3      | 2/6 [00:13<00:26,  6.64s/it]"
          ]
        },
        {
          "output_type": "stream",
          "name": "stdout",
          "text": [
            "[100]\tcv_agg's binary_logloss: 0.00110911 + 0.000675958\n"
          ]
        },
        {
          "output_type": "stream",
          "name": "stderr",
          "text": [
            "feature_fraction_stage2, val_score: 0.001047:  50%|#####     | 3/6 [00:19<00:19,  6.51s/it]\u001b[32m[I 2021-09-05 02:21:45,205]\u001b[0m Trial 39 finished with value: 0.001053094483397674 and parameters: {'feature_fraction': 0.484}. Best is trial 39 with value: 0.001053094483397674.\u001b[0m\n",
            "feature_fraction_stage2, val_score: 0.001047:  50%|#####     | 3/6 [00:19<00:19,  6.51s/it]"
          ]
        },
        {
          "output_type": "stream",
          "name": "stdout",
          "text": [
            "[100]\tcv_agg's binary_logloss: 0.00115128 + 0.000728289\n"
          ]
        },
        {
          "output_type": "stream",
          "name": "stderr",
          "text": [
            "feature_fraction_stage2, val_score: 0.001047:  67%|######6   | 4/6 [00:26<00:13,  6.62s/it]\u001b[32m[I 2021-09-05 02:21:51,991]\u001b[0m Trial 40 finished with value: 0.0010838395046700233 and parameters: {'feature_fraction': 0.516}. Best is trial 39 with value: 0.001053094483397674.\u001b[0m\n",
            "feature_fraction_stage2, val_score: 0.001047:  67%|######6   | 4/6 [00:26<00:13,  6.62s/it]"
          ]
        },
        {
          "output_type": "stream",
          "name": "stdout",
          "text": [
            "[100]\tcv_agg's binary_logloss: 0.00121271 + 0.000728198\n"
          ]
        },
        {
          "output_type": "stream",
          "name": "stderr",
          "text": [
            "feature_fraction_stage2, val_score: 0.001047:  83%|########3 | 5/6 [00:33<00:06,  6.80s/it]\u001b[32m[I 2021-09-05 02:21:59,120]\u001b[0m Trial 41 finished with value: 0.0011480060028937987 and parameters: {'feature_fraction': 0.58}. Best is trial 39 with value: 0.001053094483397674.\u001b[0m\n",
            "feature_fraction_stage2, val_score: 0.001047:  83%|########3 | 5/6 [00:33<00:06,  6.80s/it]"
          ]
        },
        {
          "output_type": "stream",
          "name": "stdout",
          "text": [
            "[100]\tcv_agg's binary_logloss: 0.00111769 + 0.000791942\n"
          ]
        },
        {
          "output_type": "stream",
          "name": "stderr",
          "text": [
            "feature_fraction_stage2, val_score: 0.001047: 100%|##########| 6/6 [00:39<00:00,  6.54s/it]\u001b[32m[I 2021-09-05 02:22:05,133]\u001b[0m Trial 42 finished with value: 0.001073559978669776 and parameters: {'feature_fraction': 0.42}. Best is trial 39 with value: 0.001053094483397674.\u001b[0m\n",
            "feature_fraction_stage2, val_score: 0.001047: 100%|##########| 6/6 [00:39<00:00,  6.58s/it]\n",
            "regularization_factors, val_score: 0.001047:   0%|          | 0/20 [00:00<?, ?it/s]"
          ]
        },
        {
          "output_type": "stream",
          "name": "stdout",
          "text": [
            "[100]\tcv_agg's binary_logloss: 0.0012456 + 0.000710717\n"
          ]
        },
        {
          "output_type": "stream",
          "name": "stderr",
          "text": [
            "regularization_factors, val_score: 0.001047:   5%|5         | 1/20 [00:04<01:28,  4.65s/it]\u001b[32m[I 2021-09-05 02:22:09,794]\u001b[0m Trial 43 finished with value: 0.0011851086755463626 and parameters: {'lambda_l1': 9.060221282864748e-08, 'lambda_l2': 0.007956285789115038}. Best is trial 43 with value: 0.0011851086755463626.\u001b[0m\n",
            "regularization_factors, val_score: 0.001047:   5%|5         | 1/20 [00:04<01:28,  4.65s/it]"
          ]
        },
        {
          "output_type": "stream",
          "name": "stdout",
          "text": [
            "[100]\tcv_agg's binary_logloss: 0.00138536 + 0.000598409\n",
            "[200]\tcv_agg's binary_logloss: 0.00145663 + 0.00076582\n"
          ]
        },
        {
          "output_type": "stream",
          "name": "stderr",
          "text": [
            "regularization_factors, val_score: 0.001047:  10%|#         | 2/20 [00:09<01:24,  4.67s/it]\u001b[32m[I 2021-09-05 02:22:14,488]\u001b[0m Trial 44 finished with value: 0.0013490546559180982 and parameters: {'lambda_l1': 0.001552125810719218, 'lambda_l2': 0.2372543022741924}. Best is trial 43 with value: 0.0011851086755463626.\u001b[0m\n",
            "regularization_factors, val_score: 0.001047:  10%|#         | 2/20 [00:09<01:24,  4.67s/it]"
          ]
        },
        {
          "output_type": "stream",
          "name": "stdout",
          "text": [
            "[100]\tcv_agg's binary_logloss: 0.00175439 + 0.000528578\n",
            "[200]\tcv_agg's binary_logloss: 0.00149181 + 0.000680562\n",
            "[300]\tcv_agg's binary_logloss: 0.00148234 + 0.000760936\n"
          ]
        },
        {
          "output_type": "stream",
          "name": "stderr",
          "text": [
            "regularization_factors, val_score: 0.001047:  15%|#5        | 3/20 [00:17<01:43,  6.12s/it]\u001b[32m[I 2021-09-05 02:22:22,319]\u001b[0m Trial 45 finished with value: 0.0014731893143911275 and parameters: {'lambda_l1': 5.448666555911726e-07, 'lambda_l2': 2.6294669079127324}. Best is trial 43 with value: 0.0011851086755463626.\u001b[0m\n",
            "regularization_factors, val_score: 0.001047:  15%|#5        | 3/20 [00:17<01:43,  6.12s/it]"
          ]
        },
        {
          "output_type": "stream",
          "name": "stdout",
          "text": [
            "[100]\tcv_agg's binary_logloss: 0.00126803 + 0.000660557\n"
          ]
        },
        {
          "output_type": "stream",
          "name": "stderr",
          "text": [
            "regularization_factors, val_score: 0.001047:  20%|##        | 4/20 [00:21<01:24,  5.29s/it]\u001b[32m[I 2021-09-05 02:22:26,342]\u001b[0m Trial 46 finished with value: 0.001202679074934922 and parameters: {'lambda_l1': 0.01028927043773002, 'lambda_l2': 8.461230399135737e-08}. Best is trial 43 with value: 0.0011851086755463626.\u001b[0m\n",
            "regularization_factors, val_score: 0.001047:  20%|##        | 4/20 [00:21<01:24,  5.29s/it]"
          ]
        },
        {
          "output_type": "stream",
          "name": "stdout",
          "text": [
            "[100]\tcv_agg's binary_logloss: 0.00230736 + 0.000477128\n",
            "[200]\tcv_agg's binary_logloss: 0.00221091 + 0.000488332\n",
            "[300]\tcv_agg's binary_logloss: 0.00221091 + 0.000488328\n",
            "[400]\tcv_agg's binary_logloss: 0.00221091 + 0.000488328\n",
            "[500]\tcv_agg's binary_logloss: 0.00221091 + 0.000488328\n"
          ]
        },
        {
          "output_type": "stream",
          "name": "stderr",
          "text": [
            "regularization_factors, val_score: 0.001047:  25%|##5       | 5/20 [00:26<01:21,  5.43s/it]\u001b[32m[I 2021-09-05 02:22:32,017]\u001b[0m Trial 47 finished with value: 0.0022109112944685956 and parameters: {'lambda_l1': 2.9779266971912897, 'lambda_l2': 0.00011238107961305797}. Best is trial 43 with value: 0.0011851086755463626.\u001b[0m\n",
            "regularization_factors, val_score: 0.001047:  25%|##5       | 5/20 [00:26<01:21,  5.43s/it]"
          ]
        },
        {
          "output_type": "stream",
          "name": "stdout",
          "text": [
            "[600]\tcv_agg's binary_logloss: 0.00221091 + 0.000488328\n",
            "[100]\tcv_agg's binary_logloss: 0.00109961 + 0.000749484\n"
          ]
        },
        {
          "output_type": "stream",
          "name": "stderr",
          "text": [
            "regularization_factors, val_score: 0.001044:  30%|###       | 6/20 [00:32<01:15,  5.41s/it]\u001b[32m[I 2021-09-05 02:22:37,389]\u001b[0m Trial 48 finished with value: 0.001044388858455352 and parameters: {'lambda_l1': 6.002036746353647e-05, 'lambda_l2': 5.365182683519805e-06}. Best is trial 48 with value: 0.001044388858455352.\u001b[0m\n",
            "regularization_factors, val_score: 0.001044:  30%|###       | 6/20 [00:32<01:15,  5.41s/it]"
          ]
        },
        {
          "output_type": "stream",
          "name": "stdout",
          "text": [
            "[100]\tcv_agg's binary_logloss: 0.00108781 + 0.000761148\n"
          ]
        },
        {
          "output_type": "stream",
          "name": "stderr",
          "text": [
            "regularization_factors, val_score: 0.001035:  35%|###5      | 7/20 [00:37<01:10,  5.42s/it]\u001b[32m[I 2021-09-05 02:22:42,829]\u001b[0m Trial 49 finished with value: 0.0010349821807621668 and parameters: {'lambda_l1': 7.582000835533019e-07, 'lambda_l2': 9.668268977403068e-05}. Best is trial 49 with value: 0.0010349821807621668.\u001b[0m\n",
            "regularization_factors, val_score: 0.001035:  35%|###5      | 7/20 [00:37<01:10,  5.42s/it]"
          ]
        },
        {
          "output_type": "stream",
          "name": "stdout",
          "text": [
            "[100]\tcv_agg's binary_logloss: 0.00154128 + 0.000626364\n",
            "[200]\tcv_agg's binary_logloss: 0.00144309 + 0.000762098\n"
          ]
        },
        {
          "output_type": "stream",
          "name": "stderr",
          "text": [
            "regularization_factors, val_score: 0.001035:  40%|####      | 8/20 [00:43<01:04,  5.40s/it]\u001b[32m[I 2021-09-05 02:22:48,190]\u001b[0m Trial 50 finished with value: 0.0014372476536644422 and parameters: {'lambda_l1': 2.2407503279565206e-05, 'lambda_l2': 1.0836803976435108}. Best is trial 49 with value: 0.0010349821807621668.\u001b[0m\n",
            "regularization_factors, val_score: 0.001035:  40%|####      | 8/20 [00:43<01:04,  5.40s/it]"
          ]
        },
        {
          "output_type": "stream",
          "name": "stdout",
          "text": [
            "[100]\tcv_agg's binary_logloss: 0.0011086 + 0.000747301\n"
          ]
        },
        {
          "output_type": "stream",
          "name": "stderr",
          "text": [
            "regularization_factors, val_score: 0.001035:  45%|####5     | 9/20 [00:48<00:59,  5.40s/it]\u001b[32m[I 2021-09-05 02:22:53,586]\u001b[0m Trial 51 finished with value: 0.0010445445828850034 and parameters: {'lambda_l1': 5.883516570098521e-08, 'lambda_l2': 0.00014938948188499611}. Best is trial 49 with value: 0.0010349821807621668.\u001b[0m\n",
            "regularization_factors, val_score: 0.001035:  45%|####5     | 9/20 [00:48<00:59,  5.40s/it]"
          ]
        },
        {
          "output_type": "stream",
          "name": "stdout",
          "text": [
            "[100]\tcv_agg's binary_logloss: 0.0012808 + 0.000647281\n"
          ]
        },
        {
          "output_type": "stream",
          "name": "stderr",
          "text": [
            "regularization_factors, val_score: 0.001035:  50%|#####     | 10/20 [00:52<00:49,  4.92s/it]\u001b[32m[I 2021-09-05 02:22:57,433]\u001b[0m Trial 52 finished with value: 0.0012283835293673642 and parameters: {'lambda_l1': 0.017531074679460308, 'lambda_l2': 4.4034188104965104e-07}. Best is trial 49 with value: 0.0010349821807621668.\u001b[0m\n",
            "regularization_factors, val_score: 0.001035:  50%|#####     | 10/20 [00:52<00:49,  4.92s/it]"
          ]
        },
        {
          "output_type": "stream",
          "name": "stdout",
          "text": [
            "[100]\tcv_agg's binary_logloss: 0.00122016 + 0.000728799\n"
          ]
        },
        {
          "output_type": "stream",
          "name": "stderr",
          "text": [
            "regularization_factors, val_score: 0.001035:  55%|#####5    | 11/20 [00:56<00:43,  4.84s/it]\u001b[32m[I 2021-09-05 02:23:02,081]\u001b[0m Trial 53 finished with value: 0.001154685395629269 and parameters: {'lambda_l1': 2.7430895169784494e-06, 'lambda_l2': 0.00714826046597094}. Best is trial 49 with value: 0.0010349821807621668.\u001b[0m\n",
            "regularization_factors, val_score: 0.001035:  55%|#####5    | 11/20 [00:56<00:43,  4.84s/it]"
          ]
        },
        {
          "output_type": "stream",
          "name": "stdout",
          "text": [
            "[100]\tcv_agg's binary_logloss: 0.00108226 + 0.000731865\n"
          ]
        },
        {
          "output_type": "stream",
          "name": "stderr",
          "text": [
            "regularization_factors, val_score: 0.001023:  60%|######    | 12/20 [01:02<00:39,  4.98s/it]\u001b[32m[I 2021-09-05 02:23:07,389]\u001b[0m Trial 54 finished with value: 0.001022510949262517 and parameters: {'lambda_l1': 0.00010270105284886144, 'lambda_l2': 2.659170653268176e-06}. Best is trial 54 with value: 0.001022510949262517.\u001b[0m\n",
            "regularization_factors, val_score: 0.001023:  60%|######    | 12/20 [01:02<00:39,  4.98s/it]"
          ]
        },
        {
          "output_type": "stream",
          "name": "stdout",
          "text": [
            "[100]\tcv_agg's binary_logloss: 0.00108685 + 0.00073035\n"
          ]
        },
        {
          "output_type": "stream",
          "name": "stderr",
          "text": [
            "regularization_factors, val_score: 0.001023:  65%|######5   | 13/20 [01:07<00:36,  5.19s/it]\u001b[32m[I 2021-09-05 02:23:13,054]\u001b[0m Trial 55 finished with value: 0.0010236088688812001 and parameters: {'lambda_l1': 4.914869399687295e-06, 'lambda_l2': 5.0713767164739675e-06}. Best is trial 54 with value: 0.001022510949262517.\u001b[0m\n",
            "regularization_factors, val_score: 0.001023:  65%|######5   | 13/20 [01:07<00:36,  5.19s/it]"
          ]
        },
        {
          "output_type": "stream",
          "name": "stdout",
          "text": [
            "[100]\tcv_agg's binary_logloss: 0.0011175 + 0.000706019\n"
          ]
        },
        {
          "output_type": "stream",
          "name": "stderr",
          "text": [
            "regularization_factors, val_score: 0.001023:  70%|#######   | 14/20 [01:13<00:30,  5.16s/it]\u001b[32m[I 2021-09-05 02:23:18,158]\u001b[0m Trial 56 finished with value: 0.0010557915341090338 and parameters: {'lambda_l1': 0.0002915150578822034, 'lambda_l2': 2.41222807560635e-06}. Best is trial 54 with value: 0.001022510949262517.\u001b[0m\n",
            "regularization_factors, val_score: 0.001023:  70%|#######   | 14/20 [01:13<00:30,  5.16s/it]"
          ]
        },
        {
          "output_type": "stream",
          "name": "stdout",
          "text": [
            "[100]\tcv_agg's binary_logloss: 0.00110056 + 0.000727463\n"
          ]
        },
        {
          "output_type": "stream",
          "name": "stderr",
          "text": [
            "regularization_factors, val_score: 0.001023:  75%|#######5  | 15/20 [01:18<00:26,  5.30s/it]\u001b[32m[I 2021-09-05 02:23:23,763]\u001b[0m Trial 57 finished with value: 0.0010446955510790199 and parameters: {'lambda_l1': 1.1718897370455718e-05, 'lambda_l2': 1.1872730651929428e-08}. Best is trial 54 with value: 0.001022510949262517.\u001b[0m\n",
            "regularization_factors, val_score: 0.001023:  75%|#######5  | 15/20 [01:18<00:26,  5.30s/it]"
          ]
        },
        {
          "output_type": "stream",
          "name": "stdout",
          "text": [
            "[100]\tcv_agg's binary_logloss: 0.00153131 + 0.000660239\n",
            "[200]\tcv_agg's binary_logloss: 0.00148396 + 0.00068083\n"
          ]
        },
        {
          "output_type": "stream",
          "name": "stderr",
          "text": [
            "regularization_factors, val_score: 0.001023:  80%|########  | 16/20 [01:22<00:18,  4.75s/it]\u001b[32m[I 2021-09-05 02:23:27,245]\u001b[0m Trial 58 finished with value: 0.001483917268404738 and parameters: {'lambda_l1': 0.38175078375319144, 'lambda_l2': 5.625883063670789e-06}. Best is trial 54 with value: 0.001022510949262517.\u001b[0m\n",
            "regularization_factors, val_score: 0.001023:  80%|########  | 16/20 [01:22<00:18,  4.75s/it]"
          ]
        },
        {
          "output_type": "stream",
          "name": "stdout",
          "text": [
            "[100]\tcv_agg's binary_logloss: 0.00115363 + 0.000724189\n"
          ]
        },
        {
          "output_type": "stream",
          "name": "stderr",
          "text": [
            "regularization_factors, val_score: 0.001023:  85%|########5 | 17/20 [01:26<00:14,  4.76s/it]\u001b[32m[I 2021-09-05 02:23:32,030]\u001b[0m Trial 59 finished with value: 0.0010743868915706026 and parameters: {'lambda_l1': 0.0005302571967044807, 'lambda_l2': 0.0016642711924403151}. Best is trial 54 with value: 0.001022510949262517.\u001b[0m\n",
            "regularization_factors, val_score: 0.001023:  85%|########5 | 17/20 [01:26<00:14,  4.76s/it]"
          ]
        },
        {
          "output_type": "stream",
          "name": "stdout",
          "text": [
            "[100]\tcv_agg's binary_logloss: 0.00109121 + 0.000742601\n"
          ]
        },
        {
          "output_type": "stream",
          "name": "stderr",
          "text": [
            "regularization_factors, val_score: 0.001023:  90%|######### | 18/20 [01:32<00:10,  5.10s/it]\u001b[32m[I 2021-09-05 02:23:37,935]\u001b[0m Trial 60 finished with value: 0.0010289190128687836 and parameters: {'lambda_l1': 1.826642219059418e-08, 'lambda_l2': 2.9599087128767386e-07}. Best is trial 54 with value: 0.001022510949262517.\u001b[0m\n",
            "regularization_factors, val_score: 0.001023:  90%|######### | 18/20 [01:32<00:10,  5.10s/it]"
          ]
        },
        {
          "output_type": "stream",
          "name": "stdout",
          "text": [
            "[100]\tcv_agg's binary_logloss: 0.00124236 + 0.00068304\n"
          ]
        },
        {
          "output_type": "stream",
          "name": "stderr",
          "text": [
            "regularization_factors, val_score: 0.001023:  95%|#########5| 19/20 [01:36<00:04,  4.82s/it]\u001b[32m[I 2021-09-05 02:23:42,086]\u001b[0m Trial 61 finished with value: 0.0011795353285895978 and parameters: {'lambda_l1': 0.008017835103478437, 'lambda_l2': 1.738734318512633e-05}. Best is trial 54 with value: 0.001022510949262517.\u001b[0m\n",
            "regularization_factors, val_score: 0.001023:  95%|#########5| 19/20 [01:36<00:04,  4.82s/it]"
          ]
        },
        {
          "output_type": "stream",
          "name": "stdout",
          "text": [
            "[100]\tcv_agg's binary_logloss: 0.00112856 + 0.000731215\n"
          ]
        },
        {
          "output_type": "stream",
          "name": "stderr",
          "text": [
            "regularization_factors, val_score: 0.001023: 100%|##########| 20/20 [01:42<00:00,  4.96s/it]\u001b[32m[I 2021-09-05 02:23:47,389]\u001b[0m Trial 62 finished with value: 0.001064641827673424 and parameters: {'lambda_l1': 9.061454322308634e-05, 'lambda_l2': 1.4071472050888291e-08}. Best is trial 54 with value: 0.001022510949262517.\u001b[0m\n",
            "regularization_factors, val_score: 0.001023: 100%|##########| 20/20 [01:42<00:00,  5.11s/it]\n",
            "min_data_in_leaf, val_score: 0.001023:   0%|          | 0/5 [00:00<?, ?it/s]"
          ]
        },
        {
          "output_type": "stream",
          "name": "stdout",
          "text": [
            "[100]\tcv_agg's binary_logloss: 0.00110313 + 0.00074599\n"
          ]
        },
        {
          "output_type": "stream",
          "name": "stderr",
          "text": [
            "min_data_in_leaf, val_score: 0.001023:  20%|##        | 1/5 [00:05<00:21,  5.40s/it]\u001b[32m[I 2021-09-05 02:23:52,812]\u001b[0m Trial 63 finished with value: 0.0010542370425822023 and parameters: {'min_child_samples': 10}. Best is trial 63 with value: 0.0010542370425822023.\u001b[0m\n",
            "min_data_in_leaf, val_score: 0.001023:  20%|##        | 1/5 [00:05<00:21,  5.40s/it]"
          ]
        },
        {
          "output_type": "stream",
          "name": "stdout",
          "text": [
            "[100]\tcv_agg's binary_logloss: 0.00122185 + 0.000801881\n"
          ]
        },
        {
          "output_type": "stream",
          "name": "stderr",
          "text": [
            "min_data_in_leaf, val_score: 0.001023:  40%|####      | 2/5 [00:10<00:15,  5.30s/it]\u001b[32m[I 2021-09-05 02:23:58,028]\u001b[0m Trial 64 finished with value: 0.0011612392405138416 and parameters: {'min_child_samples': 50}. Best is trial 63 with value: 0.0010542370425822023.\u001b[0m\n",
            "min_data_in_leaf, val_score: 0.001023:  40%|####      | 2/5 [00:10<00:15,  5.30s/it]"
          ]
        },
        {
          "output_type": "stream",
          "name": "stdout",
          "text": [
            "[100]\tcv_agg's binary_logloss: 0.00111833 + 0.000765589\n"
          ]
        },
        {
          "output_type": "stream",
          "name": "stderr",
          "text": [
            "min_data_in_leaf, val_score: 0.001023:  60%|######    | 3/5 [00:16<00:10,  5.36s/it]\u001b[32m[I 2021-09-05 02:24:03,454]\u001b[0m Trial 65 finished with value: 0.0010641302793412974 and parameters: {'min_child_samples': 5}. Best is trial 63 with value: 0.0010542370425822023.\u001b[0m\n",
            "min_data_in_leaf, val_score: 0.001023:  60%|######    | 3/5 [00:16<00:10,  5.36s/it]"
          ]
        },
        {
          "output_type": "stream",
          "name": "stdout",
          "text": [
            "[100]\tcv_agg's binary_logloss: 0.00115634 + 0.000692133\n"
          ]
        },
        {
          "output_type": "stream",
          "name": "stderr",
          "text": [
            "min_data_in_leaf, val_score: 0.001023:  80%|########  | 4/5 [00:21<00:05,  5.34s/it]\u001b[32m[I 2021-09-05 02:24:08,769]\u001b[0m Trial 66 finished with value: 0.0011135047568480074 and parameters: {'min_child_samples': 25}. Best is trial 63 with value: 0.0010542370425822023.\u001b[0m\n",
            "min_data_in_leaf, val_score: 0.001023:  80%|########  | 4/5 [00:21<00:05,  5.34s/it]"
          ]
        },
        {
          "output_type": "stream",
          "name": "stdout",
          "text": [
            "[100]\tcv_agg's binary_logloss: 0.00130964 + 0.000784104\n"
          ]
        },
        {
          "output_type": "stream",
          "name": "stderr",
          "text": [
            "min_data_in_leaf, val_score: 0.001023: 100%|##########| 5/5 [00:26<00:00,  5.31s/it]\u001b[32m[I 2021-09-05 02:24:14,035]\u001b[0m Trial 67 finished with value: 0.0012790636491032648 and parameters: {'min_child_samples': 100}. Best is trial 63 with value: 0.0010542370425822023.\u001b[0m\n",
            "min_data_in_leaf, val_score: 0.001023: 100%|##########| 5/5 [00:26<00:00,  5.33s/it]"
          ]
        },
        {
          "output_type": "stream",
          "name": "stdout",
          "text": [
            "[200]\tcv_agg's binary_logloss: 0.00154479 + 0.00142915\n"
          ]
        },
        {
          "output_type": "stream",
          "name": "stderr",
          "text": [
            "\n"
          ]
        }
      ]
    },
    {
      "cell_type": "code",
      "metadata": {
        "id": "j4sok_LLrTkc",
        "colab": {
          "base_uri": "https://localhost:8080/"
        },
        "outputId": "89021994-9dd8-4c3d-e049-659cd0d25688"
      },
      "source": [
        "print(\"Best score:\", 1 - tuner.best_score)\n",
        "best_params = tuner.best_params\n",
        "print(\"Best params:\", best_params)\n",
        "print(\"  Params: \")\n",
        "for key, value in best_params.items():\n",
        "    print(\"    {}: {}\".format(key, value))"
      ],
      "execution_count": 27,
      "outputs": [
        {
          "output_type": "stream",
          "name": "stdout",
          "text": [
            "Best score: 0.9989774890507375\n",
            "Best params: {'objective': 'binary', 'metric': 'binary_logloss', 'verbosity': -1, 'boosting_type': 'gbdt', 'feature_pre_filter': False, 'lambda_l1': 0.00010270105284886144, 'lambda_l2': 2.659170653268176e-06, 'num_leaves': 55, 'feature_fraction': 0.5, 'bagging_fraction': 1.0, 'bagging_freq': 0, 'min_child_samples': 20}\n",
            "  Params: \n",
            "    objective: binary\n",
            "    metric: binary_logloss\n",
            "    verbosity: -1\n",
            "    boosting_type: gbdt\n",
            "    feature_pre_filter: False\n",
            "    lambda_l1: 0.00010270105284886144\n",
            "    lambda_l2: 2.659170653268176e-06\n",
            "    num_leaves: 55\n",
            "    feature_fraction: 0.5\n",
            "    bagging_fraction: 1.0\n",
            "    bagging_freq: 0\n",
            "    min_child_samples: 20\n"
          ]
        }
      ]
    },
    {
      "cell_type": "code",
      "metadata": {
        "id": "Fl0rDX8gIZMt",
        "colab": {
          "base_uri": "https://localhost:8080/"
        },
        "outputId": "b584942c-46f2-40d8-f3a0-cd4c18d0ea6e"
      },
      "source": [
        "import lightgbm as lgb\n",
        "from sklearn.model_selection import train_test_split\n",
        "from sklearn.metrics import accuracy_score, confusion_matrix\n",
        "from sklearn.model_selection import train_test_split\n",
        "\n",
        "# 訓練データとテストデータを設定\n",
        "train_data = lgb.Dataset(X_train, label=y_train)\n",
        "test_data = lgb.Dataset(X_test, label=y_test)\n",
        "\n",
        "# ハイパーパラメータ探索で特定した値を設定(このパラメータは参考値)\n",
        "params = {\n",
        "    'objective': 'binary',\n",
        "    'metric': 'binary_logloss',\n",
        "    'verbosity': -1,\n",
        "    'boosting_type': 'gbdt',\n",
        "    'lambda_l1': best_params['lambda_l1'],\n",
        "    'lambda_l2': best_params['lambda_l2'],\n",
        "    'num_leaves': best_params['num_leaves'],\n",
        "    'feature_fraction': best_params['feature_fraction'],\n",
        "    'bagging_fraction': best_params['bagging_fraction'],\n",
        "    'bagging_freq': best_params['bagging_freq'],\n",
        "    'min_child_samples': best_params['min_child_samples']\n",
        "}\n",
        "\n",
        "# 訓練の実施\n",
        "gbm = lgb.train(\n",
        "    params,\n",
        "    train_data,\n",
        "    num_boost_round=100,\n",
        "    verbose_eval=0,\n",
        ")\n",
        "\n",
        "# テスト用データを使って予測する\n",
        "preds = gbm.predict(X_test)\n",
        "# 戻り値は確率になっているので四捨五入する\n",
        "pred_labels_lgb = np.rint(preds)\n",
        "# 予測精度と混同行列の出力\n",
        "print(\"Accurary: {:.5f} %\".format(100 * accuracy_score(y_test, pred_labels_lgb)))\n",
        "print(confusion_matrix(y_test, pred_labels_lgb))"
      ],
      "execution_count": 28,
      "outputs": [
        {
          "output_type": "stream",
          "name": "stdout",
          "text": [
            "Accurary: 99.96684 %\n",
            "[[3847    0]\n",
            " [   2 2183]]\n"
          ]
        }
      ]
    },
    {
      "cell_type": "markdown",
      "metadata": {
        "id": "3twSB7ys66-O"
      },
      "source": [
        "# 以下が７章の課題のコード"
      ]
    },
    {
      "cell_type": "code",
      "metadata": {
        "colab": {
          "base_uri": "https://localhost:8080/"
        },
        "id": "2MuJyR8WwrZN",
        "outputId": "0e613776-ef54-4665-c2a9-04be29008691"
      },
      "source": [
        "import xgboost as xgb\n",
        "from sklearn.model_selection import cross_val_score\n",
        "\n",
        "def objective(trial):\n",
        "    # 探索対象のハイパーパラメータを設定\n",
        "    eta =  trial.suggest_loguniform('eta', 1e-8, 1.0)\n",
        "    gamma = trial.suggest_loguniform('gamma', 1e-8, 1.0)\n",
        "    max_depth = trial.suggest_int('max_depth', 1, 20)\n",
        "    min_child_weight = trial.suggest_loguniform('min_child_weight', 1e-8, 1.0)\n",
        "    max_delta_step = trial.suggest_loguniform('max_delta_step', 1e-8, 1.0)\n",
        "    subsample = trial.suggest_uniform('subsample', 0.0, 1.0)\n",
        "    reg_lambda = trial.suggest_uniform('reg_lambda', 0.0, 1000.0)\n",
        "    reg_alpha = trial.suggest_uniform('reg_alpha', 0.0, 1000.0)\n",
        "\n",
        "\n",
        "    regr = xgb.XGBRegressor(\n",
        "        eta = eta,\n",
        "        gamma = gamma,\n",
        "        max_depth = max_depth,\n",
        "        min_child_weight = min_child_weight,\n",
        "        max_delta_step = max_delta_step,\n",
        "        subsample = subsample,\n",
        "        reg_lambda = reg_lambda,\n",
        "        reg_alpha = reg_alpha\n",
        "        )\n",
        "\n",
        "    regr.fit(X_train, y_train)\n",
        "\n",
        "    pred = regr.predict(X_test)\n",
        "    pred_labels = np.rint(preds)\n",
        "\n",
        "    accuracy = accuracy_score(y_test, pred_labels)\n",
        "    return (1-accuracy)\n",
        "\n",
        "study = optuna.create_study()\n",
        "study.optimize(objective, n_trials=30)\n",
        "# ベストのパラメーターの出力\n",
        "print('Best params:', study.best_params)"
      ],
      "execution_count": 29,
      "outputs": [
        {
          "output_type": "stream",
          "name": "stderr",
          "text": [
            "\u001b[32m[I 2021-09-05 02:24:15,015]\u001b[0m A new study created in memory with name: no-name-271911a6-5b48-42e1-8743-5493ab670798\u001b[0m\n"
          ]
        },
        {
          "output_type": "stream",
          "name": "stdout",
          "text": [
            "[02:24:15] WARNING: /workspace/src/objective/regression_obj.cu:152: reg:linear is now deprecated in favor of reg:squarederror.\n"
          ]
        },
        {
          "output_type": "stream",
          "name": "stderr",
          "text": [
            "\u001b[32m[I 2021-09-05 02:24:24,044]\u001b[0m Trial 0 finished with value: 0.0003315649867373649 and parameters: {'eta': 0.6254601994626195, 'gamma': 0.17852373514296782, 'max_depth': 18, 'min_child_weight': 1.3382860381713454e-08, 'max_delta_step': 9.834100248079152e-07, 'subsample': 0.7517767996063593, 'reg_lambda': 33.277329926182155, 'reg_alpha': 995.745775125432}. Best is trial 0 with value: 0.0003315649867373649.\u001b[0m\n"
          ]
        },
        {
          "output_type": "stream",
          "name": "stdout",
          "text": [
            "[02:24:24] WARNING: /workspace/src/objective/regression_obj.cu:152: reg:linear is now deprecated in favor of reg:squarederror.\n"
          ]
        },
        {
          "output_type": "stream",
          "name": "stderr",
          "text": [
            "\u001b[32m[I 2021-09-05 02:24:29,611]\u001b[0m Trial 1 finished with value: 0.0003315649867373649 and parameters: {'eta': 0.0002869835303074136, 'gamma': 0.23665910447982924, 'max_depth': 13, 'min_child_weight': 4.9337257660030465e-08, 'max_delta_step': 0.0006004416303772196, 'subsample': 0.3243954627316239, 'reg_lambda': 925.4166334904593, 'reg_alpha': 472.44626836565163}. Best is trial 0 with value: 0.0003315649867373649.\u001b[0m\n"
          ]
        },
        {
          "output_type": "stream",
          "name": "stdout",
          "text": [
            "[02:24:29] WARNING: /workspace/src/objective/regression_obj.cu:152: reg:linear is now deprecated in favor of reg:squarederror.\n"
          ]
        },
        {
          "output_type": "stream",
          "name": "stderr",
          "text": [
            "\u001b[32m[I 2021-09-05 02:24:31,898]\u001b[0m Trial 2 finished with value: 0.0003315649867373649 and parameters: {'eta': 2.0117787056404907e-05, 'gamma': 1.4088696078373436e-07, 'max_depth': 3, 'min_child_weight': 0.9186776721815576, 'max_delta_step': 3.1691600925416887e-06, 'subsample': 0.15038834066508655, 'reg_lambda': 119.11648774905348, 'reg_alpha': 327.96045991809507}. Best is trial 0 with value: 0.0003315649867373649.\u001b[0m\n"
          ]
        },
        {
          "output_type": "stream",
          "name": "stdout",
          "text": [
            "[02:24:32] WARNING: /workspace/src/objective/regression_obj.cu:152: reg:linear is now deprecated in favor of reg:squarederror.\n"
          ]
        },
        {
          "output_type": "stream",
          "name": "stderr",
          "text": [
            "\u001b[32m[I 2021-09-05 02:24:37,665]\u001b[0m Trial 3 finished with value: 0.0003315649867373649 and parameters: {'eta': 0.0557736280271786, 'gamma': 2.980812245371195e-07, 'max_depth': 10, 'min_child_weight': 1.4784551728761404e-07, 'max_delta_step': 5.337724378025451e-08, 'subsample': 0.6080034546161297, 'reg_lambda': 972.7305934345187, 'reg_alpha': 731.957941638958}. Best is trial 0 with value: 0.0003315649867373649.\u001b[0m\n"
          ]
        },
        {
          "output_type": "stream",
          "name": "stdout",
          "text": [
            "[02:24:37] WARNING: /workspace/src/objective/regression_obj.cu:152: reg:linear is now deprecated in favor of reg:squarederror.\n"
          ]
        },
        {
          "output_type": "stream",
          "name": "stderr",
          "text": [
            "\u001b[32m[I 2021-09-05 02:24:46,220]\u001b[0m Trial 4 finished with value: 0.0003315649867373649 and parameters: {'eta': 0.6169853670108905, 'gamma': 0.42067732886370063, 'max_depth': 20, 'min_child_weight': 0.07083408738850203, 'max_delta_step': 0.00048030903406283615, 'subsample': 0.6586910740352485, 'reg_lambda': 546.07365632378, 'reg_alpha': 931.6278951835635}. Best is trial 0 with value: 0.0003315649867373649.\u001b[0m\n"
          ]
        },
        {
          "output_type": "stream",
          "name": "stdout",
          "text": [
            "[02:24:46] WARNING: /workspace/src/objective/regression_obj.cu:152: reg:linear is now deprecated in favor of reg:squarederror.\n"
          ]
        },
        {
          "output_type": "stream",
          "name": "stderr",
          "text": [
            "\u001b[32m[I 2021-09-05 02:24:49,844]\u001b[0m Trial 5 finished with value: 0.0003315649867373649 and parameters: {'eta': 1.7367545079965238e-06, 'gamma': 6.096881726931849e-06, 'max_depth': 18, 'min_child_weight': 1.1818607908018775e-08, 'max_delta_step': 7.583692840321158e-08, 'subsample': 0.2895886873073912, 'reg_lambda': 830.5491826528961, 'reg_alpha': 934.3799326386905}. Best is trial 0 with value: 0.0003315649867373649.\u001b[0m\n"
          ]
        },
        {
          "output_type": "stream",
          "name": "stdout",
          "text": [
            "[02:24:49] WARNING: /workspace/src/objective/regression_obj.cu:152: reg:linear is now deprecated in favor of reg:squarederror.\n"
          ]
        },
        {
          "output_type": "stream",
          "name": "stderr",
          "text": [
            "\u001b[32m[I 2021-09-05 02:24:59,070]\u001b[0m Trial 6 finished with value: 0.0003315649867373649 and parameters: {'eta': 1.5116247571484296e-05, 'gamma': 5.7262815194303864e-08, 'max_depth': 16, 'min_child_weight': 1.0822980478037388e-07, 'max_delta_step': 0.021685614328101854, 'subsample': 0.7884323382917234, 'reg_lambda': 684.9754862230978, 'reg_alpha': 809.1832047330396}. Best is trial 0 with value: 0.0003315649867373649.\u001b[0m\n"
          ]
        },
        {
          "output_type": "stream",
          "name": "stdout",
          "text": [
            "[02:24:59] WARNING: /workspace/src/objective/regression_obj.cu:152: reg:linear is now deprecated in favor of reg:squarederror.\n"
          ]
        },
        {
          "output_type": "stream",
          "name": "stderr",
          "text": [
            "\u001b[32m[I 2021-09-05 02:24:59,883]\u001b[0m Trial 7 finished with value: 0.0003315649867373649 and parameters: {'eta': 0.001534901720434476, 'gamma': 0.002202101420489138, 'max_depth': 2, 'min_child_weight': 1.7016941715584855e-07, 'max_delta_step': 0.10960777014395194, 'subsample': 0.004261978441958636, 'reg_lambda': 98.93028929969871, 'reg_alpha': 723.6946422275419}. Best is trial 0 with value: 0.0003315649867373649.\u001b[0m\n"
          ]
        },
        {
          "output_type": "stream",
          "name": "stdout",
          "text": [
            "[02:25:00] WARNING: /workspace/src/objective/regression_obj.cu:152: reg:linear is now deprecated in favor of reg:squarederror.\n"
          ]
        },
        {
          "output_type": "stream",
          "name": "stderr",
          "text": [
            "\u001b[32m[I 2021-09-05 02:25:07,592]\u001b[0m Trial 8 finished with value: 0.0003315649867373649 and parameters: {'eta': 3.1832063136689695e-06, 'gamma': 8.325588236169554e-05, 'max_depth': 10, 'min_child_weight': 1.756384832893889e-08, 'max_delta_step': 1.2463886015582876e-07, 'subsample': 0.7132669233978217, 'reg_lambda': 141.9419556493755, 'reg_alpha': 32.63146023241858}. Best is trial 0 with value: 0.0003315649867373649.\u001b[0m\n"
          ]
        },
        {
          "output_type": "stream",
          "name": "stdout",
          "text": [
            "[02:25:07] WARNING: /workspace/src/objective/regression_obj.cu:152: reg:linear is now deprecated in favor of reg:squarederror.\n"
          ]
        },
        {
          "output_type": "stream",
          "name": "stderr",
          "text": [
            "\u001b[32m[I 2021-09-05 02:25:16,230]\u001b[0m Trial 9 finished with value: 0.0003315649867373649 and parameters: {'eta': 0.004439162305292071, 'gamma': 0.001257655989666605, 'max_depth': 12, 'min_child_weight': 1.2824904151775574e-08, 'max_delta_step': 1.2599600810593324e-05, 'subsample': 0.6420674690058396, 'reg_lambda': 692.5989940393958, 'reg_alpha': 138.52427766922682}. Best is trial 0 with value: 0.0003315649867373649.\u001b[0m\n"
          ]
        },
        {
          "output_type": "stream",
          "name": "stdout",
          "text": [
            "[02:25:16] WARNING: /workspace/src/objective/regression_obj.cu:152: reg:linear is now deprecated in favor of reg:squarederror.\n"
          ]
        },
        {
          "output_type": "stream",
          "name": "stderr",
          "text": [
            "\u001b[32m[I 2021-09-05 02:25:25,196]\u001b[0m Trial 10 finished with value: 0.0003315649867373649 and parameters: {'eta': 1.627233573575142e-08, 'gamma': 0.017019854473660008, 'max_depth': 6, 'min_child_weight': 5.827342781000754e-05, 'max_delta_step': 2.5783603426980107e-06, 'subsample': 0.9783694722509266, 'reg_lambda': 324.94797580973386, 'reg_alpha': 545.0324181579175}. Best is trial 0 with value: 0.0003315649867373649.\u001b[0m\n"
          ]
        },
        {
          "output_type": "stream",
          "name": "stdout",
          "text": [
            "[02:25:25] WARNING: /workspace/src/objective/regression_obj.cu:152: reg:linear is now deprecated in favor of reg:squarederror.\n"
          ]
        },
        {
          "output_type": "stream",
          "name": "stderr",
          "text": [
            "\u001b[32m[I 2021-09-05 02:25:31,666]\u001b[0m Trial 11 finished with value: 0.0003315649867373649 and parameters: {'eta': 0.0007532632396209216, 'gamma': 0.9572254302007261, 'max_depth': 14, 'min_child_weight': 7.549757979487367e-06, 'max_delta_step': 0.0008422056147723048, 'subsample': 0.3992993302159183, 'reg_lambda': 362.11240812044025, 'reg_alpha': 432.7996341346941}. Best is trial 0 with value: 0.0003315649867373649.\u001b[0m\n"
          ]
        },
        {
          "output_type": "stream",
          "name": "stdout",
          "text": [
            "[02:25:31] WARNING: /workspace/src/objective/regression_obj.cu:152: reg:linear is now deprecated in favor of reg:squarederror.\n"
          ]
        },
        {
          "output_type": "stream",
          "name": "stderr",
          "text": [
            "\u001b[32m[I 2021-09-05 02:25:38,563]\u001b[0m Trial 12 finished with value: 0.0003315649867373649 and parameters: {'eta': 0.660124810324766, 'gamma': 0.06418469520713076, 'max_depth': 16, 'min_child_weight': 2.1437282685977405e-06, 'max_delta_step': 0.004766676123855449, 'subsample': 0.4489442049778087, 'reg_lambda': 989.3119412298543, 'reg_alpha': 577.5658574902659}. Best is trial 0 with value: 0.0003315649867373649.\u001b[0m\n"
          ]
        },
        {
          "output_type": "stream",
          "name": "stdout",
          "text": [
            "[02:25:38] WARNING: /workspace/src/objective/regression_obj.cu:152: reg:linear is now deprecated in favor of reg:squarederror.\n"
          ]
        },
        {
          "output_type": "stream",
          "name": "stderr",
          "text": [
            "\u001b[32m[I 2021-09-05 02:25:48,774]\u001b[0m Trial 13 finished with value: 0.0003315649867373649 and parameters: {'eta': 3.3149852511139506e-08, 'gamma': 0.022774461960314747, 'max_depth': 20, 'min_child_weight': 0.0075869413370127205, 'max_delta_step': 5.880132042951886e-05, 'subsample': 0.9010242654656025, 'reg_lambda': 349.00066530149263, 'reg_alpha': 319.9867487358006}. Best is trial 0 with value: 0.0003315649867373649.\u001b[0m\n"
          ]
        },
        {
          "output_type": "stream",
          "name": "stdout",
          "text": [
            "[02:25:48] WARNING: /workspace/src/objective/regression_obj.cu:152: reg:linear is now deprecated in favor of reg:squarederror.\n"
          ]
        },
        {
          "output_type": "stream",
          "name": "stderr",
          "text": [
            "\u001b[32m[I 2021-09-05 02:25:51,907]\u001b[0m Trial 14 finished with value: 0.0003315649867373649 and parameters: {'eta': 0.008617275339396466, 'gamma': 0.0004976481915684954, 'max_depth': 13, 'min_child_weight': 0.0005403012480805104, 'max_delta_step': 0.9651033658615316, 'subsample': 0.26655099830075496, 'reg_lambda': 610.1199764528047, 'reg_alpha': 621.4466697539584}. Best is trial 0 with value: 0.0003315649867373649.\u001b[0m\n"
          ]
        },
        {
          "output_type": "stream",
          "name": "stdout",
          "text": [
            "[02:25:52] WARNING: /workspace/src/objective/regression_obj.cu:152: reg:linear is now deprecated in favor of reg:squarederror.\n"
          ]
        },
        {
          "output_type": "stream",
          "name": "stderr",
          "text": [
            "\u001b[32m[I 2021-09-05 02:25:59,666]\u001b[0m Trial 15 finished with value: 0.0003315649867373649 and parameters: {'eta': 0.0001255138447772902, 'gamma': 0.1053630430358211, 'max_depth': 8, 'min_child_weight': 2.886501073425556e-06, 'max_delta_step': 1.3857363164386847e-06, 'subsample': 0.55272108333298, 'reg_lambda': 817.0300105631037, 'reg_alpha': 362.33847370709987}. Best is trial 0 with value: 0.0003315649867373649.\u001b[0m\n"
          ]
        },
        {
          "output_type": "stream",
          "name": "stdout",
          "text": [
            "[02:25:59] WARNING: /workspace/src/objective/regression_obj.cu:152: reg:linear is now deprecated in favor of reg:squarederror.\n"
          ]
        },
        {
          "output_type": "stream",
          "name": "stderr",
          "text": [
            "\u001b[32m[I 2021-09-05 02:26:06,086]\u001b[0m Trial 16 finished with value: 0.0003315649867373649 and parameters: {'eta': 0.05833539809365679, 'gamma': 1.887561034470614e-05, 'max_depth': 16, 'min_child_weight': 4.951467201275689e-07, 'max_delta_step': 1.024388720390248e-08, 'subsample': 0.8120664155000572, 'reg_lambda': 2.383958619441433, 'reg_alpha': 235.68091839085864}. Best is trial 0 with value: 0.0003315649867373649.\u001b[0m\n"
          ]
        },
        {
          "output_type": "stream",
          "name": "stdout",
          "text": [
            "[02:26:06] WARNING: /workspace/src/objective/regression_obj.cu:152: reg:linear is now deprecated in favor of reg:squarederror.\n"
          ]
        },
        {
          "output_type": "stream",
          "name": "stderr",
          "text": [
            "\u001b[32m[I 2021-09-05 02:26:08,455]\u001b[0m Trial 17 finished with value: 0.0003315649867373649 and parameters: {'eta': 0.02634087002145467, 'gamma': 0.0015056756798649637, 'max_depth': 18, 'min_child_weight': 0.0006381294258392863, 'max_delta_step': 0.641950059401799, 'subsample': 0.16829116337832445, 'reg_lambda': 508.52045583336303, 'reg_alpha': 626.5114216489461}. Best is trial 0 with value: 0.0003315649867373649.\u001b[0m\n"
          ]
        },
        {
          "output_type": "stream",
          "name": "stdout",
          "text": [
            "[02:26:08] WARNING: /workspace/src/objective/regression_obj.cu:152: reg:linear is now deprecated in favor of reg:squarederror.\n"
          ]
        },
        {
          "output_type": "stream",
          "name": "stderr",
          "text": [
            "\u001b[32m[I 2021-09-05 02:26:15,546]\u001b[0m Trial 18 finished with value: 0.0003315649867373649 and parameters: {'eta': 1.4927027344144223e-07, 'gamma': 0.010773999773243243, 'max_depth': 7, 'min_child_weight': 2.3497361698769838e-05, 'max_delta_step': 5.598058889144908e-07, 'subsample': 0.5231364220989371, 'reg_lambda': 796.0128956631872, 'reg_alpha': 369.42534936434015}. Best is trial 0 with value: 0.0003315649867373649.\u001b[0m\n"
          ]
        },
        {
          "output_type": "stream",
          "name": "stdout",
          "text": [
            "[02:26:15] WARNING: /workspace/src/objective/regression_obj.cu:152: reg:linear is now deprecated in favor of reg:squarederror.\n"
          ]
        },
        {
          "output_type": "stream",
          "name": "stderr",
          "text": [
            "\u001b[32m[I 2021-09-05 02:26:22,006]\u001b[0m Trial 19 finished with value: 0.0003315649867373649 and parameters: {'eta': 0.11677657013210094, 'gamma': 9.829362297163074e-06, 'max_depth': 16, 'min_child_weight': 6.600130876759066e-07, 'max_delta_step': 1.5421765427298114e-08, 'subsample': 0.8176332161265111, 'reg_lambda': 22.332715648644523, 'reg_alpha': 143.95240163722013}. Best is trial 0 with value: 0.0003315649867373649.\u001b[0m\n"
          ]
        },
        {
          "output_type": "stream",
          "name": "stdout",
          "text": [
            "[02:26:22] WARNING: /workspace/src/objective/regression_obj.cu:152: reg:linear is now deprecated in favor of reg:squarederror.\n"
          ]
        },
        {
          "output_type": "stream",
          "name": "stderr",
          "text": [
            "\u001b[32m[I 2021-09-05 02:26:23,134]\u001b[0m Trial 20 finished with value: 0.0003315649867373649 and parameters: {'eta': 0.01509807210829133, 'gamma': 0.000258553278315504, 'max_depth': 18, 'min_child_weight': 0.0006163193797483417, 'max_delta_step': 5.066598742058845e-05, 'subsample': 0.11589705910660347, 'reg_lambda': 241.57398976523, 'reg_alpha': 968.852561980606}. Best is trial 0 with value: 0.0003315649867373649.\u001b[0m\n"
          ]
        },
        {
          "output_type": "stream",
          "name": "stdout",
          "text": [
            "[02:26:23] WARNING: /workspace/src/objective/regression_obj.cu:152: reg:linear is now deprecated in favor of reg:squarederror.\n"
          ]
        },
        {
          "output_type": "stream",
          "name": "stderr",
          "text": [
            "\u001b[32m[I 2021-09-05 02:26:28,890]\u001b[0m Trial 21 finished with value: 0.0003315649867373649 and parameters: {'eta': 1.0227626442162523e-07, 'gamma': 0.006077784149847087, 'max_depth': 5, 'min_child_weight': 3.9841579351152366e-05, 'max_delta_step': 6.212970903421262e-07, 'subsample': 0.507442601196183, 'reg_lambda': 456.25832076715267, 'reg_alpha': 839.1141675429697}. Best is trial 0 with value: 0.0003315649867373649.\u001b[0m\n"
          ]
        },
        {
          "output_type": "stream",
          "name": "stdout",
          "text": [
            "[02:26:29] WARNING: /workspace/src/objective/regression_obj.cu:152: reg:linear is now deprecated in favor of reg:squarederror.\n"
          ]
        },
        {
          "output_type": "stream",
          "name": "stderr",
          "text": [
            "\u001b[32m[I 2021-09-05 02:26:35,286]\u001b[0m Trial 22 finished with value: 0.0003315649867373649 and parameters: {'eta': 0.194434696686752, 'gamma': 1.4954998328969898e-05, 'max_depth': 8, 'min_child_weight': 9.46664411722168e-07, 'max_delta_step': 1.75619447068294e-08, 'subsample': 0.7945253893762848, 'reg_lambda': 3.9072829393046185, 'reg_alpha': 142.66150022927872}. Best is trial 0 with value: 0.0003315649867373649.\u001b[0m\n"
          ]
        },
        {
          "output_type": "stream",
          "name": "stdout",
          "text": [
            "[02:26:35] WARNING: /workspace/src/objective/regression_obj.cu:152: reg:linear is now deprecated in favor of reg:squarederror.\n"
          ]
        },
        {
          "output_type": "stream",
          "name": "stderr",
          "text": [
            "\u001b[32m[I 2021-09-05 02:26:45,564]\u001b[0m Trial 23 finished with value: 0.0003315649867373649 and parameters: {'eta': 0.1750591336474194, 'gamma': 2.053305175360853e-06, 'max_depth': 18, 'min_child_weight': 0.0010842765240246545, 'max_delta_step': 2.842572604576074e-05, 'subsample': 0.9008610892335595, 'reg_lambda': 230.99168655090128, 'reg_alpha': 996.0570384861294}. Best is trial 0 with value: 0.0003315649867373649.\u001b[0m\n"
          ]
        },
        {
          "output_type": "stream",
          "name": "stdout",
          "text": [
            "[02:26:45] WARNING: /workspace/src/objective/regression_obj.cu:152: reg:linear is now deprecated in favor of reg:squarederror.\n"
          ]
        },
        {
          "output_type": "stream",
          "name": "stderr",
          "text": [
            "\u001b[32m[I 2021-09-05 02:26:46,595]\u001b[0m Trial 24 finished with value: 0.0003315649867373649 and parameters: {'eta': 0.008571596425965687, 'gamma': 0.00016929912224411425, 'max_depth': 4, 'min_child_weight': 0.007750319976977726, 'max_delta_step': 8.997085644573766e-06, 'subsample': 0.08083843651996914, 'reg_lambda': 430.770712391655, 'reg_alpha': 832.4207748702947}. Best is trial 0 with value: 0.0003315649867373649.\u001b[0m\n"
          ]
        },
        {
          "output_type": "stream",
          "name": "stdout",
          "text": [
            "[02:26:46] WARNING: /workspace/src/objective/regression_obj.cu:152: reg:linear is now deprecated in favor of reg:squarederror.\n"
          ]
        },
        {
          "output_type": "stream",
          "name": "stderr",
          "text": [
            "\u001b[32m[I 2021-09-05 02:26:53,553]\u001b[0m Trial 25 finished with value: 0.0003315649867373649 and parameters: {'eta': 4.145249222784933e-07, 'gamma': 1.2194096509615633e-08, 'max_depth': 5, 'min_child_weight': 1.058245185802082e-05, 'max_delta_step': 4.1604524279255906e-07, 'subsample': 0.7324619523086839, 'reg_lambda': 230.0226586476608, 'reg_alpha': 852.4746185084477}. Best is trial 0 with value: 0.0003315649867373649.\u001b[0m\n"
          ]
        },
        {
          "output_type": "stream",
          "name": "stdout",
          "text": [
            "[02:26:53] WARNING: /workspace/src/objective/regression_obj.cu:152: reg:linear is now deprecated in favor of reg:squarederror.\n"
          ]
        },
        {
          "output_type": "stream",
          "name": "stderr",
          "text": [
            "\u001b[32m[I 2021-09-05 02:27:04,646]\u001b[0m Trial 26 finished with value: 0.0003315649867373649 and parameters: {'eta': 0.32592781972094415, 'gamma': 1.3402159783592909e-06, 'max_depth': 9, 'min_child_weight': 0.006501267789484357, 'max_delta_step': 1.1274132220988153e-05, 'subsample': 0.9996637108617457, 'reg_lambda': 196.3892576777021, 'reg_alpha': 716.1639845409702}. Best is trial 0 with value: 0.0003315649867373649.\u001b[0m\n"
          ]
        },
        {
          "output_type": "stream",
          "name": "stdout",
          "text": [
            "[02:27:04] WARNING: /workspace/src/objective/regression_obj.cu:152: reg:linear is now deprecated in favor of reg:squarederror.\n"
          ]
        },
        {
          "output_type": "stream",
          "name": "stderr",
          "text": [
            "\u001b[32m[I 2021-09-05 02:27:07,289]\u001b[0m Trial 27 finished with value: 0.0003315649867373649 and parameters: {'eta': 0.002847133547981153, 'gamma': 1.2966823861476087e-06, 'max_depth': 1, 'min_child_weight': 0.0072642120867254575, 'max_delta_step': 2.494160273381861e-05, 'subsample': 0.8889245717540482, 'reg_lambda': 294.93546268901355, 'reg_alpha': 884.4658932044184}. Best is trial 0 with value: 0.0003315649867373649.\u001b[0m\n"
          ]
        },
        {
          "output_type": "stream",
          "name": "stdout",
          "text": [
            "[02:27:07] WARNING: /workspace/src/objective/regression_obj.cu:152: reg:linear is now deprecated in favor of reg:squarederror.\n"
          ]
        },
        {
          "output_type": "stream",
          "name": "stderr",
          "text": [
            "\u001b[32m[I 2021-09-05 02:27:13,350]\u001b[0m Trial 28 finished with value: 0.0003315649867373649 and parameters: {'eta': 7.227234259858652e-07, 'gamma': 1.000426761561176e-08, 'max_depth': 4, 'min_child_weight': 0.04110806426222303, 'max_delta_step': 2.6077108839542823e-07, 'subsample': 0.7124866887391038, 'reg_lambda': 92.35818564094157, 'reg_alpha': 800.5563177862155}. Best is trial 0 with value: 0.0003315649867373649.\u001b[0m\n"
          ]
        },
        {
          "output_type": "stream",
          "name": "stdout",
          "text": [
            "[02:27:13] WARNING: /workspace/src/objective/regression_obj.cu:152: reg:linear is now deprecated in favor of reg:squarederror.\n"
          ]
        },
        {
          "output_type": "stream",
          "name": "stderr",
          "text": [
            "\u001b[32m[I 2021-09-05 02:27:24,308]\u001b[0m Trial 29 finished with value: 0.0003315649867373649 and parameters: {'eta': 0.0002966535759599746, 'gamma': 2.5582196297604864e-08, 'max_depth': 9, 'min_child_weight': 0.00014004153975288376, 'max_delta_step': 0.00013921744466840745, 'subsample': 0.9842738088028713, 'reg_lambda': 185.4439520200757, 'reg_alpha': 749.1480853804251}. Best is trial 0 with value: 0.0003315649867373649.\u001b[0m\n"
          ]
        },
        {
          "output_type": "stream",
          "name": "stdout",
          "text": [
            "Best params: {'eta': 0.6254601994626195, 'gamma': 0.17852373514296782, 'max_depth': 18, 'min_child_weight': 1.3382860381713454e-08, 'max_delta_step': 9.834100248079152e-07, 'subsample': 0.7517767996063593, 'reg_lambda': 33.277329926182155, 'reg_alpha': 995.745775125432}\n"
          ]
        }
      ]
    },
    {
      "cell_type": "code",
      "metadata": {
        "colab": {
          "base_uri": "https://localhost:8080/"
        },
        "id": "3cziOMZC6N2A",
        "outputId": "2812932b-3b43-4366-bc42-731c1458413b"
      },
      "source": [
        "optimised_model = xgb.XGBRegressor(eta = study.best_params['eta'],gamma = study.best_params['gamma'],\n",
        "                                max_depth = study.best_params['max_depth'],min_child_weight = study.best_params['min_child_weight'],\n",
        "                                max_delta_step = study.best_params['max_delta_step'],subsample = study.best_params['subsample'],\n",
        "                                reg_lambda = study.best_params['reg_lambda'],reg_alpha = study.best_params['reg_alpha'])\n",
        "\n",
        "optimised_model.fit(X_train, y_train)\n",
        "\n",
        "# テスト用データを使って予測する\n",
        "pred_labels_xgb = optimised_model.predict(X_test)\n",
        "# 返り値は確率になっているので四捨五入する\n",
        "pred_labels_xgb_round = np.rint(preds)\n",
        "# 予測精度と混同行列の出力\n",
        "print(\"Accurary: {:.5f} %\".format(100 * accuracy_score(y_test, pred_labels_xgb_round)))\n",
        "print(confusion_matrix(y_test, pred_labels_xgb_round))"
      ],
      "execution_count": 30,
      "outputs": [
        {
          "output_type": "stream",
          "name": "stdout",
          "text": [
            "[02:27:24] WARNING: /workspace/src/objective/regression_obj.cu:152: reg:linear is now deprecated in favor of reg:squarederror.\n",
            "Accurary: 99.96684 %\n",
            "[[3847    0]\n",
            " [   2 2183]]\n"
          ]
        }
      ]
    },
    {
      "cell_type": "code",
      "metadata": {
        "id": "Cu5M7Jwc5KIJ"
      },
      "source": [
        "preds_ans = pred_labels_lgb * 0.5 + pred_labels_xgb * 0.5"
      ],
      "execution_count": 31,
      "outputs": []
    },
    {
      "cell_type": "code",
      "metadata": {
        "colab": {
          "base_uri": "https://localhost:8080/"
        },
        "id": "emvQvHOO8f9B",
        "outputId": "07d55bec-d715-413a-dd60-b982e06d145b"
      },
      "source": [
        "print(\"Accurary: {:.5f} %\".format(100 * accuracy_score(y_test, np.rint(preds_ans))))\n",
        "print(confusion_matrix(y_test, np.rint(preds_ans)))"
      ],
      "execution_count": 32,
      "outputs": [
        {
          "output_type": "stream",
          "name": "stdout",
          "text": [
            "Accurary: 99.96684 %\n",
            "[[3847    0]\n",
            " [   2 2183]]\n"
          ]
        }
      ]
    }
  ]
}