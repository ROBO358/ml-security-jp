{
  "nbformat": 4,
  "nbformat_minor": 0,
  "metadata": {
    "colab": {
      "name": "Chapter5_public",
      "provenance": [],
      "collapsed_sections": []
    },
    "kernelspec": {
      "name": "python3",
      "display_name": "Python 3"
    },
    "widgets": {
      "application/vnd.jupyter.widget-state+json": {
        "4f0e07668dca488d8789e4abc9b1485e": {
          "model_module": "@jupyter-widgets/controls",
          "model_name": "HTMLModel",
          "model_module_version": "1.5.0",
          "state": {
            "_view_name": "HTMLView",
            "style": "IPY_MODEL_c4d32f66a1264ef8ac83f9c03dfb9693",
            "_dom_classes": [],
            "description": "",
            "_model_name": "HTMLModel",
            "placeholder": "​",
            "_view_module": "@jupyter-widgets/controls",
            "_model_module_version": "1.5.0",
            "value": "9 of 9 Examples annotated, Current Position: 9 ",
            "_view_count": null,
            "_view_module_version": "1.5.0",
            "description_tooltip": null,
            "_model_module": "@jupyter-widgets/controls",
            "layout": "IPY_MODEL_cab2f591cea6498097c1af3cb6b01a20"
          }
        },
        "c4d32f66a1264ef8ac83f9c03dfb9693": {
          "model_module": "@jupyter-widgets/controls",
          "model_name": "DescriptionStyleModel",
          "model_module_version": "1.5.0",
          "state": {
            "_view_name": "StyleView",
            "_model_name": "DescriptionStyleModel",
            "description_width": "",
            "_view_module": "@jupyter-widgets/base",
            "_model_module_version": "1.5.0",
            "_view_count": null,
            "_view_module_version": "1.2.0",
            "_model_module": "@jupyter-widgets/controls"
          }
        },
        "cab2f591cea6498097c1af3cb6b01a20": {
          "model_module": "@jupyter-widgets/base",
          "model_name": "LayoutModel",
          "model_module_version": "1.2.0",
          "state": {
            "_view_name": "LayoutView",
            "grid_template_rows": null,
            "right": null,
            "justify_content": null,
            "_view_module": "@jupyter-widgets/base",
            "overflow": null,
            "_model_module_version": "1.2.0",
            "_view_count": null,
            "flex_flow": null,
            "width": null,
            "min_width": null,
            "border": null,
            "align_items": null,
            "bottom": null,
            "_model_module": "@jupyter-widgets/base",
            "top": null,
            "grid_column": null,
            "overflow_y": null,
            "overflow_x": null,
            "grid_auto_flow": null,
            "grid_area": null,
            "grid_template_columns": null,
            "flex": null,
            "_model_name": "LayoutModel",
            "justify_items": null,
            "grid_row": null,
            "max_height": null,
            "align_content": null,
            "visibility": null,
            "align_self": null,
            "height": null,
            "min_height": null,
            "padding": null,
            "grid_auto_rows": null,
            "grid_gap": null,
            "max_width": null,
            "order": null,
            "_view_module_version": "1.2.0",
            "grid_template_areas": null,
            "object_position": null,
            "object_fit": null,
            "grid_auto_columns": null,
            "margin": null,
            "display": null,
            "left": null
          }
        },
        "b31760d66587411bbc5c5387b1dd5fbc": {
          "model_module": "@jupyter-widgets/controls",
          "model_name": "HBoxModel",
          "model_module_version": "1.5.0",
          "state": {
            "_view_name": "HBoxView",
            "_dom_classes": [],
            "_model_name": "HBoxModel",
            "_view_module": "@jupyter-widgets/controls",
            "_model_module_version": "1.5.0",
            "_view_count": null,
            "_view_module_version": "1.5.0",
            "box_style": "",
            "layout": "IPY_MODEL_113475eb3c6b4c758141c1f6f44141e0",
            "_model_module": "@jupyter-widgets/controls",
            "children": [
              "IPY_MODEL_cb608bd316174660bab44063caeb4a97",
              "IPY_MODEL_89affabfb2e245b0b485aa0348537e21",
              "IPY_MODEL_ef52a43c40f14ec8905324a738f8d26e"
            ]
          }
        },
        "113475eb3c6b4c758141c1f6f44141e0": {
          "model_module": "@jupyter-widgets/base",
          "model_name": "LayoutModel",
          "model_module_version": "1.2.0",
          "state": {
            "_view_name": "LayoutView",
            "grid_template_rows": null,
            "right": null,
            "justify_content": null,
            "_view_module": "@jupyter-widgets/base",
            "overflow": null,
            "_model_module_version": "1.2.0",
            "_view_count": null,
            "flex_flow": null,
            "width": null,
            "min_width": null,
            "border": null,
            "align_items": null,
            "bottom": null,
            "_model_module": "@jupyter-widgets/base",
            "top": null,
            "grid_column": null,
            "overflow_y": null,
            "overflow_x": null,
            "grid_auto_flow": null,
            "grid_area": null,
            "grid_template_columns": null,
            "flex": null,
            "_model_name": "LayoutModel",
            "justify_items": null,
            "grid_row": null,
            "max_height": null,
            "align_content": null,
            "visibility": null,
            "align_self": null,
            "height": null,
            "min_height": null,
            "padding": null,
            "grid_auto_rows": null,
            "grid_gap": null,
            "max_width": null,
            "order": null,
            "_view_module_version": "1.2.0",
            "grid_template_areas": null,
            "object_position": null,
            "object_fit": null,
            "grid_auto_columns": null,
            "margin": null,
            "display": null,
            "left": null
          }
        },
        "cb608bd316174660bab44063caeb4a97": {
          "model_module": "@jupyter-widgets/controls",
          "model_name": "ButtonModel",
          "model_module_version": "1.5.0",
          "state": {
            "_view_name": "ButtonView",
            "style": "IPY_MODEL_372327ba2b3b47748ff1d80028a059af",
            "_dom_classes": [],
            "description": "Exploit",
            "_model_name": "ButtonModel",
            "button_style": "",
            "_view_module": "@jupyter-widgets/controls",
            "_model_module_version": "1.5.0",
            "tooltip": "",
            "_view_count": null,
            "disabled": true,
            "_view_module_version": "1.5.0",
            "layout": "IPY_MODEL_22ec775f791644b5ba5ef87dba355920",
            "_model_module": "@jupyter-widgets/controls",
            "icon": ""
          }
        },
        "89affabfb2e245b0b485aa0348537e21": {
          "model_module": "@jupyter-widgets/controls",
          "model_name": "ButtonModel",
          "model_module_version": "1.5.0",
          "state": {
            "_view_name": "ButtonView",
            "style": "IPY_MODEL_ce3708662803490fa45aaf2c7cf09667",
            "_dom_classes": [],
            "description": "NOT Exploit",
            "_model_name": "ButtonModel",
            "button_style": "",
            "_view_module": "@jupyter-widgets/controls",
            "_model_module_version": "1.5.0",
            "tooltip": "",
            "_view_count": null,
            "disabled": true,
            "_view_module_version": "1.5.0",
            "layout": "IPY_MODEL_c796b327523a491b999baea5830737be",
            "_model_module": "@jupyter-widgets/controls",
            "icon": ""
          }
        },
        "ef52a43c40f14ec8905324a738f8d26e": {
          "model_module": "@jupyter-widgets/controls",
          "model_name": "ButtonModel",
          "model_module_version": "1.5.0",
          "state": {
            "_view_name": "ButtonView",
            "style": "IPY_MODEL_c90ae0bee0954ffb9ce2f1c306063272",
            "_dom_classes": [],
            "description": "skip",
            "_model_name": "ButtonModel",
            "button_style": "info",
            "_view_module": "@jupyter-widgets/controls",
            "_model_module_version": "1.5.0",
            "tooltip": "",
            "_view_count": null,
            "disabled": true,
            "_view_module_version": "1.5.0",
            "layout": "IPY_MODEL_15d6d2370dbc4b46a548fd1f6ee40e61",
            "_model_module": "@jupyter-widgets/controls",
            "icon": ""
          }
        },
        "372327ba2b3b47748ff1d80028a059af": {
          "model_module": "@jupyter-widgets/controls",
          "model_name": "ButtonStyleModel",
          "model_module_version": "1.5.0",
          "state": {
            "_view_name": "StyleView",
            "_model_name": "ButtonStyleModel",
            "_view_module": "@jupyter-widgets/base",
            "_model_module_version": "1.5.0",
            "_view_count": null,
            "button_color": null,
            "font_weight": "",
            "_view_module_version": "1.2.0",
            "_model_module": "@jupyter-widgets/controls"
          }
        },
        "22ec775f791644b5ba5ef87dba355920": {
          "model_module": "@jupyter-widgets/base",
          "model_name": "LayoutModel",
          "model_module_version": "1.2.0",
          "state": {
            "_view_name": "LayoutView",
            "grid_template_rows": null,
            "right": null,
            "justify_content": null,
            "_view_module": "@jupyter-widgets/base",
            "overflow": null,
            "_model_module_version": "1.2.0",
            "_view_count": null,
            "flex_flow": null,
            "width": null,
            "min_width": null,
            "border": null,
            "align_items": null,
            "bottom": null,
            "_model_module": "@jupyter-widgets/base",
            "top": null,
            "grid_column": null,
            "overflow_y": null,
            "overflow_x": null,
            "grid_auto_flow": null,
            "grid_area": null,
            "grid_template_columns": null,
            "flex": null,
            "_model_name": "LayoutModel",
            "justify_items": null,
            "grid_row": null,
            "max_height": null,
            "align_content": null,
            "visibility": null,
            "align_self": null,
            "height": null,
            "min_height": null,
            "padding": null,
            "grid_auto_rows": null,
            "grid_gap": null,
            "max_width": null,
            "order": null,
            "_view_module_version": "1.2.0",
            "grid_template_areas": null,
            "object_position": null,
            "object_fit": null,
            "grid_auto_columns": null,
            "margin": null,
            "display": null,
            "left": null
          }
        },
        "ce3708662803490fa45aaf2c7cf09667": {
          "model_module": "@jupyter-widgets/controls",
          "model_name": "ButtonStyleModel",
          "model_module_version": "1.5.0",
          "state": {
            "_view_name": "StyleView",
            "_model_name": "ButtonStyleModel",
            "_view_module": "@jupyter-widgets/base",
            "_model_module_version": "1.5.0",
            "_view_count": null,
            "button_color": null,
            "font_weight": "",
            "_view_module_version": "1.2.0",
            "_model_module": "@jupyter-widgets/controls"
          }
        },
        "c796b327523a491b999baea5830737be": {
          "model_module": "@jupyter-widgets/base",
          "model_name": "LayoutModel",
          "model_module_version": "1.2.0",
          "state": {
            "_view_name": "LayoutView",
            "grid_template_rows": null,
            "right": null,
            "justify_content": null,
            "_view_module": "@jupyter-widgets/base",
            "overflow": null,
            "_model_module_version": "1.2.0",
            "_view_count": null,
            "flex_flow": null,
            "width": null,
            "min_width": null,
            "border": null,
            "align_items": null,
            "bottom": null,
            "_model_module": "@jupyter-widgets/base",
            "top": null,
            "grid_column": null,
            "overflow_y": null,
            "overflow_x": null,
            "grid_auto_flow": null,
            "grid_area": null,
            "grid_template_columns": null,
            "flex": null,
            "_model_name": "LayoutModel",
            "justify_items": null,
            "grid_row": null,
            "max_height": null,
            "align_content": null,
            "visibility": null,
            "align_self": null,
            "height": null,
            "min_height": null,
            "padding": null,
            "grid_auto_rows": null,
            "grid_gap": null,
            "max_width": null,
            "order": null,
            "_view_module_version": "1.2.0",
            "grid_template_areas": null,
            "object_position": null,
            "object_fit": null,
            "grid_auto_columns": null,
            "margin": null,
            "display": null,
            "left": null
          }
        },
        "c90ae0bee0954ffb9ce2f1c306063272": {
          "model_module": "@jupyter-widgets/controls",
          "model_name": "ButtonStyleModel",
          "model_module_version": "1.5.0",
          "state": {
            "_view_name": "StyleView",
            "_model_name": "ButtonStyleModel",
            "_view_module": "@jupyter-widgets/base",
            "_model_module_version": "1.5.0",
            "_view_count": null,
            "button_color": null,
            "font_weight": "",
            "_view_module_version": "1.2.0",
            "_model_module": "@jupyter-widgets/controls"
          }
        },
        "15d6d2370dbc4b46a548fd1f6ee40e61": {
          "model_module": "@jupyter-widgets/base",
          "model_name": "LayoutModel",
          "model_module_version": "1.2.0",
          "state": {
            "_view_name": "LayoutView",
            "grid_template_rows": null,
            "right": null,
            "justify_content": null,
            "_view_module": "@jupyter-widgets/base",
            "overflow": null,
            "_model_module_version": "1.2.0",
            "_view_count": null,
            "flex_flow": null,
            "width": null,
            "min_width": null,
            "border": null,
            "align_items": null,
            "bottom": null,
            "_model_module": "@jupyter-widgets/base",
            "top": null,
            "grid_column": null,
            "overflow_y": null,
            "overflow_x": null,
            "grid_auto_flow": null,
            "grid_area": null,
            "grid_template_columns": null,
            "flex": null,
            "_model_name": "LayoutModel",
            "justify_items": null,
            "grid_row": null,
            "max_height": null,
            "align_content": null,
            "visibility": null,
            "align_self": null,
            "height": null,
            "min_height": null,
            "padding": null,
            "grid_auto_rows": null,
            "grid_gap": null,
            "max_width": null,
            "order": null,
            "_view_module_version": "1.2.0",
            "grid_template_areas": null,
            "object_position": null,
            "object_fit": null,
            "grid_auto_columns": null,
            "margin": null,
            "display": null,
            "left": null
          }
        },
        "cce3ac1a53e44c0c8be1ad866ac1d8fb": {
          "model_module": "@jupyter-widgets/output",
          "model_name": "OutputModel",
          "model_module_version": "1.0.0",
          "state": {
            "_view_name": "OutputView",
            "msg_id": "",
            "_dom_classes": [],
            "_model_name": "OutputModel",
            "outputs": [
              {
                "output_type": "display_data",
                "metadata": {
                  "tags": []
                },
                "text/plain": "TweetText    I ruin credit scores, marriages &amp; manipulate weak men for fun, I like to  exploit their weaknesses for Me &amp; then leave them high &amp; dry.\\n\\nKeep sending until you're broke. \\nhttps://t.co/NYQPND6xUo https://t.co/MylCf74B7I\nName: 8, dtype: object"
              },
              {
                "output_type": "display_data",
                "metadata": {
                  "tags": []
                },
                "text/plain": "URL    https://t.co/NYQPND6xUo\nName: 8, dtype: object"
              }
            ],
            "_view_module": "@jupyter-widgets/output",
            "_model_module_version": "1.0.0",
            "_view_count": null,
            "_view_module_version": "1.0.0",
            "layout": "IPY_MODEL_11bf9de3564a4907993686a567459e8d",
            "_model_module": "@jupyter-widgets/output"
          }
        },
        "11bf9de3564a4907993686a567459e8d": {
          "model_module": "@jupyter-widgets/base",
          "model_name": "LayoutModel",
          "model_module_version": "1.2.0",
          "state": {
            "_view_name": "LayoutView",
            "grid_template_rows": null,
            "right": null,
            "justify_content": null,
            "_view_module": "@jupyter-widgets/base",
            "overflow": null,
            "_model_module_version": "1.2.0",
            "_view_count": null,
            "flex_flow": null,
            "width": null,
            "min_width": null,
            "border": null,
            "align_items": null,
            "bottom": null,
            "_model_module": "@jupyter-widgets/base",
            "top": null,
            "grid_column": null,
            "overflow_y": null,
            "overflow_x": null,
            "grid_auto_flow": null,
            "grid_area": null,
            "grid_template_columns": null,
            "flex": null,
            "_model_name": "LayoutModel",
            "justify_items": null,
            "grid_row": null,
            "max_height": null,
            "align_content": null,
            "visibility": null,
            "align_self": null,
            "height": null,
            "min_height": null,
            "padding": null,
            "grid_auto_rows": null,
            "grid_gap": null,
            "max_width": null,
            "order": null,
            "_view_module_version": "1.2.0",
            "grid_template_areas": null,
            "object_position": null,
            "object_fit": null,
            "grid_auto_columns": null,
            "margin": null,
            "display": null,
            "left": null
          }
        }
      }
    }
  },
  "cells": [
    {
      "cell_type": "code",
      "metadata": {
        "id": "mqYU1gygmmg2"
      },
      "source": [
        "import tweepy\n",
        "import json\n",
        "import numpy as np\n",
        "import pandas as pd\n",
        "\n",
        "# APIを使用するための鍵\n",
        "consumer_key=\"YOUR KEY\"\n",
        "consumer_secret=\"YOUR KEY\"\n",
        "access_token=\"YOUR KEY\"\n",
        "access_token_secret=\"YOUR KEY\"\n",
        "\n",
        "# TweepyによるTwitter APIを使用するための認証のセットアップ\n",
        "auth = tweepy.OAuthHandler(consumer_key, consumer_secret)\n",
        "auth.set_access_token(access_token, access_token_secret)\n",
        "\n",
        "# パラメータwait_on_rate_limitを有効化して、 APIの問い合わせ回数の上限に達した場合は必要時間だけ待機\n",
        "api = tweepy.API(auth, parser=tweepy.parsers.JSONParser(), wait_on_rate_limit=True, wait_on_rate_limit_notify=True)"
      ],
      "execution_count": null,
      "outputs": []
    },
    {
      "cell_type": "code",
      "metadata": {
        "colab": {
          "base_uri": "https://localhost:8080/"
        },
        "id": "-JH9rbk8obdH",
        "outputId": "1a0e0059-7d87-41bb-a027-e2870ee28a8f"
      },
      "source": [
        "# 検索ワードとして exploit http を使用し、リツイートは除外\n",
        "search_term = \"exploit http -filter:retweets\"\n",
        "\n",
        "# 一番古いツイートidを保存するための変数\n",
        "oldest_tweet = None\n",
        "\n",
        "# 回収したツイートの一覧を格納するためのリスト\n",
        "TempDict = []\n",
        "\n",
        "# 回収したツイート数のカウンター\n",
        "counter = 0\n",
        "\n",
        "# １０回ループし、合計1000件のツイートを対象にする\n",
        "for x in range(10):\n",
        "\n",
        "    # 最新のツイートから100件を抽出し、テキストをすべて収集する\n",
        "    public_tweets = api.search(search_term, \n",
        "                               count=100, \n",
        "                               result_type=\"recent\",\n",
        "                               tweet_mode=\"extended\", \n",
        "                               max_id=oldest_tweet)\n",
        "\n",
        "    # 条件に一致するツイートの収集\n",
        "    for tweet in public_tweets[\"statuses\"]:\n",
        "        #　引用リツイートも除外\n",
        "        if not 'quoted_status' in tweet:\n",
        "            TempDict.append(tweet)\n",
        "                            \n",
        "            # カウンターに１を追加\n",
        "            counter += 1\n",
        "\n",
        "        # 検索結果の一番古いツイートidを代入し、次の検索結果はこの一番古いid\n",
        "        # より古いものだけを対象にする\n",
        "        oldest_tweet = tweet[\"id\"]\n",
        "\n",
        "print(\"Tweet {}件を収集しました\".format(counter))"
      ],
      "execution_count": null,
      "outputs": [
        {
          "output_type": "stream",
          "text": [
            "Tweet 9件を収集しました\n"
          ],
          "name": "stdout"
        }
      ]
    },
    {
      "cell_type": "code",
      "metadata": {
        "id": "4bo0RSk_XLhG"
      },
      "source": [
        "data = pd.DataFrame(data=[tweet['full_text'] for tweet in TempDict], columns=['TweetText'])"
      ],
      "execution_count": null,
      "outputs": []
    },
    {
      "cell_type": "code",
      "metadata": {
        "id": "DCOba0fh3PG7"
      },
      "source": [
        "import re\n",
        "URLPATTERN = r'(https?://\\S+)'\n",
        "\n",
        "data['URL'] = data[\"TweetText\"].str.extract(URLPATTERN, expand=False).str.strip()"
      ],
      "execution_count": null,
      "outputs": []
    },
    {
      "cell_type": "code",
      "metadata": {
        "colab": {
          "base_uri": "https://localhost:8080/",
          "height": 328
        },
        "id": "Jo3oehJYekRh",
        "outputId": "673cc2e3-9068-4239-86ad-c3ac78d901e7"
      },
      "source": [
        "data.head(20)"
      ],
      "execution_count": null,
      "outputs": [
        {
          "output_type": "execute_result",
          "data": {
            "text/html": [
              "<div>\n",
              "<style scoped>\n",
              "    .dataframe tbody tr th:only-of-type {\n",
              "        vertical-align: middle;\n",
              "    }\n",
              "\n",
              "    .dataframe tbody tr th {\n",
              "        vertical-align: top;\n",
              "    }\n",
              "\n",
              "    .dataframe thead th {\n",
              "        text-align: right;\n",
              "    }\n",
              "</style>\n",
              "<table border=\"1\" class=\"dataframe\">\n",
              "  <thead>\n",
              "    <tr style=\"text-align: right;\">\n",
              "      <th></th>\n",
              "      <th>TweetText</th>\n",
              "      <th>URL</th>\n",
              "    </tr>\n",
              "  </thead>\n",
              "  <tbody>\n",
              "    <tr>\n",
              "      <th>0</th>\n",
              "      <td>OL : L'exploit face à Man City élu match de l'...</td>\n",
              "      <td>https://t.co/Ih2fyz2b9j</td>\n",
              "    </tr>\n",
              "    <tr>\n",
              "      <th>1</th>\n",
              "      <td>Republican efforts to undermine Biden victory ...</td>\n",
              "      <td>https://t.co/h8r9kOXBuY</td>\n",
              "    </tr>\n",
              "    <tr>\n",
              "      <th>2</th>\n",
              "      <td>The scattershot efforts to overturn President-...</td>\n",
              "      <td>https://t.co/BubYeURzb2</td>\n",
              "    </tr>\n",
              "    <tr>\n",
              "      <th>3</th>\n",
              "      <td>@MSNBC Only goes to show, how #DonaldTrump wil...</td>\n",
              "      <td>https://t.co/PwzukzW05L</td>\n",
              "    </tr>\n",
              "    <tr>\n",
              "      <th>4</th>\n",
              "      <td>@MSNBC Only goes to show, how #DonaldTrump wil...</td>\n",
              "      <td>https://t.co/PwzukzW05L</td>\n",
              "    </tr>\n",
              "    <tr>\n",
              "      <th>5</th>\n",
              "      <td>exploit frictionless #supply-chains with #doma...</td>\n",
              "      <td>https://t.co/qTvwSQLAvj</td>\n",
              "    </tr>\n",
              "    <tr>\n",
              "      <th>6</th>\n",
              "      <td>#DeFi insurer @CoverProtocol was exploited for...</td>\n",
              "      <td>https://t.co/hlS98EtpPw</td>\n",
              "    </tr>\n",
              "    <tr>\n",
              "      <th>7</th>\n",
              "      <td>Thanks for TAB message format. I did some expl...</td>\n",
              "      <td>https://t.co/SZUogOi0Lj</td>\n",
              "    </tr>\n",
              "    <tr>\n",
              "      <th>8</th>\n",
              "      <td>I ruin credit scores, marriages &amp;amp; manipula...</td>\n",
              "      <td>https://t.co/NYQPND6xUo</td>\n",
              "    </tr>\n",
              "  </tbody>\n",
              "</table>\n",
              "</div>"
            ],
            "text/plain": [
              "                                           TweetText                      URL\n",
              "0  OL : L'exploit face à Man City élu match de l'...  https://t.co/Ih2fyz2b9j\n",
              "1  Republican efforts to undermine Biden victory ...  https://t.co/h8r9kOXBuY\n",
              "2  The scattershot efforts to overturn President-...  https://t.co/BubYeURzb2\n",
              "3  @MSNBC Only goes to show, how #DonaldTrump wil...  https://t.co/PwzukzW05L\n",
              "4  @MSNBC Only goes to show, how #DonaldTrump wil...  https://t.co/PwzukzW05L\n",
              "5  exploit frictionless #supply-chains with #doma...  https://t.co/qTvwSQLAvj\n",
              "6  #DeFi insurer @CoverProtocol was exploited for...  https://t.co/hlS98EtpPw\n",
              "7  Thanks for TAB message format. I did some expl...  https://t.co/SZUogOi0Lj\n",
              "8  I ruin credit scores, marriages &amp; manipula...  https://t.co/NYQPND6xUo"
            ]
          },
          "metadata": {
            "tags": []
          },
          "execution_count": 5
        }
      ]
    },
    {
      "cell_type": "code",
      "metadata": {
        "colab": {
          "base_uri": "https://localhost:8080/"
        },
        "id": "pfddLllxh9xa",
        "outputId": "9c5105c2-6268-4dc6-9345-53cf303267d7"
      },
      "source": [
        "!pip install pigeonXT-jupyter"
      ],
      "execution_count": null,
      "outputs": [
        {
          "output_type": "stream",
          "text": [
            "Collecting pigeonXT-jupyter\n",
            "  Downloading https://files.pythonhosted.org/packages/4f/dd/a318f2819c29a2e3d130e742229e0d996f019369c1f67033c1fdd8bfeab7/pigeonXT_jupyter-0.4.1-py3-none-any.whl\n",
            "Requirement already satisfied: ipywidgets in /usr/local/lib/python3.6/dist-packages (from pigeonXT-jupyter) (7.5.1)\n",
            "Requirement already satisfied: traitlets>=4.3.1 in /usr/local/lib/python3.6/dist-packages (from ipywidgets->pigeonXT-jupyter) (4.3.3)\n",
            "Requirement already satisfied: widgetsnbextension~=3.5.0 in /usr/local/lib/python3.6/dist-packages (from ipywidgets->pigeonXT-jupyter) (3.5.1)\n",
            "Requirement already satisfied: ipython>=4.0.0; python_version >= \"3.3\" in /usr/local/lib/python3.6/dist-packages (from ipywidgets->pigeonXT-jupyter) (5.5.0)\n",
            "Requirement already satisfied: nbformat>=4.2.0 in /usr/local/lib/python3.6/dist-packages (from ipywidgets->pigeonXT-jupyter) (5.0.8)\n",
            "Requirement already satisfied: ipykernel>=4.5.1 in /usr/local/lib/python3.6/dist-packages (from ipywidgets->pigeonXT-jupyter) (4.10.1)\n",
            "Requirement already satisfied: ipython-genutils in /usr/local/lib/python3.6/dist-packages (from traitlets>=4.3.1->ipywidgets->pigeonXT-jupyter) (0.2.0)\n",
            "Requirement already satisfied: decorator in /usr/local/lib/python3.6/dist-packages (from traitlets>=4.3.1->ipywidgets->pigeonXT-jupyter) (4.4.2)\n",
            "Requirement already satisfied: six in /usr/local/lib/python3.6/dist-packages (from traitlets>=4.3.1->ipywidgets->pigeonXT-jupyter) (1.15.0)\n",
            "Requirement already satisfied: notebook>=4.4.1 in /usr/local/lib/python3.6/dist-packages (from widgetsnbextension~=3.5.0->ipywidgets->pigeonXT-jupyter) (5.3.1)\n",
            "Requirement already satisfied: pexpect; sys_platform != \"win32\" in /usr/local/lib/python3.6/dist-packages (from ipython>=4.0.0; python_version >= \"3.3\"->ipywidgets->pigeonXT-jupyter) (4.8.0)\n",
            "Requirement already satisfied: prompt-toolkit<2.0.0,>=1.0.4 in /usr/local/lib/python3.6/dist-packages (from ipython>=4.0.0; python_version >= \"3.3\"->ipywidgets->pigeonXT-jupyter) (1.0.18)\n",
            "Requirement already satisfied: simplegeneric>0.8 in /usr/local/lib/python3.6/dist-packages (from ipython>=4.0.0; python_version >= \"3.3\"->ipywidgets->pigeonXT-jupyter) (0.8.1)\n",
            "Requirement already satisfied: setuptools>=18.5 in /usr/local/lib/python3.6/dist-packages (from ipython>=4.0.0; python_version >= \"3.3\"->ipywidgets->pigeonXT-jupyter) (51.0.0)\n",
            "Requirement already satisfied: pickleshare in /usr/local/lib/python3.6/dist-packages (from ipython>=4.0.0; python_version >= \"3.3\"->ipywidgets->pigeonXT-jupyter) (0.7.5)\n",
            "Requirement already satisfied: pygments in /usr/local/lib/python3.6/dist-packages (from ipython>=4.0.0; python_version >= \"3.3\"->ipywidgets->pigeonXT-jupyter) (2.6.1)\n",
            "Requirement already satisfied: jsonschema!=2.5.0,>=2.4 in /usr/local/lib/python3.6/dist-packages (from nbformat>=4.2.0->ipywidgets->pigeonXT-jupyter) (2.6.0)\n",
            "Requirement already satisfied: jupyter-core in /usr/local/lib/python3.6/dist-packages (from nbformat>=4.2.0->ipywidgets->pigeonXT-jupyter) (4.7.0)\n",
            "Requirement already satisfied: jupyter-client in /usr/local/lib/python3.6/dist-packages (from ipykernel>=4.5.1->ipywidgets->pigeonXT-jupyter) (5.3.5)\n",
            "Requirement already satisfied: tornado>=4.0 in /usr/local/lib/python3.6/dist-packages (from ipykernel>=4.5.1->ipywidgets->pigeonXT-jupyter) (5.1.1)\n",
            "Requirement already satisfied: Send2Trash in /usr/local/lib/python3.6/dist-packages (from notebook>=4.4.1->widgetsnbextension~=3.5.0->ipywidgets->pigeonXT-jupyter) (1.5.0)\n",
            "Requirement already satisfied: terminado>=0.8.1 in /usr/local/lib/python3.6/dist-packages (from notebook>=4.4.1->widgetsnbextension~=3.5.0->ipywidgets->pigeonXT-jupyter) (0.9.1)\n",
            "Requirement already satisfied: nbconvert in /usr/local/lib/python3.6/dist-packages (from notebook>=4.4.1->widgetsnbextension~=3.5.0->ipywidgets->pigeonXT-jupyter) (5.6.1)\n",
            "Requirement already satisfied: jinja2 in /usr/local/lib/python3.6/dist-packages (from notebook>=4.4.1->widgetsnbextension~=3.5.0->ipywidgets->pigeonXT-jupyter) (2.11.2)\n",
            "Requirement already satisfied: ptyprocess>=0.5 in /usr/local/lib/python3.6/dist-packages (from pexpect; sys_platform != \"win32\"->ipython>=4.0.0; python_version >= \"3.3\"->ipywidgets->pigeonXT-jupyter) (0.6.0)\n",
            "Requirement already satisfied: wcwidth in /usr/local/lib/python3.6/dist-packages (from prompt-toolkit<2.0.0,>=1.0.4->ipython>=4.0.0; python_version >= \"3.3\"->ipywidgets->pigeonXT-jupyter) (0.2.5)\n",
            "Requirement already satisfied: python-dateutil>=2.1 in /usr/local/lib/python3.6/dist-packages (from jupyter-client->ipykernel>=4.5.1->ipywidgets->pigeonXT-jupyter) (2.8.1)\n",
            "Requirement already satisfied: pyzmq>=13 in /usr/local/lib/python3.6/dist-packages (from jupyter-client->ipykernel>=4.5.1->ipywidgets->pigeonXT-jupyter) (20.0.0)\n",
            "Requirement already satisfied: defusedxml in /usr/local/lib/python3.6/dist-packages (from nbconvert->notebook>=4.4.1->widgetsnbextension~=3.5.0->ipywidgets->pigeonXT-jupyter) (0.6.0)\n",
            "Requirement already satisfied: mistune<2,>=0.8.1 in /usr/local/lib/python3.6/dist-packages (from nbconvert->notebook>=4.4.1->widgetsnbextension~=3.5.0->ipywidgets->pigeonXT-jupyter) (0.8.4)\n",
            "Requirement already satisfied: bleach in /usr/local/lib/python3.6/dist-packages (from nbconvert->notebook>=4.4.1->widgetsnbextension~=3.5.0->ipywidgets->pigeonXT-jupyter) (3.2.1)\n",
            "Requirement already satisfied: pandocfilters>=1.4.1 in /usr/local/lib/python3.6/dist-packages (from nbconvert->notebook>=4.4.1->widgetsnbextension~=3.5.0->ipywidgets->pigeonXT-jupyter) (1.4.3)\n",
            "Requirement already satisfied: testpath in /usr/local/lib/python3.6/dist-packages (from nbconvert->notebook>=4.4.1->widgetsnbextension~=3.5.0->ipywidgets->pigeonXT-jupyter) (0.4.4)\n",
            "Requirement already satisfied: entrypoints>=0.2.2 in /usr/local/lib/python3.6/dist-packages (from nbconvert->notebook>=4.4.1->widgetsnbextension~=3.5.0->ipywidgets->pigeonXT-jupyter) (0.3)\n",
            "Requirement already satisfied: MarkupSafe>=0.23 in /usr/local/lib/python3.6/dist-packages (from jinja2->notebook>=4.4.1->widgetsnbextension~=3.5.0->ipywidgets->pigeonXT-jupyter) (1.1.1)\n",
            "Requirement already satisfied: packaging in /usr/local/lib/python3.6/dist-packages (from bleach->nbconvert->notebook>=4.4.1->widgetsnbextension~=3.5.0->ipywidgets->pigeonXT-jupyter) (20.8)\n",
            "Requirement already satisfied: webencodings in /usr/local/lib/python3.6/dist-packages (from bleach->nbconvert->notebook>=4.4.1->widgetsnbextension~=3.5.0->ipywidgets->pigeonXT-jupyter) (0.5.1)\n",
            "Requirement already satisfied: pyparsing>=2.0.2 in /usr/local/lib/python3.6/dist-packages (from packaging->bleach->nbconvert->notebook>=4.4.1->widgetsnbextension~=3.5.0->ipywidgets->pigeonXT-jupyter) (2.4.7)\n",
            "Installing collected packages: pigeonXT-jupyter\n",
            "Successfully installed pigeonXT-jupyter-0.4.1\n"
          ],
          "name": "stdout"
        }
      ]
    },
    {
      "cell_type": "code",
      "metadata": {
        "id": "TxLiXzfVV2NM"
      },
      "source": [
        "# pandasの列幅を300に設定してツイート本文を確認できるよう設定を変更\n",
        "pd.set_option(\"display.max_colwidth\", 300)"
      ],
      "execution_count": null,
      "outputs": []
    },
    {
      "cell_type": "code",
      "metadata": {
        "colab": {
          "base_uri": "https://localhost:8080/",
          "height": 186,
          "referenced_widgets": [
            "4f0e07668dca488d8789e4abc9b1485e",
            "c4d32f66a1264ef8ac83f9c03dfb9693",
            "cab2f591cea6498097c1af3cb6b01a20",
            "b31760d66587411bbc5c5387b1dd5fbc",
            "113475eb3c6b4c758141c1f6f44141e0",
            "cb608bd316174660bab44063caeb4a97",
            "89affabfb2e245b0b485aa0348537e21",
            "ef52a43c40f14ec8905324a738f8d26e",
            "372327ba2b3b47748ff1d80028a059af",
            "22ec775f791644b5ba5ef87dba355920",
            "ce3708662803490fa45aaf2c7cf09667",
            "c796b327523a491b999baea5830737be",
            "c90ae0bee0954ffb9ce2f1c306063272",
            "15d6d2370dbc4b46a548fd1f6ee40e61",
            "cce3ac1a53e44c0c8be1ad866ac1d8fb",
            "11bf9de3564a4907993686a567459e8d"
          ]
        },
        "id": "RKZHyeS_iNP_",
        "outputId": "9bfa5be4-55d8-4dbf-9eaa-217e7db4abce"
      },
      "source": [
        "from pigeonXT import annotate\n",
        "\n",
        "# 一行ずつツイート本文の内容とURLを表示\n",
        "annotations = annotate(data.index, options=['Exploit', 'NOT Exploit'], display_fn=lambda idx : display(data.loc[idx,['TweetText']],data.loc[idx,['URL']]))"
      ],
      "execution_count": null,
      "outputs": [
        {
          "output_type": "display_data",
          "data": {
            "application/vnd.jupyter.widget-view+json": {
              "model_id": "4f0e07668dca488d8789e4abc9b1485e",
              "version_minor": 0,
              "version_major": 2
            },
            "text/plain": [
              "HTML(value='0 of 9 Examples annotated, Current Position: 0 ')"
            ]
          },
          "metadata": {
            "tags": []
          }
        },
        {
          "output_type": "display_data",
          "data": {
            "application/vnd.jupyter.widget-view+json": {
              "model_id": "b31760d66587411bbc5c5387b1dd5fbc",
              "version_minor": 0,
              "version_major": 2
            },
            "text/plain": [
              "HBox(children=(Button(description='Exploit', style=ButtonStyle()), Button(description='NOT Exploit', style=But…"
            ]
          },
          "metadata": {
            "tags": []
          }
        },
        {
          "output_type": "display_data",
          "data": {
            "application/vnd.jupyter.widget-view+json": {
              "model_id": "cce3ac1a53e44c0c8be1ad866ac1d8fb",
              "version_minor": 0,
              "version_major": 2
            },
            "text/plain": [
              "Output()"
            ]
          },
          "metadata": {
            "tags": []
          }
        },
        {
          "output_type": "stream",
          "text": [
            "Annotation done.\n"
          ],
          "name": "stdout"
        }
      ]
    },
    {
      "cell_type": "code",
      "metadata": {
        "id": "52_g_J49jhzk"
      },
      "source": [
        "# ラベル付けしたデータセットはJSONなので、行列に変換\n",
        "dataset = pd.DataFrame(annotations.items(), columns=['index', 'label'])\n",
        "\n",
        "# ツイート本文とURLの列をスクレイピング結果の行列からコピー\n",
        "dataset['TweetText'] = data['TweetText']\n",
        "dataset['URL'] = data['URL']"
      ],
      "execution_count": null,
      "outputs": []
    },
    {
      "cell_type": "code",
      "metadata": {
        "colab": {
          "base_uri": "https://localhost:8080/",
          "height": 498
        },
        "id": "6mESJ_X9YoNv",
        "outputId": "688a6a9e-9275-4f08-ff5b-bfd466aee784"
      },
      "source": [
        "dataset"
      ],
      "execution_count": null,
      "outputs": [
        {
          "output_type": "execute_result",
          "data": {
            "text/html": [
              "<div>\n",
              "<style scoped>\n",
              "    .dataframe tbody tr th:only-of-type {\n",
              "        vertical-align: middle;\n",
              "    }\n",
              "\n",
              "    .dataframe tbody tr th {\n",
              "        vertical-align: top;\n",
              "    }\n",
              "\n",
              "    .dataframe thead th {\n",
              "        text-align: right;\n",
              "    }\n",
              "</style>\n",
              "<table border=\"1\" class=\"dataframe\">\n",
              "  <thead>\n",
              "    <tr style=\"text-align: right;\">\n",
              "      <th></th>\n",
              "      <th>index</th>\n",
              "      <th>label</th>\n",
              "      <th>TweetText</th>\n",
              "      <th>URL</th>\n",
              "    </tr>\n",
              "  </thead>\n",
              "  <tbody>\n",
              "    <tr>\n",
              "      <th>0</th>\n",
              "      <td>0</td>\n",
              "      <td>NOT Exploit</td>\n",
              "      <td>OL : L'exploit face à Man City élu match de l'année ! - https://t.co/Ih2fyz2b9j https://t.co/JPbXdxYUVl #OL #TeamOL #Gones</td>\n",
              "      <td>https://t.co/Ih2fyz2b9j</td>\n",
              "    </tr>\n",
              "    <tr>\n",
              "      <th>1</th>\n",
              "      <td>1</td>\n",
              "      <td>NOT Exploit</td>\n",
              "      <td>Republican efforts to undermine Biden victory expose growing anti-democratic streak https://t.co/h8r9kOXBuY CONGRESS HAVE TO PASS LAWS THAT WILL REQUIRE PROOF OF CHARGES AND A HARSH PENALTY FOR THOSE THAT WISH TO EXPLOIT THIS SITUATION AGAIN, IF THEY LOSE FOR PROTECTION!!</td>\n",
              "      <td>https://t.co/h8r9kOXBuY</td>\n",
              "    </tr>\n",
              "    <tr>\n",
              "      <th>2</th>\n",
              "      <td>2</td>\n",
              "      <td>NOT Exploit</td>\n",
              "      <td>The scattershot efforts to overturn President-elect Joe Biden's election victory are coalescing into a movement led by top Republicans determined to exploit a manufactured crisis for broader political gains.\\n    \\n https://t.co/BubYeURzb2</td>\n",
              "      <td>https://t.co/BubYeURzb2</td>\n",
              "    </tr>\n",
              "    <tr>\n",
              "      <th>3</th>\n",
              "      <td>3</td>\n",
              "      <td>NOT Exploit</td>\n",
              "      <td>@MSNBC Only goes to show, how #DonaldTrump will ever continue to exploit his personal assessment of the #RepublicanParty @GOP; nuff said!\\n\\nhttps://t.co/PwzukzW05L</td>\n",
              "      <td>https://t.co/PwzukzW05L</td>\n",
              "    </tr>\n",
              "    <tr>\n",
              "      <th>4</th>\n",
              "      <td>4</td>\n",
              "      <td>NOT Exploit</td>\n",
              "      <td>@MSNBC Only goes to show, how #DonaldTrump will ever continue to exploit his personal assessment of the #RepublicanParty @GOP; nuff said!\\n\\nhttps://t.co/PwzukzW05L</td>\n",
              "      <td>https://t.co/PwzukzW05L</td>\n",
              "    </tr>\n",
              "    <tr>\n",
              "      <th>5</th>\n",
              "      <td>5</td>\n",
              "      <td>NOT Exploit</td>\n",
              "      <td>exploit frictionless #supply-chains with #domains \\n💰 Buy #domain #covid #lockdown https://t.co/qTvwSQLAvj https://t.co/aScsQgLhMq https://t.co/CyVH9mIsUy</td>\n",
              "      <td>https://t.co/qTvwSQLAvj</td>\n",
              "    </tr>\n",
              "    <tr>\n",
              "      <th>6</th>\n",
              "      <td>6</td>\n",
              "      <td>NOT Exploit</td>\n",
              "      <td>#DeFi insurer @CoverProtocol was exploited for $4.4 million this week — raising concerns about investor protection. Learn more about the state of decentralized insurance in this week's edition of DeFi Digest👇\\nhttps://t.co/hlS98EtpPw https://t.co/4aOfLWedf8</td>\n",
              "      <td>https://t.co/hlS98EtpPw</td>\n",
              "    </tr>\n",
              "    <tr>\n",
              "      <th>7</th>\n",
              "      <td>7</td>\n",
              "      <td>NOT Exploit</td>\n",
              "      <td>Thanks for TAB message format. I did some exploit? https://t.co/SZUogOi0Lj https://t.co/JkK0MqRjL8 and not support</td>\n",
              "      <td>https://t.co/SZUogOi0Lj</td>\n",
              "    </tr>\n",
              "    <tr>\n",
              "      <th>8</th>\n",
              "      <td>8</td>\n",
              "      <td>NOT Exploit</td>\n",
              "      <td>I ruin credit scores, marriages &amp;amp; manipulate weak men for fun, I like to  exploit their weaknesses for Me &amp;amp; then leave them high &amp;amp; dry.\\n\\nKeep sending until you're broke. \\nhttps://t.co/NYQPND6xUo https://t.co/MylCf74B7I</td>\n",
              "      <td>https://t.co/NYQPND6xUo</td>\n",
              "    </tr>\n",
              "  </tbody>\n",
              "</table>\n",
              "</div>"
            ],
            "text/plain": [
              "   index  ...                      URL\n",
              "0      0  ...  https://t.co/Ih2fyz2b9j\n",
              "1      1  ...  https://t.co/h8r9kOXBuY\n",
              "2      2  ...  https://t.co/BubYeURzb2\n",
              "3      3  ...  https://t.co/PwzukzW05L\n",
              "4      4  ...  https://t.co/PwzukzW05L\n",
              "5      5  ...  https://t.co/qTvwSQLAvj\n",
              "6      6  ...  https://t.co/hlS98EtpPw\n",
              "7      7  ...  https://t.co/SZUogOi0Lj\n",
              "8      8  ...  https://t.co/NYQPND6xUo\n",
              "\n",
              "[9 rows x 4 columns]"
            ]
          },
          "metadata": {
            "tags": []
          },
          "execution_count": 12
        }
      ]
    },
    {
      "cell_type": "code",
      "metadata": {
        "id": "pmvlP6-0iBtg"
      },
      "source": [
        "dataset.to_csv('dataset.csv', index=False)"
      ],
      "execution_count": null,
      "outputs": []
    }
  ]
}